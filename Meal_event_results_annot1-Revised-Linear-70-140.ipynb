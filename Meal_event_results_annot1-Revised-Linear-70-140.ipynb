{
 "cells": [
  {
   "cell_type": "code",
   "execution_count": 1,
   "id": "fc7a5fe6",
   "metadata": {},
   "outputs": [],
   "source": [
    "import numpy as np\n",
    "import matplotlib.pyplot as plt\n",
    "import pandas as pd\n",
    "import datetime\n",
    "import os\n",
    "from sklearn.preprocessing import MinMaxScaler\n",
    "import scipy.io as sio\n",
    "import datetime\n",
    "import numpy as np\n",
    "import matplotlib.pyplot as plt\n",
    "import pandas as pd\n",
    "import datetime\n",
    "import os\n",
    "import scipy.io as sio\n",
    "import datetime\n",
    "import plotly\n",
    "from plotly.subplots import make_subplots\n",
    "import plotly.graph_objects as go\n",
    "from scipy import stats\n",
    "from statsmodels.stats.multicomp import pairwise_tukeyhsd\n",
    "import scikit_posthocs as sp\n",
    "from scipy.stats import iqr\n",
    "from scipy.stats import wilcoxon, spearmanr\n",
    "from statsmodels.stats.descriptivestats import sign_test\n",
    "import calendar\n",
    "import warnings\n",
    "warnings.filterwarnings('ignore')\n",
    "from pymatch.Matcher import Matcher"
   ]
  },
  {
   "cell_type": "code",
   "execution_count": 2,
   "id": "18e35ca4",
   "metadata": {},
   "outputs": [],
   "source": [
    "# !pip install -q rpy2\n",
    "packnames = ('lme4', 'lmerTest', 'emmeans', \"geepack\", \"cobalt\", \"mclogit\", \"lsmeans\", \"pbkrtest\")\n",
    "from rpy2.robjects.packages import importr\n",
    "from rpy2.robjects.vectors import StrVector\n",
    "# utils = importr(\"utils\")\n",
    "# utils.chooseCRANmirror(ind=1)\n",
    "# utils.install_packages(StrVector(packnames))"
   ]
  },
  {
   "cell_type": "code",
   "execution_count": 3,
   "id": "e44a723c",
   "metadata": {},
   "outputs": [],
   "source": [
    "def f_acti(x):\n",
    "    if (x >= 6) and (x <= 12):\n",
    "        return 'Morning'\n",
    "    elif (x >12) and (x <= 18 ):\n",
    "        return 'Afternoon'\n",
    "    elif (x > 18) and (x <= 24 ):\n",
    "        return 'Evening'\n",
    "\n",
    "def auc (cgm_val, idx0, t1, min_t_diff):\n",
    "    \n",
    "    idx_f = idx0 + t1\n",
    "    \n",
    "    cgm_diff = cgm_val[idx_f: idx_f+9] - cgm_val[idx_f]\n",
    "    cgm_diff[cgm_diff<= 0] = 0\n",
    "    auc_f2 = np.trapz(cgm_diff, dx=15)\n",
    "    \n",
    "    cgm_diff = cgm_val[idx_f: idx_f+13] - cgm_val[idx_f]\n",
    "    cgm_diff[cgm_diff<= 0] = 0\n",
    "    auc_f3 = np.trapz(cgm_diff, dx=15)\n",
    "    \n",
    "    \n",
    "    cgm_diff = cgm_val[idx_f: idx_f+17] - cgm_val[idx_f]\n",
    "    cgm_diff[cgm_diff<= 0] = 0\n",
    "    auc_f4 = np.trapz(cgm_diff, dx=15)\n",
    "    \n",
    "    \n",
    "    t2p = np.argmax(cgm_val[idx_f: idx_f+13])*15\n",
    "    maxrise = np.max(cgm_val[idx_f: idx_f+13]) - cgm_val[idx_f]\n",
    "    \n",
    "    maxval = np.max(cgm_val[idx_f: idx_f+13])\n",
    "    bval = cgm_val[idx_f]\n",
    "    \n",
    "    if (np.max(cgm_val[idx_f: idx_f+13]) >=500) or (np.min(cgm_val[idx_f: idx_f+13]) <= 40) or (len(cgm_val[idx_f: idx_f+13])!= 13) or (min_t_diff >= (15/(24*60))):\n",
    "        return -1, -1, -1, -1, -1, -1, -1,\n",
    "    \n",
    "    else:\n",
    "    \n",
    "        \n",
    "        return auc_f2, auc_f3, auc_f4, t2p, maxrise, maxval, bval, \n",
    "    \n",
    "\n",
    "\n",
    "\n",
    "\n",
    "\n",
    "def f_hungerlogcorr(x):\n",
    "    if x >= 0 and x <= 5 :\n",
    "        \n",
    "        return 'prev'\n",
    "    \n",
    "    elif x > 5 and x <= 18:\n",
    "        \n",
    "        return 'drop'\n",
    "    \n",
    "    else:\n",
    "        return 'same'\n",
    "        "
   ]
  },
  {
   "cell_type": "code",
   "execution_count": 4,
   "id": "130dc8a2",
   "metadata": {},
   "outputs": [],
   "source": [
    "plot = False\n",
    "a1c = np.array([7.7,6,6.3,6.4,6.3,5.6,8.9,12.3,5.2,5.4,8.4,5.9,5.5,5.3,6.5,6.6,\n",
    "       5.4,5.9,10.9,5.6,5,12.4,7.8,6.5,5.7,5.9,6.7,6.1,5.3,7,5.5,5.4,10.4,6.9,5.6,5.5])\n",
    "\n",
    "main_folder = '/Users/amrutapai/Library/CloudStorage/Box-Box/SDRI Datasets/SDRI-Rice Digital-Health-Study/'\n",
    "df_cor_labels = pd.read_csv(os.path.join(main_folder, 'final_times_revis.csv'))\n",
    "df_cor_labels = df_cor_labels[(df_cor_labels['time_final'] >= 4) & (df_cor_labels['time_final'] <= 24)].reset_index(drop=True)\n",
    "df_cor_labels['datetime'] = [datetime.datetime.strptime(df_cor_labels['date'].values[i],'%m/%d/%y') for i in range(len(df_cor_labels['date'].values))] \n"
   ]
  },
  {
   "cell_type": "code",
   "execution_count": 5,
   "id": "1e59660a",
   "metadata": {},
   "outputs": [
    {
     "name": "stdout",
     "output_type": "stream",
     "text": [
      "-----------------------------------------------------------------------------------------------\n",
      "1\n",
      "-----------------------------------------------------------------------------------------------\n",
      "2\n",
      "-----------------------------------------------------------------------------------------------\n",
      "3\n",
      "-----------------------------------------------------------------------------------------------\n",
      "4\n",
      "-----------------------------------------------------------------------------------------------\n",
      "5\n",
      "-----------------------------------------------------------------------------------------------\n",
      "6\n",
      "-----------------------------------------------------------------------------------------------\n",
      "7\n",
      "-----------------------------------------------------------------------------------------------\n",
      "8\n",
      "-----------------------------------------------------------------------------------------------\n",
      "9\n",
      "-----------------------------------------------------------------------------------------------\n",
      "10\n",
      "-----------------------------------------------------------------------------------------------\n",
      "11\n",
      "-----------------------------------------------------------------------------------------------\n",
      "12\n",
      "-----------------------------------------------------------------------------------------------\n",
      "13\n",
      "-----------------------------------------------------------------------------------------------\n",
      "14\n",
      "-----------------------------------------------------------------------------------------------\n",
      "15\n",
      "-----------------------------------------------------------------------------------------------\n",
      "16\n",
      "-----------------------------------------------------------------------------------------------\n",
      "17\n",
      "-----------------------------------------------------------------------------------------------\n",
      "18\n",
      "-----------------------------------------------------------------------------------------------\n",
      "19\n",
      "-----------------------------------------------------------------------------------------------\n",
      "20\n",
      "-----------------------------------------------------------------------------------------------\n",
      "21\n",
      "-----------------------------------------------------------------------------------------------\n",
      "22\n",
      "-----------------------------------------------------------------------------------------------\n",
      "23\n",
      "-----------------------------------------------------------------------------------------------\n",
      "24\n",
      "-----------------------------------------------------------------------------------------------\n",
      "25\n",
      "-----------------------------------------------------------------------------------------------\n",
      "26\n",
      "-----------------------------------------------------------------------------------------------\n",
      "27\n",
      "-----------------------------------------------------------------------------------------------\n",
      "28\n",
      "-----------------------------------------------------------------------------------------------\n",
      "29\n",
      "-----------------------------------------------------------------------------------------------\n",
      "30\n",
      "-----------------------------------------------------------------------------------------------\n",
      "31\n",
      "-----------------------------------------------------------------------------------------------\n",
      "32\n",
      "-----------------------------------------------------------------------------------------------\n",
      "33\n",
      "-----------------------------------------------------------------------------------------------\n",
      "34\n",
      "-----------------------------------------------------------------------------------------------\n",
      "35\n",
      "-----------------------------------------------------------------------------------------------\n",
      "36\n",
      "1584\n"
     ]
    }
   ],
   "source": [
    "\n",
    "df_all = pd.DataFrame()\n",
    "for i, pc in enumerate(range(1, 37,1)):\n",
    "    print(\"-----------------------------------------------------------------------------------------------\")\n",
    "    print(pc)\n",
    "\n",
    "    \n",
    "    if 1:\n",
    "        if len(str(pc)) == 1:\n",
    "                nm = '00'+ str(pc)\n",
    "        else:\n",
    "                nm = '0'+ str(pc)\n",
    "\n",
    "        pct_name = 'digh01'+ nm \n",
    "        \n",
    "        \n",
    "        \n",
    "        for filename in os.listdir(os.path.join(main_folder, pct_name)):\n",
    "            \n",
    "            if filename.startswith(\"CGM\"):\n",
    "                cgm_filename = filename\n",
    "          \n",
    "                \n",
    "        df = pd.read_csv(os.path.join(main_folder,pct_name,cgm_filename), skiprows=[0,1]) \n",
    "        df_cgm = pd.DataFrame(columns=['datetime','glucose'])\n",
    "        df_cgm['datetime'] = [datetime.datetime.strptime(df['Device Timestamp'].values[i], \n",
    "                                                     '%m/%d/%Y %H:%M') \n",
    "                          for i in range(len(df['Device Timestamp'].values))]\n",
    "\n",
    "        df_cgm['glucose'] = df['Historic Glucose mg/dL']\n",
    "        df_cgm ['datetime'] = df_cgm ['datetime']\n",
    "        df_day = df_cgm ['datetime'].dt.date\n",
    "        time_axis = df_cgm['datetime'].dt.hour + (df_cgm['datetime'].dt.minute / 60)\n",
    "        \n",
    "        \n",
    "         \n",
    "        for filename in os.listdir(os.path.join(main_folder, pct_name, 'Actigraph_DigH01-'+pct_name[-3:])):\n",
    "            if filename.endswith(\"HourlyDetailed.csv\"):\n",
    "                acti_filename = filename\n",
    "                \n",
    "#         df = pd.read_csv(os.path.join(main_folder, pct_name, 'Actigraph_DigH01-'+pct_name[-3:], acti_filename)) \n",
    "#         df_acti = pd.DataFrame(columns=['datetime','kcals out','stepcount', 'hour'])\n",
    "#         df_acti['datetime'] = [ datetime.datetime.strptime(\n",
    "#             [df['Date'][i]+' '+df['Hour'][i] for i in range(len(df))][j], '%m/%d/%Y %I:%M %p') \n",
    "#                                for j in range(len(df))]\n",
    "#         df_acti['kcals out'] = df['kcals']                                                   \n",
    "#         df_acti['stepcount'] = df['Steps Counts']\n",
    "#         df_acti['hour'] =  df_acti['datetime'].dt.hour.apply(f_acti)\n",
    "#         df_acti['hrs'] =  df_acti['datetime'].dt.hour\n",
    "\n",
    "#         df_acti['datetime'] = df_acti['datetime'].dt.date\n",
    "#         df_day_acti = df_acti ['datetime']\n",
    "        \n",
    "        \n",
    "        for dt_nm in np.unique(df_day):\n",
    "            \n",
    "            \n",
    "        \n",
    "        \n",
    "            fd_corr = df_cor_labels[(df_cor_labels['uid'] == pc) & (\n",
    "                                    df_cor_labels['datetime'].dt.date == dt_nm)].reset_index(\n",
    "                            drop=True)['time_final'].values\n",
    "\n",
    "            \n",
    "            fd_all = fd_corr\n",
    "#             print(fd_corr)\n",
    "#             print(fd_corr_big3)\n",
    "#             print(fd_all)\n",
    "#             print('___')\n",
    "\n",
    "            \n",
    "\n",
    "\n",
    "            idx_cgm = np.where(df_day == dt_nm)[0]\n",
    "            cgm_val = df_cgm['glucose'].values[idx_cgm]\n",
    "            tir = 100*len(np.where( (df_cgm['glucose'].values[idx_cgm]<= 140) & (df_cgm['glucose'].values[idx_cgm]>=70))[0])/ len(idx_cgm)\n",
    "            \n",
    "#             if len(cgm_val) < 90:\n",
    "                \n",
    "#                 continue\n",
    "              \n",
    "                \n",
    "            if plot==True:\n",
    "                \n",
    "                plt.figure(figsize=[7,3])\n",
    "                plt.plot(time_axis[idx_cgm], df_cgm['glucose'].values[idx_cgm],  'b*-')\n",
    "            \n",
    "#             n_add = 0\n",
    "            \n",
    "            \n",
    "#             stps = np.where((df_acti['datetime']==dt_nm))[0]\n",
    "                \n",
    "            \n",
    "            if len(fd_all) >= 1:\n",
    "                \n",
    "\n",
    "                    \n",
    "                    \n",
    "                for fd_min_ix, fd_min in enumerate((fd_all)):\n",
    "\n",
    "                    cgm_time_dec = (np.array([v*60 for v in df_cgm['datetime'].dt.hour.values[idx_cgm]]) + np.array([v for v in df_cgm['datetime'].dt.minute.values[idx_cgm]]))/(24*60)\n",
    "                    t_diff = np.abs(cgm_time_dec -  (fd_min/24))\n",
    "                    idx_min = np.argmin(t_diff)\n",
    "                    idx_f = idx_cgm[0] + idx_min\n",
    "                    baseline = np.mean(cgm_val[(cgm_time_dec < 5/24) & (cgm_time_dec > 0/24)])\n",
    "\n",
    "                    auc_f2, auc_f3, auc_f4, t2p, peak_val, maxval, bval  = auc(df_cgm['glucose'].values, idx_cgm[0], idx_f - idx_cgm[0], np.min(t_diff))\n",
    "\n",
    "                    if plot==True:\n",
    "                        plt.plot(time_axis[idx_f : idx_f+13], df_cgm['glucose'].values[idx_f : idx_f+13], 'k*-')\n",
    "    #                             plt.plot(df_cgm['datetime'].values[idx_f : idx_f+17],np.repeat(df_cgm['glucose'].values[idx_f], 17))\n",
    "                        \n",
    "                        \n",
    "                        plt.axvline(x=time_axis[idx_f], c='r')\n",
    "    #                            \n",
    "                        plt.title(pct_name+ \" \"+ dt_nm.strftime('%m/%d/%Y'), fontsize=20)\n",
    "                        plt.xlabel('time of the day (hours)', fontsize=20)\n",
    "                        plt.ylabel('glucose level (mg/dl)', fontsize=20)\n",
    "                        plt.xticks(fontsize= 20)\n",
    "                        plt.yticks(fontsize= 20)\n",
    "\n",
    "                    \n",
    "                                                                                                                                                                                                                                                                                                                                                                                                                                                                                                                                                                                                                                      \n",
    "                        \n",
    "                    if (peak_val>=18.6):\n",
    "                    \n",
    "                    \n",
    "                        df_all = df_all.append({'date':  dt_nm, 'uid':pc, 'a1c': a1c[i],\n",
    "                                                'cgm_val': df_cgm['glucose'].values[idx_cgm], 'auc':auc_f3, 'time': fd_min,\n",
    "                                                'baseline': baseline, 'maxval': maxval, 'maxrise':peak_val,\n",
    "                                                'bval':bval,'t2p':t2p, 'auc2':int(auc_f2),  'auc3':int(auc_f3), 'auc4':int(auc_f4),\n",
    "                                                'tir': tir,\n",
    "                                               },ignore_index=True)\n",
    "#                             n_add = n_add+1\n",
    "                        \n",
    "                   \n",
    "                        \n",
    "            if plot==True:\n",
    "#                 plt.figure(figsize=[8, 3])\n",
    "#                 plt.plot(time_axis[idx_cgm], df_cgm['glucose'].values[idx_cgm],  'b*-')\n",
    "            \n",
    "#                 plt.savefig('/Users/amrutapai/Documents/SDRIpaper1/profiles/'+pct_name+ '-' +str(dt_nm) +'.svg', format='svg')\n",
    "\n",
    "                plt.show()\n",
    "                \n",
    "            \n",
    "# \n",
    "\n",
    "print(len(df_all))"
   ]
  },
  {
   "cell_type": "code",
   "execution_count": 6,
   "id": "ce69e0a0",
   "metadata": {},
   "outputs": [],
   "source": [
    "df_all.to_csv('/Users/amrutapai/Desktop/df_all_final_test1_revis.csv')"
   ]
  },
  {
   "cell_type": "code",
   "execution_count": 7,
   "id": "3fa4a4c0",
   "metadata": {},
   "outputs": [],
   "source": [
    "df_meal = df_all.copy()\n",
    "df_meal = df_meal [(df_meal['a1c'] >= 0) & (df_meal['a1c'] <= 15)]\n",
    "\n",
    "df_auc_group = df_meal.groupby(['uid']).mean()\n",
    "df_auc_group_baseline = df_meal.groupby(['uid', 'date']).mean().reset_index().groupby(['uid']).mean()\n",
    "df_final = df_auc_group\n",
    "df_final['baseline'] = df_auc_group_baseline['baseline']\n",
    "df_final['group'] = df_final['a1c']\n",
    "\n",
    "df_final.loc[df_final['a1c']< 5.7, 'group'] =  'at-risk'\n",
    "df_final.loc[(df_final['a1c']>= 5.7) & (df_final['a1c']<= 6.4), 'group'] =  'pre-T2D'\n",
    "df_final.loc[df_final['a1c']>6.4, 'group'] =  'T2D'\n",
    "\n",
    "df_final = df_final.dropna().reset_index()\n",
    "df_corr_final = df_final.copy()\n",
    "\n",
    "\n"
   ]
  },
  {
   "cell_type": "code",
   "execution_count": 8,
   "id": "4ff13e59",
   "metadata": {},
   "outputs": [
    {
     "name": "stdout",
     "output_type": "stream",
     "text": [
      "(0.6578560233244983, 1.3004176512276195e-05)\n",
      "(0.7161844414622918, 9.044121831381361e-07)\n"
     ]
    }
   ],
   "source": [
    "print(stats.pearsonr(df_corr_final['a1c'], df_corr_final['auc2']))\n",
    "print(stats.pearsonr(df_corr_final['a1c'], df_corr_final['auc3']))"
   ]
  },
  {
   "cell_type": "code",
   "execution_count": 9,
   "id": "936a13c5",
   "metadata": {
    "scrolled": true
   },
   "outputs": [
    {
     "name": "stdout",
     "output_type": "stream",
     "text": [
      "                    Robust linear Model Regression Results                    \n",
      "==============================================================================\n",
      "Dep. Variable:                    a1c   No. Observations:                   36\n",
      "Model:                            RLM   Df Residuals:                       34\n",
      "Method:                          IRLS   Df Model:                            1\n",
      "Norm:                          HuberT                                         \n",
      "Scale Est.:                       mad                                         \n",
      "Cov Type:                          H1                                         \n",
      "Date:                Fri, 17 Nov 2023                                         \n",
      "Time:                        12:02:05                                         \n",
      "No. Iterations:                    24                                         \n",
      "==============================================================================\n",
      "                 coef    std err          z      P>|z|      [0.025      0.975]\n",
      "------------------------------------------------------------------------------\n",
      "const          3.8355      0.288     13.329      0.000       3.271       4.399\n",
      "auc            0.0005   5.32e-05      9.803      0.000       0.000       0.001\n",
      "==============================================================================\n",
      "\n",
      "If the model instance has been used for another fit with different fit parameters, then the fit options might not be the correct ones anymore .\n"
     ]
    },
    {
     "data": {
      "image/png": "[encoded data removed]",
      "text/plain": [
       "<Figure size 432x288 with 1 Axes>"
      ]
     },
     "metadata": {
      "needs_background": "light"
     },
     "output_type": "display_data"
    }
   ],
   "source": [
    "import statsmodels.api as sm\n",
    "import pickle\n",
    "df_corr_final[['aucsq']] = df_corr_final[['auc']].values**2\n",
    "X = df_corr_final[['auc']] \n",
    "Y = df_corr_final['a1c']\n",
    "\n",
    "X = sm.add_constant(X) # adding a constant\n",
    "\n",
    "model1 = sm.RLM(Y, X, M=sm.robust.norms.HuberT()).fit()\n",
    "predictions = model1.predict(X) \n",
    "\n",
    "print_model1 = model1.summary()\n",
    "print(print_model1)\n",
    "\n",
    "plt.figure()\n",
    "plt.scatter(df_corr_final[['auc']].values, df_corr_final['a1c'].values)\n",
    "\n",
    "Xtemp= np.arange(np.min(df_corr_final[['auc']].values), np.max(df_corr_final[['auc']].values)).reshape(-1,1)\n",
    "X=Xtemp\n",
    "# X=np.concatenate([Xtemp, Xtemp**2], axis=1)\n",
    "X = sm.add_constant(X)\n",
    "\n",
    "plt.plot(Xtemp, model1.predict(X), 'k-', linewidth=3)\n",
    "plt.xlabel('$iAUC$ (mg x min/dL)', fontsize=20)\n",
    "plt.ylabel('$HbA_{1c}$', fontsize=20)\n",
    "plt.xticks(fontsize= 20)\n",
    "plt.yticks(fontsize= 20)\n",
    "# plt.savefig('/Users/amrutapai/Documents/SDRIpaper1/regress_revis.svg', format='svg')\n",
    "\n",
    "# thres_found = (5.7 - model1.params['const'])/model1.params['auc']\n",
    "# print('auc threshold found {0}'.format(thres_found))\n",
    "\n",
    "# thres_found1 = (6.5 - model1.params['const'])/model1.params['auc']\n",
    "# print('auc threshold found {0}'.format(thres_found1))\n",
    "\n",
    "filename = 'finalized_model_test1_revis.sav'\n",
    "pickle.dump(model1, open(filename, 'wb'))"
   ]
  },
  {
   "cell_type": "code",
   "execution_count": 10,
   "id": "46ec89cc",
   "metadata": {},
   "outputs": [
    {
     "name": "stdout",
     "output_type": "stream",
     "text": [
      "(0.7161826849746491, 9.044936071021106e-07)\n",
      "0.7983779273192333\n",
      "(0.8767647104266657, 4.732102544751963e-11)\n",
      "0.4114421594990748\n"
     ]
    },
    {
     "data": {
      "text/plain": [
       "(array([ 4.,  5.,  6.,  7.,  8.,  9., 10., 11., 12., 13.]),\n",
       " [Text(0, 0, ''),\n",
       "  Text(0, 0, ''),\n",
       "  Text(0, 0, ''),\n",
       "  Text(0, 0, ''),\n",
       "  Text(0, 0, ''),\n",
       "  Text(0, 0, ''),\n",
       "  Text(0, 0, ''),\n",
       "  Text(0, 0, ''),\n",
       "  Text(0, 0, ''),\n",
       "  Text(0, 0, '')])"
      ]
     },
     "execution_count": 10,
     "metadata": {},
     "output_type": "execute_result"
    },
    {
     "data": {
      "image/png": "[encoded data removed]",
      "text/plain": [
       "<Figure size 432x288 with 1 Axes>"
      ]
     },
     "metadata": {
      "needs_background": "light"
     },
     "output_type": "display_data"
    }
   ],
   "source": [
    "fitted = model1.fittedvalues\n",
    "true = df_corr_final['a1c'].values\n",
    "\n",
    "print(stats.pearsonr(fitted, true))\n",
    "print(np.mean(np.abs(fitted-true)))\n",
    "\n",
    "fitted_n = model1.fittedvalues[df_corr_final['a1c'].values < 10]\n",
    "true_n = df_corr_final['a1c'].values[df_corr_final['a1c'].values < 10]\n",
    "\n",
    "print(stats.pearsonr(fitted_n, true_n))\n",
    "print(np.mean(np.abs(fitted_n-true_n)))\n",
    "\n",
    "\n",
    "plt.scatter(true, fitted)\n",
    "plt.plot(np.arange(5, 13), np.arange(5, 13), 'k--', linewidth=3)\n",
    "plt.xlabel('True $HbA_{1c}$', fontsize=20)\n",
    "plt.ylabel('Fitted $HbA_{1c}$', fontsize=20)\n",
    "plt.xticks(fontsize= 20)\n",
    "plt.yticks(fontsize= 20)\n",
    "# plt.savefig('/Users/amrutapai/Documents/SDRIpaper1/corr_revis.svg', format='svg')\n",
    "\n"
   ]
  },
  {
   "cell_type": "code",
   "execution_count": 11,
   "id": "4f11ab08",
   "metadata": {},
   "outputs": [],
   "source": [
    "def convert_min_15(acti_min, dff_cgm):\n",
    "    \n",
    "    acti = pd.DataFrame()\n",
    "    \n",
    "    \n",
    "    acti['stepcount'] =[np.sum(acti_min.loc[np.where((acti_min['datetime'].values >= dff_cgm['datetime'][i]) & \n",
    "                    (acti_min['datetime'].values < (dff_cgm['datetime'][i]+datetime.timedelta(minutes=15))))[0], 'stepcount'].values) for i in range(len(dff_cgm))] \n",
    "    \n",
    "    acti['kcals out'] =[ np.sum(acti_min.loc[np.where((acti_min['datetime'].values >= dff_cgm['datetime'][i]) & \n",
    "                    (acti_min['datetime'].values < (dff_cgm['datetime'][i]+datetime.timedelta(minutes=15))))[0], 'kcals out'].values) for i in range(len(dff_cgm))] \n",
    "                                         \n",
    "    \n",
    "    acti['datetime'] = dff_cgm['datetime'].values \n",
    "    \n",
    "    return acti\n",
    "    "
   ]
  },
  {
   "cell_type": "code",
   "execution_count": 17,
   "id": "91dfce60",
   "metadata": {
    "scrolled": true
   },
   "outputs": [
    {
     "name": "stdout",
     "output_type": "stream",
     "text": [
      "-----------------------------------------------------------------------------------------------\n",
      "1\n",
      "-----------------------------------------------------------------------------------------------\n",
      "2\n",
      "-----------------------------------------------------------------------------------------------\n",
      "3\n",
      "-----------------------------------------------------------------------------------------------\n",
      "4\n",
      "-----------------------------------------------------------------------------------------------\n",
      "5\n",
      "-----------------------------------------------------------------------------------------------\n",
      "6\n",
      "-----------------------------------------------------------------------------------------------\n",
      "7\n",
      "-----------------------------------------------------------------------------------------------\n",
      "8\n",
      "-----------------------------------------------------------------------------------------------\n",
      "9\n",
      "-----------------------------------------------------------------------------------------------\n",
      "10\n",
      "-----------------------------------------------------------------------------------------------\n",
      "11\n",
      "-----------------------------------------------------------------------------------------------\n",
      "12\n",
      "-----------------------------------------------------------------------------------------------\n",
      "13\n",
      "-----------------------------------------------------------------------------------------------\n",
      "14\n",
      "-----------------------------------------------------------------------------------------------\n",
      "15\n",
      "-----------------------------------------------------------------------------------------------\n",
      "16\n",
      "-----------------------------------------------------------------------------------------------\n",
      "17\n",
      "-----------------------------------------------------------------------------------------------\n",
      "18\n",
      "-----------------------------------------------------------------------------------------------\n",
      "19\n",
      "-----------------------------------------------------------------------------------------------\n",
      "20\n",
      "-----------------------------------------------------------------------------------------------\n",
      "21\n",
      "-----------------------------------------------------------------------------------------------\n",
      "22\n",
      "-----------------------------------------------------------------------------------------------\n",
      "23\n",
      "-----------------------------------------------------------------------------------------------\n",
      "24\n",
      "-----------------------------------------------------------------------------------------------\n",
      "25\n",
      "-----------------------------------------------------------------------------------------------\n",
      "26\n",
      "-----------------------------------------------------------------------------------------------\n",
      "27\n",
      "-----------------------------------------------------------------------------------------------\n",
      "28\n",
      "-----------------------------------------------------------------------------------------------\n",
      "29\n",
      "-----------------------------------------------------------------------------------------------\n",
      "30\n",
      "-----------------------------------------------------------------------------------------------\n",
      "31\n",
      "-----------------------------------------------------------------------------------------------\n",
      "32\n",
      "-----------------------------------------------------------------------------------------------\n",
      "33\n",
      "-----------------------------------------------------------------------------------------------\n",
      "34\n",
      "-----------------------------------------------------------------------------------------------\n",
      "35\n",
      "-----------------------------------------------------------------------------------------------\n",
      "36\n",
      "369\n"
     ]
    }
   ],
   "source": [
    "n_meals_across = []\n",
    "plot=False\n",
    "main_folder = '/Users/amrutapai/Library/CloudStorage/Box-Box/SDRI Datasets/SDRI-Rice Digital-Health-Study/'\n",
    "df_cor_labels = pd.read_csv(os.path.join(main_folder, 'final_times_revis.csv'))\n",
    "df_cor_labels = df_cor_labels[(df_cor_labels['time_final'] >= 4) & (df_cor_labels['time_final'] <= 24)].reset_index(drop=True)\n",
    "df_cor_labels['datetime'] = [datetime.datetime.strptime(df_cor_labels['date'].values[i],'%m/%d/%y') for i in range(len(df_cor_labels['date'].values))] \n",
    "\n",
    "\n",
    "\n",
    "\n",
    "df_all_day = pd.DataFrame()\n",
    "for i, pc in enumerate(np.arange(1, 37,1)):\n",
    "    print(\"-----------------------------------------------------------------------------------------------\")\n",
    "    print(pc)\n",
    "     \n",
    "    \n",
    "    if 1:\n",
    "        if len(str(pc)) == 1:\n",
    "                nm = '00'+ str(pc)\n",
    "        else:\n",
    "                nm = '0'+ str(pc)\n",
    "\n",
    "        pct_name = 'digh01'+ nm \n",
    "        \n",
    "        \n",
    "        \n",
    "        for filename in os.listdir(os.path.join(main_folder, pct_name)):\n",
    "            \n",
    "            if filename.startswith(\"CGM\"):\n",
    "                cgm_filename = filename\n",
    "          \n",
    "                \n",
    "        df = pd.read_csv(os.path.join(main_folder,pct_name,cgm_filename), skiprows=[0,1]) \n",
    "        df_cgm = pd.DataFrame(columns=['datetime','glucose'])\n",
    "        df_cgm['datetime'] = [datetime.datetime.strptime(df['Device Timestamp'].values[i], \n",
    "                                                     '%m/%d/%Y %H:%M') \n",
    "                          for i in range(len(df['Device Timestamp'].values))]\n",
    "\n",
    "        df_cgm['glucose'] = df['Historic Glucose mg/dL']\n",
    "        df_day = df_cgm ['datetime'].dt.date\n",
    "        time_axis = df_cgm['datetime'].dt.hour + (df_cgm['datetime'].dt.minute / 60)\n",
    "        \n",
    "        cgm_ylim_min = np.min(df_cgm['glucose'].values)\n",
    "        cgm_ylim_max = np.max(df_cgm['glucose'].values)\n",
    "        \n",
    "        \n",
    "         \n",
    "        for filename in os.listdir(os.path.join(main_folder, pct_name, 'Actigraph_DigH01-'+pct_name[-3:])):\n",
    "                    if \"AGD Details Epochs\" in filename:\n",
    "                        acti_filename = filename\n",
    "\n",
    "        df = pd.read_csv(os.path.join(main_folder, pct_name, 'Actigraph_DigH01-'+pct_name[-3:], acti_filename), skiprows=[0]) \n",
    "        df_acti_min = pd.DataFrame(columns=['datetime','kcals out','stepcount'])\n",
    "        df_acti_min['datetime'] = [ datetime.datetime.strptime(\n",
    "            df['date'][j]+' '+df['epoch'][j], '%m/%d/%Y %I:%M:%S %p') for j in range(len(df))]\n",
    "        df_acti_min['kcals out'] = df['kcals']                                                   \n",
    "        df_acti_min['stepcount'] = df['steps']\n",
    "        df_acti_min['hrs'] =  df_acti_min['datetime'].dt.hour\n",
    "        \n",
    "        df_acti = convert_min_15(df_acti_min, df_cgm)\n",
    "        \n",
    "        df_day_acti = df_acti['datetime'].dt.date\n",
    "#         time_axis_acti = df_acti['datetime'].dt.hour + (df_acti['datetime'].dt.minute / 60)\n",
    "        \n",
    "       \n",
    "        \n",
    "        for dt_nm in np.unique(df_day):\n",
    "            \n",
    "            idx_cgm = np.where(df_day == dt_nm)[0]\n",
    "            cgm_val = df_cgm['glucose'].values[idx_cgm]\n",
    "            time_axis = df_cgm['datetime'].dt.hour + (df_cgm['datetime'].dt.minute / 60)\n",
    "            time_axis_acti = df_acti['datetime'].dt.hour + (df_acti['datetime'].dt.minute / 60)\n",
    "            \n",
    "            time_axis[idx_cgm[-1]+1:] = time_axis[idx_cgm[-1]+1:] + 24\n",
    "            time_axis_acti[idx_cgm[-1]+1:] = time_axis_acti[idx_cgm[-1]+1:] + 24\n",
    "        \n",
    "        \n",
    "            fd_corr = df_cor_labels[(df_cor_labels['uid'] == pc) & (\n",
    "                                    df_cor_labels['datetime'].dt.date == dt_nm)].reset_index(\n",
    "                            drop=True)['time_final'].values\n",
    "\n",
    "            \n",
    "            fd_all = np.sort(fd_corr)\n",
    "            \n",
    "#             print(fd_corr)\n",
    "#             print(fd_corr_big3)\n",
    "           \n",
    "            \n",
    "            \n",
    "\n",
    "           \n",
    "            \n",
    "            \n",
    "            if (len(cgm_val)) < 90 or (len(np.where(cgm_val >= 500)[0]) >= 1) or (len(np.where(cgm_val <= 40)[0]) >= 1):\n",
    "                \n",
    "                continue\n",
    "              \n",
    "                \n",
    "           \n",
    "                \n",
    "            \n",
    "#             n_add = 0\n",
    "            \n",
    "            \n",
    "            stps = np.where((df_acti_min['datetime'].dt.date==dt_nm) & (df_acti_min['datetime'].dt.hour >= 4))[0]\n",
    "            \n",
    "            \n",
    "            n_meals_across.append(len(fd_all))\n",
    "            \n",
    "            \n",
    "               \n",
    "            \n",
    "            if  len(fd_all) >= 1 and len(stps) >= 10*60:\n",
    "                \n",
    "                act_star_ind = np.where((df_acti_min['datetime'].dt.date==dt_nm) &(df_acti_min['stepcount']>=0) & (df_acti_min['datetime'].dt.hour >=4))[0][0]\n",
    "                act_start = df_acti_min['datetime'].dt.hour[act_star_ind] + (df_acti_min['datetime'].dt.minute[act_star_ind]/ 60)\n",
    "                \n",
    "                act_end_ind = np.where((df_acti_min['datetime'].dt.date==dt_nm) &(df_acti_min['stepcount']>=0) & (df_acti_min['datetime'].dt.hour >=4))[0][-1]\n",
    "                act_end = df_acti_min['datetime'].dt.hour[act_end_ind] + (df_acti_min['datetime'].dt.minute[act_end_ind]/ 60)\n",
    "                \n",
    "                \n",
    "                start_time = np.min([act_start, np.min(fd_all)])\n",
    "                end_time = np.max([act_end, (np.max(fd_all)+3)])\n",
    "                \n",
    "#                 len(fd_all) >= 1 and np.min(fd_all) <= 12\n",
    "                \n",
    "                \n",
    "                if plot==True:\n",
    "                    fig, axs = plt.subplots(2, figsize=[8, 3], sharex=True)\n",
    "                    axs[0].plot(time_axis[idx_cgm[0]: idx_cgm[-1]+13], df_cgm['glucose'].values[idx_cgm[0]: idx_cgm[-1]+13],  'b*-')\n",
    "\n",
    "                \n",
    "                auc_all = []\n",
    "                \n",
    "\n",
    "\n",
    "                for fd_min_ix, fd_min in enumerate(fd_all):\n",
    "\n",
    "                    cgm_time_dec = (np.array([v*60 for v in df_cgm['datetime'].dt.hour.values[idx_cgm]]) + np.array([v for v in df_cgm['datetime'].dt.minute.values[idx_cgm]]))/(24*60)\n",
    "                    t_diff = np.abs(cgm_time_dec -  (fd_min/24))\n",
    "                    idx_min = np.argmin(t_diff)\n",
    "                    idx_f = idx_cgm[0] + idx_min\n",
    "                    baseline = np.mean(cgm_val[(cgm_time_dec < 5/24) & (cgm_time_dec > 0/24)])\n",
    "\n",
    "                    auc_f2, auc_f3, auc_f4, t2p, peak_val, maxval, bval  = auc(df_cgm['glucose'].values, idx_cgm[0], idx_f - idx_cgm[0], np.min(t_diff))\n",
    "\n",
    "                    \n",
    "                    auc_all.append(auc_f3)\n",
    "                    \n",
    "                    \n",
    "                    \n",
    "                    \n",
    "                    if plot==True:\n",
    "                        axs[0].plot(time_axis[idx_f : idx_f+13], df_cgm['glucose'].values[idx_f : idx_f+13], 'k*-')\n",
    "                        axs[0].axvline(x=time_axis[idx_f], c='k')\n",
    "                    \n",
    "                    \n",
    "#                 top3_ind = np.argsort(auc_all)\n",
    "        \n",
    "                \n",
    "#                 top3_ind_by_time = np.argsort(fd_all[top3_ind[-3:]])\n",
    "                \n",
    "                \n",
    "                fd_min = start_time\n",
    "                cgm_time_dec = (np.array([v*60 for v in df_cgm['datetime'].dt.hour.values[idx_cgm]]) + np.array([v for v in df_cgm['datetime'].dt.minute.values[idx_cgm]]))/(24*60)\n",
    "                t_diff = np.abs(cgm_time_dec -  (fd_min/24))\n",
    "                idx_min = np.argmin(t_diff)\n",
    "                idx_f = idx_cgm[0] + idx_min   \n",
    "                idx_start = idx_f \n",
    "               \n",
    "                if end_time < 24:\n",
    "\n",
    "                    fd_min = end_time\n",
    "                    cgm_time_dec = (np.array([v*60 for v in df_cgm['datetime'].dt.hour.values[idx_cgm]]) + np.array([v for v in df_cgm['datetime'].dt.minute.values[idx_cgm]]))/(24*60)\n",
    "                    t_diff = np.abs(cgm_time_dec -  (fd_min/24))\n",
    "                    idx_min = np.argmin(t_diff)\n",
    "                    idx_f = idx_cgm[0] + idx_min   \n",
    "                    idx_end = idx_f \n",
    "                    \n",
    "                    \n",
    "                else:\n",
    "                    idx_cgm_n = np.where(df_day == (dt_nm + datetime.timedelta(days=1)))[0]\n",
    "                    fd_min = end_time - 24\n",
    "                    cgm_time_dec_n = (np.array([v*60 for v in df_cgm['datetime'].dt.hour.values[idx_cgm_n]]) + np.array([v for v in df_cgm['datetime'].dt.minute.values[idx_cgm_n]]))/(24*60)\n",
    "                    t_diff = np.abs(cgm_time_dec_n -  (fd_min/24))\n",
    "                    idx_min = np.argmin(t_diff)\n",
    "                    idx_f = idx_cgm_n[0] + idx_min   \n",
    "                    idx_end = idx_f \n",
    "                    \n",
    "                    \n",
    "                \n",
    "                stps_1 = np.arange(idx_start, idx_end)\n",
    "                \n",
    "                \n",
    "#                 activity_con = np.sum(df_acti.loc[stps_1, 'stepcount']) if np.sum(df_acti.loc[stps_1, 'stepcount'])< 20000 else 20000\n",
    "                \n",
    "                activity_con = np.sum(df_acti.loc[stps_1, 'stepcount']) \n",
    "        \n",
    "#                 if activity_con/1000 >=30:\n",
    "#                     continue\n",
    "                \n",
    "                if activity_con>=5000:\n",
    "                    \n",
    "                    activity_class = 1\n",
    "                    \n",
    "                else:\n",
    "                    \n",
    "                    activity_class = 0\n",
    "                    \n",
    "                \n",
    "                if a1c[i] < 5.7:\n",
    "                    st = 'at-risk'\n",
    "                    \n",
    "#                     auc_all_class = [1 if model1.predict(np.array([1, s, s**2])) >= 5.7 else 0 for s in auc_all]\n",
    "                    auc_all_class = [1 if model1.predict(np.array([1, s])) >= 5.7 else 0 for s in auc_all]\n",
    "                    \n",
    "                elif a1c[i] >= 5.7 and a1c[i] <= 6.4:\n",
    "\n",
    "                    st = 'pre-T2D'\n",
    "#                     auc_all_class = [1 if model1.predict(np.array([1, s, s**2])) >= 5.7 else 0 for s in auc_all]\n",
    "                    auc_all_class = [1 if model1.predict(np.array([1, s])) >= 5.7 else 0 for s in auc_all]\n",
    "                else:\n",
    "\n",
    "                    st = 'T2D'\n",
    "#                     auc_all_class = [1 if model1.predict(np.array([1, s, s**2])) >= 6.5 else 0 for s in auc_all]\n",
    "                    auc_all_class = [1 if model1.predict(np.array([1, s])) >= 6.5 else 0 for s in auc_all]\n",
    "                \n",
    "    \n",
    "# #                 print(idx_start)\n",
    "# #                 print(idx_end)\n",
    "                tir = 100*len(np.where( (df_cgm['glucose'].values[(idx_start):(idx_end+1)]<= 140) & (df_cgm['glucose'].values[(idx_start):(idx_end+1)]>=70))[0])/((idx_end+1)-(idx_start))\n",
    "                avgG = np.mean(df_cgm['glucose'].values[(idx_start):(idx_end+1)])\n",
    "\n",
    "        \n",
    "                if plot==True:\n",
    "                \n",
    "#                     axs[0].axvline(x=time_axis[idx_start], c='k')           \n",
    "                    fig.suptitle(pct_name+ \" \"+ dt_nm.strftime('%m/%d/%Y'), fontsize=20)\n",
    "#                     axs[1].set_xlabel('time of the day (hours)', fontsize=20)\n",
    "#                     axs[0].set_ylabel('glucose level (mg/dl)', fontsize=20)\n",
    "                    axs[1].bar(time_axis_acti[idx_cgm[0]:(idx_cgm[-1]+13)],df_acti['stepcount'].values[idx_cgm[0]:(idx_cgm[-1]+13)], width=0.23)\n",
    "#                     axs[1].set_ylabel('activity stepcount (steps)', fontsize=20)\n",
    "#                     axs[0].xticks(fontsize= 20)\n",
    "#                     axs[0].yticks(fontsize= 20)\n",
    "#                     axs[1].xticks(fontsize= 20)\n",
    "#                     axs[1].yticks(fontsize= 20)\n",
    "                    axs[0].axvline(x=time_axis_acti[idx_start], c='y')\n",
    "                    axs[0].axvline(x=time_axis_acti[idx_end], c='y')\n",
    "                    axs[0].set_ylim(cgm_ylim_min, cgm_ylim_max)\n",
    "                    axs[0].tick_params(axis=\"x\", labelsize=20) \n",
    "                    axs[0].tick_params(axis=\"y\", labelsize=20)\n",
    "                    axs[1].tick_params(axis=\"x\", labelsize=20) \n",
    "                    axs[1].tick_params(axis=\"y\", labelsize=20)\n",
    "#                     plt.savefig('/Users/amrutapai/Documents/SDRIpaper1/all_meal_profiles/'+pct_name+ '-' +str(dt_nm) +'.svg', format='svg')\n",
    "                    plt.show()\n",
    "                    \n",
    "#                     print(fd_all)\n",
    "#                 print(auc_all_class)\n",
    "                \n",
    "#                 print(((idx_cgm[-1]+13) - idx_start)/4)\n",
    "#                 print(avgG)\n",
    "     \n",
    "                df_all_day = pd.concat([df_all_day, pd.DataFrame.from_dict([{'date':  dt_nm, 'uid':pc, 'a1c': a1c[i],\n",
    "                                        'tir': tir,\n",
    "                                        'avgG': avgG,                    \n",
    "                                        'status': st,\n",
    "                                        'activity_class':activity_class,\n",
    "                                        'base': df_cgm['glucose'].values[idx_start], \n",
    "                                        'duration': ((idx_end) - (idx_start))/4,\n",
    "                                        'total_food': np.sum(auc_all),\n",
    "                                        'all_freq_big_meal': len(np.where(np.array(auc_all_class)==1)[0]),\n",
    "                                        'n_meal': len(fd_all),\n",
    "                                        'activity_con': activity_con/1000,\n",
    "                                        'start_time': np.min(fd_all),\n",
    "                                        'event_ct': auc_all_class,                                  \n",
    "                                       }])],ignore_index=True)\n",
    "\n",
    "    \n",
    "        \n",
    "print(len(df_all_day))\n"
   ]
  },
  {
   "cell_type": "code",
   "execution_count": 18,
   "id": "d471ffd2",
   "metadata": {
    "scrolled": false
   },
   "outputs": [
    {
     "name": "stdout",
     "output_type": "stream",
     "text": [
      "35\n",
      "45\n",
      "44\n",
      "10\n"
     ]
    },
    {
     "data": {
      "application/vnd.plotly.v1+json": {
       "config": {
        "plotlyServerURL": "https://plot.ly"
       },
       "data": [
        {
         "boxpoints": "all",
         "name": "0",
         "text": [
          "April 24, 2021 6",
          "May 01, 2021 6",
          "May 05, 2021 9",
          "May 13, 2021 9",
          "June 03, 2021 13",
          "June 02, 2021 14",
          "June 06, 2021 14",
          "June 07, 2021 14",
          "June 09, 2021 14",
          "June 11, 2021 14",
          "June 14, 2021 14",
          "June 20, 2021 17",
          "June 23, 2021 17",
          "June 24, 2021 17",
          "June 28, 2021 17",
          "June 29, 2021 17",
          "June 30, 2021 17",
          "July 03, 2021 20",
          "July 05, 2021 20",
          "July 07, 2021 20",
          "July 08, 2021 20",
          "July 10, 2021 20",
          "July 11, 2021 20",
          "July 12, 2021 20",
          "June 30, 2021 21",
          "July 02, 2021 21",
          "July 06, 2021 21",
          "July 11, 2021 21",
          "July 30, 2021 31",
          "August 04, 2021 31",
          "August 05, 2021 31",
          "August 06, 2021 31",
          "August 09, 2021 31",
          "July 30, 2021 32",
          "August 18, 2021 36"
         ],
         "type": "box",
         "y": [
          86.25,
          82.5,
          100,
          100,
          98.57142857142857,
          93.82716049382717,
          100,
          100,
          98.64864864864865,
          100,
          100,
          100,
          100,
          98.87640449438203,
          100,
          100,
          100,
          98.41269841269842,
          98.61111111111111,
          100,
          100,
          100,
          100,
          100,
          100,
          100,
          100,
          100,
          100,
          100,
          100,
          100,
          100,
          92.3076923076923,
          100
         ]
        },
        {
         "boxpoints": "all",
         "name": "1",
         "text": [
          "April 26, 2021 6",
          "April 27, 2021 6",
          "April 28, 2021 6",
          "April 30, 2021 6",
          "May 06, 2021 6",
          "May 06, 2021 9",
          "May 09, 2021 9",
          "May 20, 2021 10",
          "May 28, 2021 10",
          "May 28, 2021 13",
          "May 31, 2021 13",
          "June 03, 2021 14",
          "June 04, 2021 14",
          "June 08, 2021 14",
          "June 10, 2021 14",
          "June 13, 2021 14",
          "June 18, 2021 17",
          "June 21, 2021 17",
          "June 25, 2021 17",
          "June 27, 2021 17",
          "July 04, 2021 20",
          "July 03, 2021 21",
          "July 05, 2021 21",
          "July 07, 2021 21",
          "July 10, 2021 21",
          "July 12, 2021 21",
          "July 24, 2021 29",
          "July 26, 2021 29",
          "July 27, 2021 29",
          "July 31, 2021 29",
          "August 01, 2021 29",
          "August 03, 2021 29",
          "July 28, 2021 31",
          "July 29, 2021 31",
          "July 31, 2021 31",
          "August 02, 2021 31",
          "August 03, 2021 31",
          "August 07, 2021 31",
          "August 01, 2021 32",
          "August 02, 2021 32",
          "August 04, 2021 32",
          "August 25, 2021 35",
          "August 19, 2021 36",
          "August 24, 2021 36",
          "August 25, 2021 36"
         ],
         "type": "box",
         "y": [
          75,
          95,
          86.41975308641975,
          95,
          78.75,
          95.16129032258064,
          97.53086419753086,
          57.142857142857146,
          62.71186440677966,
          98.30508474576271,
          98.11320754716981,
          97.5,
          100,
          100,
          100,
          100,
          83.95061728395062,
          100,
          100,
          98.85057471264368,
          98.7012987012987,
          100,
          100,
          94.54545454545455,
          100,
          100,
          78,
          73.91304347826087,
          79.72972972972973,
          80.32786885245902,
          94.11764705882354,
          92.98245614035088,
          100,
          100,
          100,
          96.22641509433963,
          100,
          90,
          93.82716049382717,
          96.29629629629629,
          100,
          100,
          98.46153846153847,
          100,
          94.28571428571429
         ]
        },
        {
         "boxpoints": "all",
         "name": "2",
         "text": [
          "April 29, 2021 6",
          "May 02, 2021 6",
          "May 03, 2021 6",
          "May 04, 2021 6",
          "May 05, 2021 6",
          "May 01, 2021 9",
          "May 02, 2021 9",
          "May 03, 2021 9",
          "May 08, 2021 9",
          "May 19, 2021 10",
          "May 22, 2021 10",
          "May 23, 2021 10",
          "May 24, 2021 10",
          "May 26, 2021 10",
          "May 29, 2021 10",
          "May 26, 2021 13",
          "May 27, 2021 13",
          "May 30, 2021 13",
          "June 01, 2021 13",
          "June 02, 2021 13",
          "June 04, 2021 13",
          "June 05, 2021 14",
          "June 19, 2021 17",
          "June 22, 2021 17",
          "June 26, 2021 17",
          "July 02, 2021 20",
          "July 06, 2021 20",
          "July 09, 2021 20",
          "July 01, 2021 21",
          "July 04, 2021 21",
          "July 08, 2021 21",
          "July 09, 2021 21",
          "July 22, 2021 29",
          "July 23, 2021 29",
          "July 28, 2021 29",
          "July 29, 2021 29",
          "July 30, 2021 29",
          "July 31, 2021 32",
          "August 03, 2021 32",
          "August 19, 2021 35",
          "August 20, 2021 35",
          "August 23, 2021 35",
          "August 24, 2021 35",
          "August 28, 2021 36"
         ],
         "type": "box",
         "y": [
          68.75,
          85.5421686746988,
          87.5,
          90,
          87.5,
          95,
          98.71794871794872,
          97.10144927536231,
          100,
          46.96969696969697,
          83.60655737704919,
          67.79661016949153,
          55.55555555555556,
          64.15094339622641,
          54.23728813559322,
          87.5,
          100,
          97.22222222222223,
          98.46153846153847,
          97.36842105263158,
          100,
          100,
          97.72727272727273,
          100,
          97.53086419753086,
          95.83333333333333,
          93.10344827586206,
          97.1830985915493,
          100,
          100,
          96.92307692307692,
          98.6842105263158,
          57.142857142857146,
          85.45454545454545,
          90,
          90,
          85.8974358974359,
          87.65432098765432,
          95.06172839506173,
          97.14285714285714,
          100,
          98.48484848484848,
          97.1830985915493,
          92.42424242424242
         ]
        },
        {
         "boxpoints": "all",
         "name": "3",
         "text": [
          "May 07, 2021 9",
          "May 10, 2021 9",
          "May 21, 2021 10",
          "May 25, 2021 10",
          "May 27, 2021 10",
          "May 29, 2021 13",
          "June 05, 2021 13",
          "June 06, 2021 13",
          "August 05, 2021 32",
          "August 21, 2021 35"
         ],
         "type": "box",
         "y": [
          83.11688311688312,
          96.62921348314607,
          77.61194029850746,
          79.36507936507937,
          68.96551724137932,
          94.36619718309859,
          94.11764705882354,
          100,
          89.24731182795699,
          98.30508474576271
         ]
        }
       ],
       "layout": {
        "font": {
         "color": "black",
         "family": "Helvetica",
         "size": 24
        },
        "plot_bgcolor": "#FFF",
        "template": {
         "data": {
          "bar": [
           {
            "error_x": {
             "color": "#2a3f5f"
            },
            "error_y": {
             "color": "#2a3f5f"
            },
            "marker": {
             "line": {
              "color": "#E5ECF6",
              "width": 0.5
             },
             "pattern": {
              "fillmode": "overlay",
              "size": 10,
              "solidity": 0.2
             }
            },
            "type": "bar"
           }
          ],
          "barpolar": [
           {
            "marker": {
             "line": {
              "color": "#E5ECF6",
              "width": 0.5
             },
             "pattern": {
              "fillmode": "overlay",
              "size": 10,
              "solidity": 0.2
             }
            },
            "type": "barpolar"
           }
          ],
          "carpet": [
           {
            "aaxis": {
             "endlinecolor": "#2a3f5f",
             "gridcolor": "white",
             "linecolor": "white",
             "minorgridcolor": "white",
             "startlinecolor": "#2a3f5f"
            },
            "baxis": {
             "endlinecolor": "#2a3f5f",
             "gridcolor": "white",
             "linecolor": "white",
             "minorgridcolor": "white",
             "startlinecolor": "#2a3f5f"
            },
            "type": "carpet"
           }
          ],
          "choropleth": [
           {
            "colorbar": {
             "outlinewidth": 0,
             "ticks": ""
            },
            "type": "choropleth"
           }
          ],
          "contour": [
           {
            "colorbar": {
             "outlinewidth": 0,
             "ticks": ""
            },
            "colorscale": [
             [
              0,
              "#0d0887"
             ],
             [
              0.1111111111111111,
              "#46039f"
             ],
             [
              0.2222222222222222,
              "#7201a8"
             ],
             [
              0.3333333333333333,
              "#9c179e"
             ],
             [
              0.4444444444444444,
              "#bd3786"
             ],
             [
              0.5555555555555556,
              "#d8576b"
             ],
             [
              0.6666666666666666,
              "#ed7953"
             ],
             [
              0.7777777777777778,
              "#fb9f3a"
             ],
             [
              0.8888888888888888,
              "#fdca26"
             ],
             [
              1,
              "#f0f921"
             ]
            ],
            "type": "contour"
           }
          ],
          "contourcarpet": [
           {
            "colorbar": {
             "outlinewidth": 0,
             "ticks": ""
            },
            "type": "contourcarpet"
           }
          ],
          "heatmap": [
           {
            "colorbar": {
             "outlinewidth": 0,
             "ticks": ""
            },
            "colorscale": [
             [
              0,
              "#0d0887"
             ],
             [
              0.1111111111111111,
              "#46039f"
             ],
             [
              0.2222222222222222,
              "#7201a8"
             ],
             [
              0.3333333333333333,
              "#9c179e"
             ],
             [
              0.4444444444444444,
              "#bd3786"
             ],
             [
              0.5555555555555556,
              "#d8576b"
             ],
             [
              0.6666666666666666,
              "#ed7953"
             ],
             [
              0.7777777777777778,
              "#fb9f3a"
             ],
             [
              0.8888888888888888,
              "#fdca26"
             ],
             [
              1,
              "#f0f921"
             ]
            ],
            "type": "heatmap"
           }
          ],
          "heatmapgl": [
           {
            "colorbar": {
             "outlinewidth": 0,
             "ticks": ""
            },
            "colorscale": [
             [
              0,
              "#0d0887"
             ],
             [
              0.1111111111111111,
              "#46039f"
             ],
             [
              0.2222222222222222,
              "#7201a8"
             ],
             [
              0.3333333333333333,
              "#9c179e"
             ],
             [
              0.4444444444444444,
              "#bd3786"
             ],
             [
              0.5555555555555556,
              "#d8576b"
             ],
             [
              0.6666666666666666,
              "#ed7953"
             ],
             [
              0.7777777777777778,
              "#fb9f3a"
             ],
             [
              0.8888888888888888,
              "#fdca26"
             ],
             [
              1,
              "#f0f921"
             ]
            ],
            "type": "heatmapgl"
           }
          ],
          "histogram": [
           {
            "marker": {
             "pattern": {
              "fillmode": "overlay",
              "size": 10,
              "solidity": 0.2
             }
            },
            "type": "histogram"
           }
          ],
          "histogram2d": [
           {
            "colorbar": {
             "outlinewidth": 0,
             "ticks": ""
            },
            "colorscale": [
             [
              0,
              "#0d0887"
             ],
             [
              0.1111111111111111,
              "#46039f"
             ],
             [
              0.2222222222222222,
              "#7201a8"
             ],
             [
              0.3333333333333333,
              "#9c179e"
             ],
             [
              0.4444444444444444,
              "#bd3786"
             ],
             [
              0.5555555555555556,
              "#d8576b"
             ],
             [
              0.6666666666666666,
              "#ed7953"
             ],
             [
              0.7777777777777778,
              "#fb9f3a"
             ],
             [
              0.8888888888888888,
              "#fdca26"
             ],
             [
              1,
              "#f0f921"
             ]
            ],
            "type": "histogram2d"
           }
          ],
          "histogram2dcontour": [
           {
            "colorbar": {
             "outlinewidth": 0,
             "ticks": ""
            },
            "colorscale": [
             [
              0,
              "#0d0887"
             ],
             [
              0.1111111111111111,
              "#46039f"
             ],
             [
              0.2222222222222222,
              "#7201a8"
             ],
             [
              0.3333333333333333,
              "#9c179e"
             ],
             [
              0.4444444444444444,
              "#bd3786"
             ],
             [
              0.5555555555555556,
              "#d8576b"
             ],
             [
              0.6666666666666666,
              "#ed7953"
             ],
             [
              0.7777777777777778,
              "#fb9f3a"
             ],
             [
              0.8888888888888888,
              "#fdca26"
             ],
             [
              1,
              "#f0f921"
             ]
            ],
            "type": "histogram2dcontour"
           }
          ],
          "mesh3d": [
           {
            "colorbar": {
             "outlinewidth": 0,
             "ticks": ""
            },
            "type": "mesh3d"
           }
          ],
          "parcoords": [
           {
            "line": {
             "colorbar": {
              "outlinewidth": 0,
              "ticks": ""
             }
            },
            "type": "parcoords"
           }
          ],
          "pie": [
           {
            "automargin": true,
            "type": "pie"
           }
          ],
          "scatter": [
           {
            "fillpattern": {
             "fillmode": "overlay",
             "size": 10,
             "solidity": 0.2
            },
            "type": "scatter"
           }
          ],
          "scatter3d": [
           {
            "line": {
             "colorbar": {
              "outlinewidth": 0,
              "ticks": ""
             }
            },
            "marker": {
             "colorbar": {
              "outlinewidth": 0,
              "ticks": ""
             }
            },
            "type": "scatter3d"
           }
          ],
          "scattercarpet": [
           {
            "marker": {
             "colorbar": {
              "outlinewidth": 0,
              "ticks": ""
             }
            },
            "type": "scattercarpet"
           }
          ],
          "scattergeo": [
           {
            "marker": {
             "colorbar": {
              "outlinewidth": 0,
              "ticks": ""
             }
            },
            "type": "scattergeo"
           }
          ],
          "scattergl": [
           {
            "marker": {
             "colorbar": {
              "outlinewidth": 0,
              "ticks": ""
             }
            },
            "type": "scattergl"
           }
          ],
          "scattermapbox": [
           {
            "marker": {
             "colorbar": {
              "outlinewidth": 0,
              "ticks": ""
             }
            },
            "type": "scattermapbox"
           }
          ],
          "scatterpolar": [
           {
            "marker": {
             "colorbar": {
              "outlinewidth": 0,
              "ticks": ""
             }
            },
            "type": "scatterpolar"
           }
          ],
          "scatterpolargl": [
           {
            "marker": {
             "colorbar": {
              "outlinewidth": 0,
              "ticks": ""
             }
            },
            "type": "scatterpolargl"
           }
          ],
          "scatterternary": [
           {
            "marker": {
             "colorbar": {
              "outlinewidth": 0,
              "ticks": ""
             }
            },
            "type": "scatterternary"
           }
          ],
          "surface": [
           {
            "colorbar": {
             "outlinewidth": 0,
             "ticks": ""
            },
            "colorscale": [
             [
              0,
              "#0d0887"
             ],
             [
              0.1111111111111111,
              "#46039f"
             ],
             [
              0.2222222222222222,
              "#7201a8"
             ],
             [
              0.3333333333333333,
              "#9c179e"
             ],
             [
              0.4444444444444444,
              "#bd3786"
             ],
             [
              0.5555555555555556,
              "#d8576b"
             ],
             [
              0.6666666666666666,
              "#ed7953"
             ],
             [
              0.7777777777777778,
              "#fb9f3a"
             ],
             [
              0.8888888888888888,
              "#fdca26"
             ],
             [
              1,
              "#f0f921"
             ]
            ],
            "type": "surface"
           }
          ],
          "table": [
           {
            "cells": {
             "fill": {
              "color": "#EBF0F8"
             },
             "line": {
              "color": "white"
             }
            },
            "header": {
             "fill": {
              "color": "#C8D4E3"
             },
             "line": {
              "color": "white"
             }
            },
            "type": "table"
           }
          ]
         },
         "layout": {
          "annotationdefaults": {
           "arrowcolor": "#2a3f5f",
           "arrowhead": 0,
           "arrowwidth": 1
          },
          "autotypenumbers": "strict",
          "coloraxis": {
           "colorbar": {
            "outlinewidth": 0,
            "ticks": ""
           }
          },
          "colorscale": {
           "diverging": [
            [
             0,
             "#8e0152"
            ],
            [
             0.1,
             "#c51b7d"
            ],
            [
             0.2,
             "#de77ae"
            ],
            [
             0.3,
             "#f1b6da"
            ],
            [
             0.4,
             "#fde0ef"
            ],
            [
             0.5,
             "#f7f7f7"
            ],
            [
             0.6,
             "#e6f5d0"
            ],
            [
             0.7,
             "#b8e186"
            ],
            [
             0.8,
             "#7fbc41"
            ],
            [
             0.9,
             "#4d9221"
            ],
            [
             1,
             "#276419"
            ]
           ],
           "sequential": [
            [
             0,
             "#0d0887"
            ],
            [
             0.1111111111111111,
             "#46039f"
            ],
            [
             0.2222222222222222,
             "#7201a8"
            ],
            [
             0.3333333333333333,
             "#9c179e"
            ],
            [
             0.4444444444444444,
             "#bd3786"
            ],
            [
             0.5555555555555556,
             "#d8576b"
            ],
            [
             0.6666666666666666,
             "#ed7953"
            ],
            [
             0.7777777777777778,
             "#fb9f3a"
            ],
            [
             0.8888888888888888,
             "#fdca26"
            ],
            [
             1,
             "#f0f921"
            ]
           ],
           "sequentialminus": [
            [
             0,
             "#0d0887"
            ],
            [
             0.1111111111111111,
             "#46039f"
            ],
            [
             0.2222222222222222,
             "#7201a8"
            ],
            [
             0.3333333333333333,
             "#9c179e"
            ],
            [
             0.4444444444444444,
             "#bd3786"
            ],
            [
             0.5555555555555556,
             "#d8576b"
            ],
            [
             0.6666666666666666,
             "#ed7953"
            ],
            [
             0.7777777777777778,
             "#fb9f3a"
            ],
            [
             0.8888888888888888,
             "#fdca26"
            ],
            [
             1,
             "#f0f921"
            ]
           ]
          },
          "colorway": [
           "#636efa",
           "#EF553B",
           "#00cc96",
           "#ab63fa",
           "#FFA15A",
           "#19d3f3",
           "#FF6692",
           "#B6E880",
           "#FF97FF",
           "#FECB52"
          ],
          "font": {
           "color": "#2a3f5f"
          },
          "geo": {
           "bgcolor": "white",
           "lakecolor": "white",
           "landcolor": "#E5ECF6",
           "showlakes": true,
           "showland": true,
           "subunitcolor": "white"
          },
          "hoverlabel": {
           "align": "left"
          },
          "hovermode": "closest",
          "mapbox": {
           "style": "light"
          },
          "paper_bgcolor": "white",
          "plot_bgcolor": "#E5ECF6",
          "polar": {
           "angularaxis": {
            "gridcolor": "white",
            "linecolor": "white",
            "ticks": ""
           },
           "bgcolor": "#E5ECF6",
           "radialaxis": {
            "gridcolor": "white",
            "linecolor": "white",
            "ticks": ""
           }
          },
          "scene": {
           "xaxis": {
            "backgroundcolor": "#E5ECF6",
            "gridcolor": "white",
            "gridwidth": 2,
            "linecolor": "white",
            "showbackground": true,
            "ticks": "",
            "zerolinecolor": "white"
           },
           "yaxis": {
            "backgroundcolor": "#E5ECF6",
            "gridcolor": "white",
            "gridwidth": 2,
            "linecolor": "white",
            "showbackground": true,
            "ticks": "",
            "zerolinecolor": "white"
           },
           "zaxis": {
            "backgroundcolor": "#E5ECF6",
            "gridcolor": "white",
            "gridwidth": 2,
            "linecolor": "white",
            "showbackground": true,
            "ticks": "",
            "zerolinecolor": "white"
           }
          },
          "shapedefaults": {
           "line": {
            "color": "#2a3f5f"
           }
          },
          "ternary": {
           "aaxis": {
            "gridcolor": "white",
            "linecolor": "white",
            "ticks": ""
           },
           "baxis": {
            "gridcolor": "white",
            "linecolor": "white",
            "ticks": ""
           },
           "bgcolor": "#E5ECF6",
           "caxis": {
            "gridcolor": "white",
            "linecolor": "white",
            "ticks": ""
           }
          },
          "title": {
           "x": 0.05
          },
          "xaxis": {
           "automargin": true,
           "gridcolor": "white",
           "linecolor": "white",
           "ticks": "",
           "title": {
            "standoff": 15
           },
           "zerolinecolor": "white",
           "zerolinewidth": 2
          },
          "yaxis": {
           "automargin": true,
           "gridcolor": "white",
           "linecolor": "white",
           "ticks": "",
           "title": {
            "standoff": 15
           },
           "zerolinecolor": "white",
           "zerolinewidth": 2
          }
         }
        },
        "xaxis": {
         "linecolor": "black",
         "showgrid": false
        },
        "yaxis": {
         "linecolor": "black",
         "range": [
          70,
          101
         ],
         "showgrid": false,
         "title": {
          "text": "TIR 54-140"
         }
        }
       }
      },
      "text/html": [
       "<div>                            <div id=\"c10ec7f3-ccd8-4e51-a27e-0b039798977d\" class=\"plotly-graph-div\" style=\"height:525px; width:100%;\"></div>            <script type=\"text/javascript\">                require([\"plotly\"], function(Plotly) {                    window.PLOTLYENV=window.PLOTLYENV || {};                                    if (document.getElementById(\"c10ec7f3-ccd8-4e51-a27e-0b039798977d\")) {                    Plotly.newPlot(                        \"c10ec7f3-ccd8-4e51-a27e-0b039798977d\",                        [{\"boxpoints\":\"all\",\"name\":\"0\",\"text\":[\"April 24, 2021 6\",\"May 01, 2021 6\",\"May 05, 2021 9\",\"May 13, 2021 9\",\"June 03, 2021 13\",\"June 02, 2021 14\",\"June 06, 2021 14\",\"June 07, 2021 14\",\"June 09, 2021 14\",\"June 11, 2021 14\",\"June 14, 2021 14\",\"June 20, 2021 17\",\"June 23, 2021 17\",\"June 24, 2021 17\",\"June 28, 2021 17\",\"June 29, 2021 17\",\"June 30, 2021 17\",\"July 03, 2021 20\",\"July 05, 2021 20\",\"July 07, 2021 20\",\"July 08, 2021 20\",\"July 10, 2021 20\",\"July 11, 2021 20\",\"July 12, 2021 20\",\"June 30, 2021 21\",\"July 02, 2021 21\",\"July 06, 2021 21\",\"July 11, 2021 21\",\"July 30, 2021 31\",\"August 04, 2021 31\",\"August 05, 2021 31\",\"August 06, 2021 31\",\"August 09, 2021 31\",\"July 30, 2021 32\",\"August 18, 2021 36\"],\"y\":[86.25,82.5,100.0,100.0,98.57142857142857,93.82716049382717,100.0,100.0,98.64864864864865,100.0,100.0,100.0,100.0,98.87640449438203,100.0,100.0,100.0,98.41269841269842,98.61111111111111,100.0,100.0,100.0,100.0,100.0,100.0,100.0,100.0,100.0,100.0,100.0,100.0,100.0,100.0,92.3076923076923,100.0],\"type\":\"box\"},{\"boxpoints\":\"all\",\"name\":\"1\",\"text\":[\"April 26, 2021 6\",\"April 27, 2021 6\",\"April 28, 2021 6\",\"April 30, 2021 6\",\"May 06, 2021 6\",\"May 06, 2021 9\",\"May 09, 2021 9\",\"May 20, 2021 10\",\"May 28, 2021 10\",\"May 28, 2021 13\",\"May 31, 2021 13\",\"June 03, 2021 14\",\"June 04, 2021 14\",\"June 08, 2021 14\",\"June 10, 2021 14\",\"June 13, 2021 14\",\"June 18, 2021 17\",\"June 21, 2021 17\",\"June 25, 2021 17\",\"June 27, 2021 17\",\"July 04, 2021 20\",\"July 03, 2021 21\",\"July 05, 2021 21\",\"July 07, 2021 21\",\"July 10, 2021 21\",\"July 12, 2021 21\",\"July 24, 2021 29\",\"July 26, 2021 29\",\"July 27, 2021 29\",\"July 31, 2021 29\",\"August 01, 2021 29\",\"August 03, 2021 29\",\"July 28, 2021 31\",\"July 29, 2021 31\",\"July 31, 2021 31\",\"August 02, 2021 31\",\"August 03, 2021 31\",\"August 07, 2021 31\",\"August 01, 2021 32\",\"August 02, 2021 32\",\"August 04, 2021 32\",\"August 25, 2021 35\",\"August 19, 2021 36\",\"August 24, 2021 36\",\"August 25, 2021 36\"],\"y\":[75.0,95.0,86.41975308641975,95.0,78.75,95.16129032258064,97.53086419753086,57.142857142857146,62.71186440677966,98.30508474576271,98.11320754716981,97.5,100.0,100.0,100.0,100.0,83.95061728395062,100.0,100.0,98.85057471264368,98.7012987012987,100.0,100.0,94.54545454545455,100.0,100.0,78.0,73.91304347826087,79.72972972972973,80.32786885245902,94.11764705882354,92.98245614035088,100.0,100.0,100.0,96.22641509433963,100.0,90.0,93.82716049382717,96.29629629629629,100.0,100.0,98.46153846153847,100.0,94.28571428571429],\"type\":\"box\"},{\"boxpoints\":\"all\",\"name\":\"2\",\"text\":[\"April 29, 2021 6\",\"May 02, 2021 6\",\"May 03, 2021 6\",\"May 04, 2021 6\",\"May 05, 2021 6\",\"May 01, 2021 9\",\"May 02, 2021 9\",\"May 03, 2021 9\",\"May 08, 2021 9\",\"May 19, 2021 10\",\"May 22, 2021 10\",\"May 23, 2021 10\",\"May 24, 2021 10\",\"May 26, 2021 10\",\"May 29, 2021 10\",\"May 26, 2021 13\",\"May 27, 2021 13\",\"May 30, 2021 13\",\"June 01, 2021 13\",\"June 02, 2021 13\",\"June 04, 2021 13\",\"June 05, 2021 14\",\"June 19, 2021 17\",\"June 22, 2021 17\",\"June 26, 2021 17\",\"July 02, 2021 20\",\"July 06, 2021 20\",\"July 09, 2021 20\",\"July 01, 2021 21\",\"July 04, 2021 21\",\"July 08, 2021 21\",\"July 09, 2021 21\",\"July 22, 2021 29\",\"July 23, 2021 29\",\"July 28, 2021 29\",\"July 29, 2021 29\",\"July 30, 2021 29\",\"July 31, 2021 32\",\"August 03, 2021 32\",\"August 19, 2021 35\",\"August 20, 2021 35\",\"August 23, 2021 35\",\"August 24, 2021 35\",\"August 28, 2021 36\"],\"y\":[68.75,85.5421686746988,87.5,90.0,87.5,95.0,98.71794871794872,97.10144927536231,100.0,46.96969696969697,83.60655737704919,67.79661016949153,55.55555555555556,64.15094339622641,54.23728813559322,87.5,100.0,97.22222222222223,98.46153846153847,97.36842105263158,100.0,100.0,97.72727272727273,100.0,97.53086419753086,95.83333333333333,93.10344827586206,97.1830985915493,100.0,100.0,96.92307692307692,98.6842105263158,57.142857142857146,85.45454545454545,90.0,90.0,85.8974358974359,87.65432098765432,95.06172839506173,97.14285714285714,100.0,98.48484848484848,97.1830985915493,92.42424242424242],\"type\":\"box\"},{\"boxpoints\":\"all\",\"name\":\"3\",\"text\":[\"May 07, 2021 9\",\"May 10, 2021 9\",\"May 21, 2021 10\",\"May 25, 2021 10\",\"May 27, 2021 10\",\"May 29, 2021 13\",\"June 05, 2021 13\",\"June 06, 2021 13\",\"August 05, 2021 32\",\"August 21, 2021 35\"],\"y\":[83.11688311688312,96.62921348314607,77.61194029850746,79.36507936507937,68.96551724137932,94.36619718309859,94.11764705882354,100.0,89.24731182795699,98.30508474576271],\"type\":\"box\"}],                        {\"font\":{\"color\":\"black\",\"family\":\"Helvetica\",\"size\":24},\"plot_bgcolor\":\"#FFF\",\"xaxis\":{\"linecolor\":\"black\",\"showgrid\":false},\"yaxis\":{\"linecolor\":\"black\",\"showgrid\":false,\"title\":{\"text\":\"TIR 54-140\"},\"range\":[70,101]},\"template\":{\"data\":{\"histogram2dcontour\":[{\"type\":\"histogram2dcontour\",\"colorbar\":{\"outlinewidth\":0,\"ticks\":\"\"},\"colorscale\":[[0.0,\"#0d0887\"],[0.1111111111111111,\"#46039f\"],[0.2222222222222222,\"#7201a8\"],[0.3333333333333333,\"#9c179e\"],[0.4444444444444444,\"#bd3786\"],[0.5555555555555556,\"#d8576b\"],[0.6666666666666666,\"#ed7953\"],[0.7777777777777778,\"#fb9f3a\"],[0.8888888888888888,\"#fdca26\"],[1.0,\"#f0f921\"]]}],\"choropleth\":[{\"type\":\"choropleth\",\"colorbar\":{\"outlinewidth\":0,\"ticks\":\"\"}}],\"histogram2d\":[{\"type\":\"histogram2d\",\"colorbar\":{\"outlinewidth\":0,\"ticks\":\"\"},\"colorscale\":[[0.0,\"#0d0887\"],[0.1111111111111111,\"#46039f\"],[0.2222222222222222,\"#7201a8\"],[0.3333333333333333,\"#9c179e\"],[0.4444444444444444,\"#bd3786\"],[0.5555555555555556,\"#d8576b\"],[0.6666666666666666,\"#ed7953\"],[0.7777777777777778,\"#fb9f3a\"],[0.8888888888888888,\"#fdca26\"],[1.0,\"#f0f921\"]]}],\"heatmap\":[{\"type\":\"heatmap\",\"colorbar\":{\"outlinewidth\":0,\"ticks\":\"\"},\"colorscale\":[[0.0,\"#0d0887\"],[0.1111111111111111,\"#46039f\"],[0.2222222222222222,\"#7201a8\"],[0.3333333333333333,\"#9c179e\"],[0.4444444444444444,\"#bd3786\"],[0.5555555555555556,\"#d8576b\"],[0.6666666666666666,\"#ed7953\"],[0.7777777777777778,\"#fb9f3a\"],[0.8888888888888888,\"#fdca26\"],[1.0,\"#f0f921\"]]}],\"heatmapgl\":[{\"type\":\"heatmapgl\",\"colorbar\":{\"outlinewidth\":0,\"ticks\":\"\"},\"colorscale\":[[0.0,\"#0d0887\"],[0.1111111111111111,\"#46039f\"],[0.2222222222222222,\"#7201a8\"],[0.3333333333333333,\"#9c179e\"],[0.4444444444444444,\"#bd3786\"],[0.5555555555555556,\"#d8576b\"],[0.6666666666666666,\"#ed7953\"],[0.7777777777777778,\"#fb9f3a\"],[0.8888888888888888,\"#fdca26\"],[1.0,\"#f0f921\"]]}],\"contourcarpet\":[{\"type\":\"contourcarpet\",\"colorbar\":{\"outlinewidth\":0,\"ticks\":\"\"}}],\"contour\":[{\"type\":\"contour\",\"colorbar\":{\"outlinewidth\":0,\"ticks\":\"\"},\"colorscale\":[[0.0,\"#0d0887\"],[0.1111111111111111,\"#46039f\"],[0.2222222222222222,\"#7201a8\"],[0.3333333333333333,\"#9c179e\"],[0.4444444444444444,\"#bd3786\"],[0.5555555555555556,\"#d8576b\"],[0.6666666666666666,\"#ed7953\"],[0.7777777777777778,\"#fb9f3a\"],[0.8888888888888888,\"#fdca26\"],[1.0,\"#f0f921\"]]}],\"surface\":[{\"type\":\"surface\",\"colorbar\":{\"outlinewidth\":0,\"ticks\":\"\"},\"colorscale\":[[0.0,\"#0d0887\"],[0.1111111111111111,\"#46039f\"],[0.2222222222222222,\"#7201a8\"],[0.3333333333333333,\"#9c179e\"],[0.4444444444444444,\"#bd3786\"],[0.5555555555555556,\"#d8576b\"],[0.6666666666666666,\"#ed7953\"],[0.7777777777777778,\"#fb9f3a\"],[0.8888888888888888,\"#fdca26\"],[1.0,\"#f0f921\"]]}],\"mesh3d\":[{\"type\":\"mesh3d\",\"colorbar\":{\"outlinewidth\":0,\"ticks\":\"\"}}],\"scatter\":[{\"fillpattern\":{\"fillmode\":\"overlay\",\"size\":10,\"solidity\":0.2},\"type\":\"scatter\"}],\"parcoords\":[{\"type\":\"parcoords\",\"line\":{\"colorbar\":{\"outlinewidth\":0,\"ticks\":\"\"}}}],\"scatterpolargl\":[{\"type\":\"scatterpolargl\",\"marker\":{\"colorbar\":{\"outlinewidth\":0,\"ticks\":\"\"}}}],\"bar\":[{\"error_x\":{\"color\":\"#2a3f5f\"},\"error_y\":{\"color\":\"#2a3f5f\"},\"marker\":{\"line\":{\"color\":\"#E5ECF6\",\"width\":0.5},\"pattern\":{\"fillmode\":\"overlay\",\"size\":10,\"solidity\":0.2}},\"type\":\"bar\"}],\"scattergeo\":[{\"type\":\"scattergeo\",\"marker\":{\"colorbar\":{\"outlinewidth\":0,\"ticks\":\"\"}}}],\"scatterpolar\":[{\"type\":\"scatterpolar\",\"marker\":{\"colorbar\":{\"outlinewidth\":0,\"ticks\":\"\"}}}],\"histogram\":[{\"marker\":{\"pattern\":{\"fillmode\":\"overlay\",\"size\":10,\"solidity\":0.2}},\"type\":\"histogram\"}],\"scattergl\":[{\"type\":\"scattergl\",\"marker\":{\"colorbar\":{\"outlinewidth\":0,\"ticks\":\"\"}}}],\"scatter3d\":[{\"type\":\"scatter3d\",\"line\":{\"colorbar\":{\"outlinewidth\":0,\"ticks\":\"\"}},\"marker\":{\"colorbar\":{\"outlinewidth\":0,\"ticks\":\"\"}}}],\"scattermapbox\":[{\"type\":\"scattermapbox\",\"marker\":{\"colorbar\":{\"outlinewidth\":0,\"ticks\":\"\"}}}],\"scatterternary\":[{\"type\":\"scatterternary\",\"marker\":{\"colorbar\":{\"outlinewidth\":0,\"ticks\":\"\"}}}],\"scattercarpet\":[{\"type\":\"scattercarpet\",\"marker\":{\"colorbar\":{\"outlinewidth\":0,\"ticks\":\"\"}}}],\"carpet\":[{\"aaxis\":{\"endlinecolor\":\"#2a3f5f\",\"gridcolor\":\"white\",\"linecolor\":\"white\",\"minorgridcolor\":\"white\",\"startlinecolor\":\"#2a3f5f\"},\"baxis\":{\"endlinecolor\":\"#2a3f5f\",\"gridcolor\":\"white\",\"linecolor\":\"white\",\"minorgridcolor\":\"white\",\"startlinecolor\":\"#2a3f5f\"},\"type\":\"carpet\"}],\"table\":[{\"cells\":{\"fill\":{\"color\":\"#EBF0F8\"},\"line\":{\"color\":\"white\"}},\"header\":{\"fill\":{\"color\":\"#C8D4E3\"},\"line\":{\"color\":\"white\"}},\"type\":\"table\"}],\"barpolar\":[{\"marker\":{\"line\":{\"color\":\"#E5ECF6\",\"width\":0.5},\"pattern\":{\"fillmode\":\"overlay\",\"size\":10,\"solidity\":0.2}},\"type\":\"barpolar\"}],\"pie\":[{\"automargin\":true,\"type\":\"pie\"}]},\"layout\":{\"autotypenumbers\":\"strict\",\"colorway\":[\"#636efa\",\"#EF553B\",\"#00cc96\",\"#ab63fa\",\"#FFA15A\",\"#19d3f3\",\"#FF6692\",\"#B6E880\",\"#FF97FF\",\"#FECB52\"],\"font\":{\"color\":\"#2a3f5f\"},\"hovermode\":\"closest\",\"hoverlabel\":{\"align\":\"left\"},\"paper_bgcolor\":\"white\",\"plot_bgcolor\":\"#E5ECF6\",\"polar\":{\"bgcolor\":\"#E5ECF6\",\"angularaxis\":{\"gridcolor\":\"white\",\"linecolor\":\"white\",\"ticks\":\"\"},\"radialaxis\":{\"gridcolor\":\"white\",\"linecolor\":\"white\",\"ticks\":\"\"}},\"ternary\":{\"bgcolor\":\"#E5ECF6\",\"aaxis\":{\"gridcolor\":\"white\",\"linecolor\":\"white\",\"ticks\":\"\"},\"baxis\":{\"gridcolor\":\"white\",\"linecolor\":\"white\",\"ticks\":\"\"},\"caxis\":{\"gridcolor\":\"white\",\"linecolor\":\"white\",\"ticks\":\"\"}},\"coloraxis\":{\"colorbar\":{\"outlinewidth\":0,\"ticks\":\"\"}},\"colorscale\":{\"sequential\":[[0.0,\"#0d0887\"],[0.1111111111111111,\"#46039f\"],[0.2222222222222222,\"#7201a8\"],[0.3333333333333333,\"#9c179e\"],[0.4444444444444444,\"#bd3786\"],[0.5555555555555556,\"#d8576b\"],[0.6666666666666666,\"#ed7953\"],[0.7777777777777778,\"#fb9f3a\"],[0.8888888888888888,\"#fdca26\"],[1.0,\"#f0f921\"]],\"sequentialminus\":[[0.0,\"#0d0887\"],[0.1111111111111111,\"#46039f\"],[0.2222222222222222,\"#7201a8\"],[0.3333333333333333,\"#9c179e\"],[0.4444444444444444,\"#bd3786\"],[0.5555555555555556,\"#d8576b\"],[0.6666666666666666,\"#ed7953\"],[0.7777777777777778,\"#fb9f3a\"],[0.8888888888888888,\"#fdca26\"],[1.0,\"#f0f921\"]],\"diverging\":[[0,\"#8e0152\"],[0.1,\"#c51b7d\"],[0.2,\"#de77ae\"],[0.3,\"#f1b6da\"],[0.4,\"#fde0ef\"],[0.5,\"#f7f7f7\"],[0.6,\"#e6f5d0\"],[0.7,\"#b8e186\"],[0.8,\"#7fbc41\"],[0.9,\"#4d9221\"],[1,\"#276419\"]]},\"xaxis\":{\"gridcolor\":\"white\",\"linecolor\":\"white\",\"ticks\":\"\",\"title\":{\"standoff\":15},\"zerolinecolor\":\"white\",\"automargin\":true,\"zerolinewidth\":2},\"yaxis\":{\"gridcolor\":\"white\",\"linecolor\":\"white\",\"ticks\":\"\",\"title\":{\"standoff\":15},\"zerolinecolor\":\"white\",\"automargin\":true,\"zerolinewidth\":2},\"scene\":{\"xaxis\":{\"backgroundcolor\":\"#E5ECF6\",\"gridcolor\":\"white\",\"linecolor\":\"white\",\"showbackground\":true,\"ticks\":\"\",\"zerolinecolor\":\"white\",\"gridwidth\":2},\"yaxis\":{\"backgroundcolor\":\"#E5ECF6\",\"gridcolor\":\"white\",\"linecolor\":\"white\",\"showbackground\":true,\"ticks\":\"\",\"zerolinecolor\":\"white\",\"gridwidth\":2},\"zaxis\":{\"backgroundcolor\":\"#E5ECF6\",\"gridcolor\":\"white\",\"linecolor\":\"white\",\"showbackground\":true,\"ticks\":\"\",\"zerolinecolor\":\"white\",\"gridwidth\":2}},\"shapedefaults\":{\"line\":{\"color\":\"#2a3f5f\"}},\"annotationdefaults\":{\"arrowcolor\":\"#2a3f5f\",\"arrowhead\":0,\"arrowwidth\":1},\"geo\":{\"bgcolor\":\"white\",\"landcolor\":\"#E5ECF6\",\"subunitcolor\":\"white\",\"showland\":true,\"showlakes\":true,\"lakecolor\":\"white\"},\"title\":{\"x\":0.05},\"mapbox\":{\"style\":\"light\"}}}},                        {\"responsive\": true}                    ).then(function(){\n",
       "                            \n",
       "var gd = document.getElementById('c10ec7f3-ccd8-4e51-a27e-0b039798977d');\n",
       "var x = new MutationObserver(function (mutations, observer) {{\n",
       "        var display = window.getComputedStyle(gd).display;\n",
       "        if (!display || display === 'none') {{\n",
       "            console.log([gd, 'removed!']);\n",
       "            Plotly.purge(gd);\n",
       "            observer.disconnect();\n",
       "        }}\n",
       "}});\n",
       "\n",
       "// Listen for the removal of the full notebook cells\n",
       "var notebookContainer = gd.closest('#notebook-container');\n",
       "if (notebookContainer) {{\n",
       "    x.observe(notebookContainer, {childList: true});\n",
       "}}\n",
       "\n",
       "// Listen for the clearing of the current output cell\n",
       "var outputEl = gd.closest('.output');\n",
       "if (outputEl) {{\n",
       "    x.observe(outputEl, {childList: true});\n",
       "}}\n",
       "\n",
       "                        })                };                });            </script>        </div>"
      ]
     },
     "metadata": {},
     "output_type": "display_data"
    }
   ],
   "source": [
    "\n",
    "df_all_days_c2 = df_all_day[(df_all_day['status']=='at-risk')].reset_index(drop=True)\n",
    "# [(df_all_day['status']=='pre-T2D')].reset_index(drop=True)\n",
    "\n",
    "sum_name = df_all_days_c2['all_freq_big_meal']\n",
    "\n",
    "# str_name = np.array([str(df_all_days_c2.loc[x, 'meal_1'])+str(df_all_days_c2.loc[x, 'meal_2'])+str(df_all_days_c2.loc[x, 'meal_3']) for x in range(len(df_all_days_c2))]) \n",
    "TIR =  df_all_days_c2['tir'].values  \n",
    "descript = np.array([df_all_days_c2.loc[x, 'date'].strftime(\"%B %d, %Y\")+\" \"+str(df_all_days_c2.loc[x, 'uid']) for x in range(len(df_all_days_c2))])\n",
    "\n",
    "fig = go.Figure(layout = go.Layout(\n",
    "            plot_bgcolor=\"#FFF\",  # Sets background color to white\n",
    "            xaxis=dict(\n",
    "                linecolor=\"black\",  # Sets color of X-axis line\n",
    "                showgrid=False  # Removes X-axis grid lines\n",
    "            ),\n",
    "            yaxis=dict(\n",
    "                title=\"TIR 54-140\",  \n",
    "                linecolor=\"black\",  # Sets color of Y-axis line\n",
    "                showgrid=False,  # Removes Y-axis grid lines    \n",
    "            ),\n",
    "            font=dict(\n",
    "                family=\"Helvetica\",\n",
    "                size=24,\n",
    "                color=\"black\"\n",
    "            )\n",
    "        ))\n",
    "fig.update_yaxes(range=[70, 101])\n",
    "# fig.add_trace(go.Box(y=[50,50], boxpoints='all', text= descript[np.where(str_name == ty)[0]], boxmean=False, name=0))\n",
    "for ty in [0, 1, 2, 3]:\n",
    "    print(len(np.where(sum_name == ty)[0]))\n",
    "    \n",
    "    if len(np.where(sum_name == ty)[0]) !=0 :\n",
    "\n",
    "        fig.add_trace(go.Box(y=TIR[np.where(sum_name == ty)[0]],boxpoints='all',  text= descript[np.where(sum_name == ty)[0]], name=ty))\n",
    "    else:\n",
    "        \n",
    "        fig.add_trace(go.Box(y=[50,50], boxpoints='all', text= descript[np.where(sum_name == ty)[0]], name=ty))\n",
    "        \n",
    "\n",
    "        \n",
    "fig.show()\n",
    "# fig.write_image(\"/Users/amrutapai/Documents/SDRIpaper1/tir_atrisk_revis.svg\")"
   ]
  },
  {
   "cell_type": "code",
   "execution_count": 19,
   "id": "93e0c6a2",
   "metadata": {},
   "outputs": [
    {
     "name": "stdout",
     "output_type": "stream",
     "text": [
      "14\n",
      "30\n",
      "37\n",
      "20\n"
     ]
    },
    {
     "data": {
      "application/vnd.plotly.v1+json": {
       "config": {
        "plotlyServerURL": "https://plot.ly"
       },
       "data": [
        {
         "boxpoints": "all",
         "name": "0",
         "text": [
          "April 23, 2021 2",
          "April 17, 2021 3",
          "April 24, 2021 3",
          "April 28, 2021 5",
          "May 01, 2021 5",
          "June 29, 2021 18",
          "June 30, 2021 18",
          "July 02, 2021 18",
          "July 20, 2021 25",
          "July 24, 2021 25",
          "July 26, 2021 25",
          "July 27, 2021 25",
          "July 20, 2021 26",
          "July 23, 2021 26"
         ],
         "type": "box",
         "y": [
          100,
          100,
          100,
          100,
          96.29629629629629,
          50,
          21.428571428571427,
          54.83870967741935,
          100,
          96.15384615384616,
          100,
          97.10144927536231,
          100,
          100
         ]
        },
        {
         "boxpoints": "all",
         "name": "1",
         "text": [
          "April 15, 2021 2",
          "April 16, 2021 2",
          "April 17, 2021 2",
          "April 19, 2021 2",
          "April 21, 2021 2",
          "April 24, 2021 2",
          "April 25, 2021 2",
          "April 16, 2021 3",
          "April 18, 2021 3",
          "April 19, 2021 3",
          "April 22, 2021 3",
          "April 25, 2021 3",
          "April 21, 2021 5",
          "April 25, 2021 5",
          "April 29, 2021 5",
          "May 02, 2021 5",
          "May 29, 2021 12",
          "June 03, 2021 12",
          "June 24, 2021 18",
          "June 28, 2021 18",
          "July 03, 2021 18",
          "July 22, 2021 25",
          "July 16, 2021 26",
          "July 17, 2021 26",
          "July 18, 2021 26",
          "July 19, 2021 26",
          "July 21, 2021 26",
          "July 22, 2021 26",
          "July 26, 2021 26",
          "July 27, 2021 26"
         ],
         "type": "box",
         "y": [
          100,
          100,
          97.53086419753086,
          92.5925925925926,
          96.29629629629629,
          95.06172839506173,
          100,
          97.75280898876404,
          100,
          100,
          100,
          100,
          96.29629629629629,
          100,
          92.5925925925926,
          100,
          87.87878787878788,
          95.58823529411765,
          45.23809523809524,
          47.2972972972973,
          44.642857142857146,
          97.29729729729729,
          98.63013698630137,
          100,
          97.01492537313433,
          97.53086419753086,
          100,
          97.1830985915493,
          96.05263157894737,
          98.50746268656717
         ]
        },
        {
         "boxpoints": "all",
         "name": "2",
         "text": [
          "April 13, 2021 2",
          "April 18, 2021 2",
          "April 20, 2021 2",
          "April 22, 2021 2",
          "April 14, 2021 3",
          "April 15, 2021 3",
          "April 20, 2021 3",
          "April 21, 2021 3",
          "April 23, 2021 3",
          "April 26, 2021 3",
          "April 17, 2021 4",
          "April 18, 2021 4",
          "April 19, 2021 4",
          "April 23, 2021 4",
          "April 24, 2021 4",
          "April 27, 2021 4",
          "April 24, 2021 5",
          "April 26, 2021 5",
          "April 27, 2021 5",
          "April 30, 2021 5",
          "May 28, 2021 12",
          "June 01, 2021 12",
          "June 02, 2021 12",
          "June 04, 2021 12",
          "June 05, 2021 12",
          "June 06, 2021 12",
          "June 07, 2021 12",
          "July 15, 2021 25",
          "July 18, 2021 25",
          "July 19, 2021 25",
          "July 21, 2021 25",
          "July 25, 2021 25",
          "July 15, 2021 26",
          "July 24, 2021 26",
          "July 22, 2021 28",
          "July 25, 2021 28",
          "July 29, 2021 28"
         ],
         "type": "box",
         "y": [
          83.95061728395062,
          100,
          91.35802469135803,
          91.35802469135803,
          100,
          97.43589743589743,
          100,
          98.61111111111111,
          100,
          97.46835443037975,
          86.41975308641975,
          90.12345679012346,
          90.12345679012346,
          74.07407407407408,
          80.24691358024691,
          90.12345679012346,
          98.78048780487805,
          96.29629629629629,
          89.74358974358974,
          83.95061728395062,
          100,
          94.28571428571429,
          85.91549295774648,
          93.93939393939394,
          98.57142857142857,
          100,
          95.94594594594595,
          96.20253164556962,
          95,
          95.89041095890411,
          96.15384615384616,
          100,
          100,
          90.3225806451613,
          84.12698412698413,
          87.5,
          84.90566037735849
         ]
        },
        {
         "boxpoints": "all",
         "name": "3",
         "text": [
          "April 14, 2021 2",
          "April 16, 2021 4",
          "April 20, 2021 4",
          "April 21, 2021 4",
          "April 22, 2021 4",
          "April 25, 2021 4",
          "April 26, 2021 4",
          "April 28, 2021 4",
          "April 22, 2021 5",
          "April 23, 2021 5",
          "May 26, 2021 12",
          "May 27, 2021 12",
          "May 30, 2021 12",
          "May 31, 2021 12",
          "July 16, 2021 25",
          "July 17, 2021 25",
          "July 23, 2021 28",
          "July 24, 2021 28",
          "July 27, 2021 28",
          "July 28, 2021 28"
         ],
         "type": "box",
         "y": [
          92.5925925925926,
          72.8395061728395,
          77.5,
          87.65432098765432,
          82.71604938271605,
          70.37037037037037,
          72.8395061728395,
          96.29629629629629,
          85.18518518518519,
          82.71604938271605,
          80.28169014084507,
          93.10344827586206,
          84.7457627118644,
          74.24242424242425,
          95,
          90,
          86.88524590163935,
          91.66666666666667,
          84.81012658227849,
          73.6842105263158
         ]
        }
       ],
       "layout": {
        "font": {
         "color": "black",
         "family": "Helvetica",
         "size": 24
        },
        "plot_bgcolor": "#FFF",
        "template": {
         "data": {
          "bar": [
           {
            "error_x": {
             "color": "#2a3f5f"
            },
            "error_y": {
             "color": "#2a3f5f"
            },
            "marker": {
             "line": {
              "color": "#E5ECF6",
              "width": 0.5
             },
             "pattern": {
              "fillmode": "overlay",
              "size": 10,
              "solidity": 0.2
             }
            },
            "type": "bar"
           }
          ],
          "barpolar": [
           {
            "marker": {
             "line": {
              "color": "#E5ECF6",
              "width": 0.5
             },
             "pattern": {
              "fillmode": "overlay",
              "size": 10,
              "solidity": 0.2
             }
            },
            "type": "barpolar"
           }
          ],
          "carpet": [
           {
            "aaxis": {
             "endlinecolor": "#2a3f5f",
             "gridcolor": "white",
             "linecolor": "white",
             "minorgridcolor": "white",
             "startlinecolor": "#2a3f5f"
            },
            "baxis": {
             "endlinecolor": "#2a3f5f",
             "gridcolor": "white",
             "linecolor": "white",
             "minorgridcolor": "white",
             "startlinecolor": "#2a3f5f"
            },
            "type": "carpet"
           }
          ],
          "choropleth": [
           {
            "colorbar": {
             "outlinewidth": 0,
             "ticks": ""
            },
            "type": "choropleth"
           }
          ],
          "contour": [
           {
            "colorbar": {
             "outlinewidth": 0,
             "ticks": ""
            },
            "colorscale": [
             [
              0,
              "#0d0887"
             ],
             [
              0.1111111111111111,
              "#46039f"
             ],
             [
              0.2222222222222222,
              "#7201a8"
             ],
             [
              0.3333333333333333,
              "#9c179e"
             ],
             [
              0.4444444444444444,
              "#bd3786"
             ],
             [
              0.5555555555555556,
              "#d8576b"
             ],
             [
              0.6666666666666666,
              "#ed7953"
             ],
             [
              0.7777777777777778,
              "#fb9f3a"
             ],
             [
              0.8888888888888888,
              "#fdca26"
             ],
             [
              1,
              "#f0f921"
             ]
            ],
            "type": "contour"
           }
          ],
          "contourcarpet": [
           {
            "colorbar": {
             "outlinewidth": 0,
             "ticks": ""
            },
            "type": "contourcarpet"
           }
          ],
          "heatmap": [
           {
            "colorbar": {
             "outlinewidth": 0,
             "ticks": ""
            },
            "colorscale": [
             [
              0,
              "#0d0887"
             ],
             [
              0.1111111111111111,
              "#46039f"
             ],
             [
              0.2222222222222222,
              "#7201a8"
             ],
             [
              0.3333333333333333,
              "#9c179e"
             ],
             [
              0.4444444444444444,
              "#bd3786"
             ],
             [
              0.5555555555555556,
              "#d8576b"
             ],
             [
              0.6666666666666666,
              "#ed7953"
             ],
             [
              0.7777777777777778,
              "#fb9f3a"
             ],
             [
              0.8888888888888888,
              "#fdca26"
             ],
             [
              1,
              "#f0f921"
             ]
            ],
            "type": "heatmap"
           }
          ],
          "heatmapgl": [
           {
            "colorbar": {
             "outlinewidth": 0,
             "ticks": ""
            },
            "colorscale": [
             [
              0,
              "#0d0887"
             ],
             [
              0.1111111111111111,
              "#46039f"
             ],
             [
              0.2222222222222222,
              "#7201a8"
             ],
             [
              0.3333333333333333,
              "#9c179e"
             ],
             [
              0.4444444444444444,
              "#bd3786"
             ],
             [
              0.5555555555555556,
              "#d8576b"
             ],
             [
              0.6666666666666666,
              "#ed7953"
             ],
             [
              0.7777777777777778,
              "#fb9f3a"
             ],
             [
              0.8888888888888888,
              "#fdca26"
             ],
             [
              1,
              "#f0f921"
             ]
            ],
            "type": "heatmapgl"
           }
          ],
          "histogram": [
           {
            "marker": {
             "pattern": {
              "fillmode": "overlay",
              "size": 10,
              "solidity": 0.2
             }
            },
            "type": "histogram"
           }
          ],
          "histogram2d": [
           {
            "colorbar": {
             "outlinewidth": 0,
             "ticks": ""
            },
            "colorscale": [
             [
              0,
              "#0d0887"
             ],
             [
              0.1111111111111111,
              "#46039f"
             ],
             [
              0.2222222222222222,
              "#7201a8"
             ],
             [
              0.3333333333333333,
              "#9c179e"
             ],
             [
              0.4444444444444444,
              "#bd3786"
             ],
             [
              0.5555555555555556,
              "#d8576b"
             ],
             [
              0.6666666666666666,
              "#ed7953"
             ],
             [
              0.7777777777777778,
              "#fb9f3a"
             ],
             [
              0.8888888888888888,
              "#fdca26"
             ],
             [
              1,
              "#f0f921"
             ]
            ],
            "type": "histogram2d"
           }
          ],
          "histogram2dcontour": [
           {
            "colorbar": {
             "outlinewidth": 0,
             "ticks": ""
            },
            "colorscale": [
             [
              0,
              "#0d0887"
             ],
             [
              0.1111111111111111,
              "#46039f"
             ],
             [
              0.2222222222222222,
              "#7201a8"
             ],
             [
              0.3333333333333333,
              "#9c179e"
             ],
             [
              0.4444444444444444,
              "#bd3786"
             ],
             [
              0.5555555555555556,
              "#d8576b"
             ],
             [
              0.6666666666666666,
              "#ed7953"
             ],
             [
              0.7777777777777778,
              "#fb9f3a"
             ],
             [
              0.8888888888888888,
              "#fdca26"
             ],
             [
              1,
              "#f0f921"
             ]
            ],
            "type": "histogram2dcontour"
           }
          ],
          "mesh3d": [
           {
            "colorbar": {
             "outlinewidth": 0,
             "ticks": ""
            },
            "type": "mesh3d"
           }
          ],
          "parcoords": [
           {
            "line": {
             "colorbar": {
              "outlinewidth": 0,
              "ticks": ""
             }
            },
            "type": "parcoords"
           }
          ],
          "pie": [
           {
            "automargin": true,
            "type": "pie"
           }
          ],
          "scatter": [
           {
            "fillpattern": {
             "fillmode": "overlay",
             "size": 10,
             "solidity": 0.2
            },
            "type": "scatter"
           }
          ],
          "scatter3d": [
           {
            "line": {
             "colorbar": {
              "outlinewidth": 0,
              "ticks": ""
             }
            },
            "marker": {
             "colorbar": {
              "outlinewidth": 0,
              "ticks": ""
             }
            },
            "type": "scatter3d"
           }
          ],
          "scattercarpet": [
           {
            "marker": {
             "colorbar": {
              "outlinewidth": 0,
              "ticks": ""
             }
            },
            "type": "scattercarpet"
           }
          ],
          "scattergeo": [
           {
            "marker": {
             "colorbar": {
              "outlinewidth": 0,
              "ticks": ""
             }
            },
            "type": "scattergeo"
           }
          ],
          "scattergl": [
           {
            "marker": {
             "colorbar": {
              "outlinewidth": 0,
              "ticks": ""
             }
            },
            "type": "scattergl"
           }
          ],
          "scattermapbox": [
           {
            "marker": {
             "colorbar": {
              "outlinewidth": 0,
              "ticks": ""
             }
            },
            "type": "scattermapbox"
           }
          ],
          "scatterpolar": [
           {
            "marker": {
             "colorbar": {
              "outlinewidth": 0,
              "ticks": ""
             }
            },
            "type": "scatterpolar"
           }
          ],
          "scatterpolargl": [
           {
            "marker": {
             "colorbar": {
              "outlinewidth": 0,
              "ticks": ""
             }
            },
            "type": "scatterpolargl"
           }
          ],
          "scatterternary": [
           {
            "marker": {
             "colorbar": {
              "outlinewidth": 0,
              "ticks": ""
             }
            },
            "type": "scatterternary"
           }
          ],
          "surface": [
           {
            "colorbar": {
             "outlinewidth": 0,
             "ticks": ""
            },
            "colorscale": [
             [
              0,
              "#0d0887"
             ],
             [
              0.1111111111111111,
              "#46039f"
             ],
             [
              0.2222222222222222,
              "#7201a8"
             ],
             [
              0.3333333333333333,
              "#9c179e"
             ],
             [
              0.4444444444444444,
              "#bd3786"
             ],
             [
              0.5555555555555556,
              "#d8576b"
             ],
             [
              0.6666666666666666,
              "#ed7953"
             ],
             [
              0.7777777777777778,
              "#fb9f3a"
             ],
             [
              0.8888888888888888,
              "#fdca26"
             ],
             [
              1,
              "#f0f921"
             ]
            ],
            "type": "surface"
           }
          ],
          "table": [
           {
            "cells": {
             "fill": {
              "color": "#EBF0F8"
             },
             "line": {
              "color": "white"
             }
            },
            "header": {
             "fill": {
              "color": "#C8D4E3"
             },
             "line": {
              "color": "white"
             }
            },
            "type": "table"
           }
          ]
         },
         "layout": {
          "annotationdefaults": {
           "arrowcolor": "#2a3f5f",
           "arrowhead": 0,
           "arrowwidth": 1
          },
          "autotypenumbers": "strict",
          "coloraxis": {
           "colorbar": {
            "outlinewidth": 0,
            "ticks": ""
           }
          },
          "colorscale": {
           "diverging": [
            [
             0,
             "#8e0152"
            ],
            [
             0.1,
             "#c51b7d"
            ],
            [
             0.2,
             "#de77ae"
            ],
            [
             0.3,
             "#f1b6da"
            ],
            [
             0.4,
             "#fde0ef"
            ],
            [
             0.5,
             "#f7f7f7"
            ],
            [
             0.6,
             "#e6f5d0"
            ],
            [
             0.7,
             "#b8e186"
            ],
            [
             0.8,
             "#7fbc41"
            ],
            [
             0.9,
             "#4d9221"
            ],
            [
             1,
             "#276419"
            ]
           ],
           "sequential": [
            [
             0,
             "#0d0887"
            ],
            [
             0.1111111111111111,
             "#46039f"
            ],
            [
             0.2222222222222222,
             "#7201a8"
            ],
            [
             0.3333333333333333,
             "#9c179e"
            ],
            [
             0.4444444444444444,
             "#bd3786"
            ],
            [
             0.5555555555555556,
             "#d8576b"
            ],
            [
             0.6666666666666666,
             "#ed7953"
            ],
            [
             0.7777777777777778,
             "#fb9f3a"
            ],
            [
             0.8888888888888888,
             "#fdca26"
            ],
            [
             1,
             "#f0f921"
            ]
           ],
           "sequentialminus": [
            [
             0,
             "#0d0887"
            ],
            [
             0.1111111111111111,
             "#46039f"
            ],
            [
             0.2222222222222222,
             "#7201a8"
            ],
            [
             0.3333333333333333,
             "#9c179e"
            ],
            [
             0.4444444444444444,
             "#bd3786"
            ],
            [
             0.5555555555555556,
             "#d8576b"
            ],
            [
             0.6666666666666666,
             "#ed7953"
            ],
            [
             0.7777777777777778,
             "#fb9f3a"
            ],
            [
             0.8888888888888888,
             "#fdca26"
            ],
            [
             1,
             "#f0f921"
            ]
           ]
          },
          "colorway": [
           "#636efa",
           "#EF553B",
           "#00cc96",
           "#ab63fa",
           "#FFA15A",
           "#19d3f3",
           "#FF6692",
           "#B6E880",
           "#FF97FF",
           "#FECB52"
          ],
          "font": {
           "color": "#2a3f5f"
          },
          "geo": {
           "bgcolor": "white",
           "lakecolor": "white",
           "landcolor": "#E5ECF6",
           "showlakes": true,
           "showland": true,
           "subunitcolor": "white"
          },
          "hoverlabel": {
           "align": "left"
          },
          "hovermode": "closest",
          "mapbox": {
           "style": "light"
          },
          "paper_bgcolor": "white",
          "plot_bgcolor": "#E5ECF6",
          "polar": {
           "angularaxis": {
            "gridcolor": "white",
            "linecolor": "white",
            "ticks": ""
           },
           "bgcolor": "#E5ECF6",
           "radialaxis": {
            "gridcolor": "white",
            "linecolor": "white",
            "ticks": ""
           }
          },
          "scene": {
           "xaxis": {
            "backgroundcolor": "#E5ECF6",
            "gridcolor": "white",
            "gridwidth": 2,
            "linecolor": "white",
            "showbackground": true,
            "ticks": "",
            "zerolinecolor": "white"
           },
           "yaxis": {
            "backgroundcolor": "#E5ECF6",
            "gridcolor": "white",
            "gridwidth": 2,
            "linecolor": "white",
            "showbackground": true,
            "ticks": "",
            "zerolinecolor": "white"
           },
           "zaxis": {
            "backgroundcolor": "#E5ECF6",
            "gridcolor": "white",
            "gridwidth": 2,
            "linecolor": "white",
            "showbackground": true,
            "ticks": "",
            "zerolinecolor": "white"
           }
          },
          "shapedefaults": {
           "line": {
            "color": "#2a3f5f"
           }
          },
          "ternary": {
           "aaxis": {
            "gridcolor": "white",
            "linecolor": "white",
            "ticks": ""
           },
           "baxis": {
            "gridcolor": "white",
            "linecolor": "white",
            "ticks": ""
           },
           "bgcolor": "#E5ECF6",
           "caxis": {
            "gridcolor": "white",
            "linecolor": "white",
            "ticks": ""
           }
          },
          "title": {
           "x": 0.05
          },
          "xaxis": {
           "automargin": true,
           "gridcolor": "white",
           "linecolor": "white",
           "ticks": "",
           "title": {
            "standoff": 15
           },
           "zerolinecolor": "white",
           "zerolinewidth": 2
          },
          "yaxis": {
           "automargin": true,
           "gridcolor": "white",
           "linecolor": "white",
           "ticks": "",
           "title": {
            "standoff": 15
           },
           "zerolinecolor": "white",
           "zerolinewidth": 2
          }
         }
        },
        "xaxis": {
         "linecolor": "black",
         "showgrid": false
        },
        "yaxis": {
         "linecolor": "black",
         "range": [
          50,
          101
         ],
         "showgrid": false,
         "title": {
          "text": "TIR 54-140"
         }
        }
       }
      },
      "text/html": [
       "<div>                            <div id=\"263c4885-83b3-45a7-a3ef-519c8557a04a\" class=\"plotly-graph-div\" style=\"height:525px; width:100%;\"></div>            <script type=\"text/javascript\">                require([\"plotly\"], function(Plotly) {                    window.PLOTLYENV=window.PLOTLYENV || {};                                    if (document.getElementById(\"263c4885-83b3-45a7-a3ef-519c8557a04a\")) {                    Plotly.newPlot(                        \"263c4885-83b3-45a7-a3ef-519c8557a04a\",                        [{\"boxpoints\":\"all\",\"name\":\"0\",\"text\":[\"April 23, 2021 2\",\"April 17, 2021 3\",\"April 24, 2021 3\",\"April 28, 2021 5\",\"May 01, 2021 5\",\"June 29, 2021 18\",\"June 30, 2021 18\",\"July 02, 2021 18\",\"July 20, 2021 25\",\"July 24, 2021 25\",\"July 26, 2021 25\",\"July 27, 2021 25\",\"July 20, 2021 26\",\"July 23, 2021 26\"],\"y\":[100.0,100.0,100.0,100.0,96.29629629629629,50.0,21.428571428571427,54.83870967741935,100.0,96.15384615384616,100.0,97.10144927536231,100.0,100.0],\"type\":\"box\"},{\"boxpoints\":\"all\",\"name\":\"1\",\"text\":[\"April 15, 2021 2\",\"April 16, 2021 2\",\"April 17, 2021 2\",\"April 19, 2021 2\",\"April 21, 2021 2\",\"April 24, 2021 2\",\"April 25, 2021 2\",\"April 16, 2021 3\",\"April 18, 2021 3\",\"April 19, 2021 3\",\"April 22, 2021 3\",\"April 25, 2021 3\",\"April 21, 2021 5\",\"April 25, 2021 5\",\"April 29, 2021 5\",\"May 02, 2021 5\",\"May 29, 2021 12\",\"June 03, 2021 12\",\"June 24, 2021 18\",\"June 28, 2021 18\",\"July 03, 2021 18\",\"July 22, 2021 25\",\"July 16, 2021 26\",\"July 17, 2021 26\",\"July 18, 2021 26\",\"July 19, 2021 26\",\"July 21, 2021 26\",\"July 22, 2021 26\",\"July 26, 2021 26\",\"July 27, 2021 26\"],\"y\":[100.0,100.0,97.53086419753086,92.5925925925926,96.29629629629629,95.06172839506173,100.0,97.75280898876404,100.0,100.0,100.0,100.0,96.29629629629629,100.0,92.5925925925926,100.0,87.87878787878788,95.58823529411765,45.23809523809524,47.2972972972973,44.642857142857146,97.29729729729729,98.63013698630137,100.0,97.01492537313433,97.53086419753086,100.0,97.1830985915493,96.05263157894737,98.50746268656717],\"type\":\"box\"},{\"boxpoints\":\"all\",\"name\":\"2\",\"text\":[\"April 13, 2021 2\",\"April 18, 2021 2\",\"April 20, 2021 2\",\"April 22, 2021 2\",\"April 14, 2021 3\",\"April 15, 2021 3\",\"April 20, 2021 3\",\"April 21, 2021 3\",\"April 23, 2021 3\",\"April 26, 2021 3\",\"April 17, 2021 4\",\"April 18, 2021 4\",\"April 19, 2021 4\",\"April 23, 2021 4\",\"April 24, 2021 4\",\"April 27, 2021 4\",\"April 24, 2021 5\",\"April 26, 2021 5\",\"April 27, 2021 5\",\"April 30, 2021 5\",\"May 28, 2021 12\",\"June 01, 2021 12\",\"June 02, 2021 12\",\"June 04, 2021 12\",\"June 05, 2021 12\",\"June 06, 2021 12\",\"June 07, 2021 12\",\"July 15, 2021 25\",\"July 18, 2021 25\",\"July 19, 2021 25\",\"July 21, 2021 25\",\"July 25, 2021 25\",\"July 15, 2021 26\",\"July 24, 2021 26\",\"July 22, 2021 28\",\"July 25, 2021 28\",\"July 29, 2021 28\"],\"y\":[83.95061728395062,100.0,91.35802469135803,91.35802469135803,100.0,97.43589743589743,100.0,98.61111111111111,100.0,97.46835443037975,86.41975308641975,90.12345679012346,90.12345679012346,74.07407407407408,80.24691358024691,90.12345679012346,98.78048780487805,96.29629629629629,89.74358974358974,83.95061728395062,100.0,94.28571428571429,85.91549295774648,93.93939393939394,98.57142857142857,100.0,95.94594594594595,96.20253164556962,95.0,95.89041095890411,96.15384615384616,100.0,100.0,90.3225806451613,84.12698412698413,87.5,84.90566037735849],\"type\":\"box\"},{\"boxpoints\":\"all\",\"name\":\"3\",\"text\":[\"April 14, 2021 2\",\"April 16, 2021 4\",\"April 20, 2021 4\",\"April 21, 2021 4\",\"April 22, 2021 4\",\"April 25, 2021 4\",\"April 26, 2021 4\",\"April 28, 2021 4\",\"April 22, 2021 5\",\"April 23, 2021 5\",\"May 26, 2021 12\",\"May 27, 2021 12\",\"May 30, 2021 12\",\"May 31, 2021 12\",\"July 16, 2021 25\",\"July 17, 2021 25\",\"July 23, 2021 28\",\"July 24, 2021 28\",\"July 27, 2021 28\",\"July 28, 2021 28\"],\"y\":[92.5925925925926,72.8395061728395,77.5,87.65432098765432,82.71604938271605,70.37037037037037,72.8395061728395,96.29629629629629,85.18518518518519,82.71604938271605,80.28169014084507,93.10344827586206,84.7457627118644,74.24242424242425,95.0,90.0,86.88524590163935,91.66666666666667,84.81012658227849,73.6842105263158],\"type\":\"box\"}],                        {\"font\":{\"color\":\"black\",\"family\":\"Helvetica\",\"size\":24},\"plot_bgcolor\":\"#FFF\",\"xaxis\":{\"linecolor\":\"black\",\"showgrid\":false},\"yaxis\":{\"linecolor\":\"black\",\"showgrid\":false,\"title\":{\"text\":\"TIR 54-140\"},\"range\":[50,101]},\"template\":{\"data\":{\"histogram2dcontour\":[{\"type\":\"histogram2dcontour\",\"colorbar\":{\"outlinewidth\":0,\"ticks\":\"\"},\"colorscale\":[[0.0,\"#0d0887\"],[0.1111111111111111,\"#46039f\"],[0.2222222222222222,\"#7201a8\"],[0.3333333333333333,\"#9c179e\"],[0.4444444444444444,\"#bd3786\"],[0.5555555555555556,\"#d8576b\"],[0.6666666666666666,\"#ed7953\"],[0.7777777777777778,\"#fb9f3a\"],[0.8888888888888888,\"#fdca26\"],[1.0,\"#f0f921\"]]}],\"choropleth\":[{\"type\":\"choropleth\",\"colorbar\":{\"outlinewidth\":0,\"ticks\":\"\"}}],\"histogram2d\":[{\"type\":\"histogram2d\",\"colorbar\":{\"outlinewidth\":0,\"ticks\":\"\"},\"colorscale\":[[0.0,\"#0d0887\"],[0.1111111111111111,\"#46039f\"],[0.2222222222222222,\"#7201a8\"],[0.3333333333333333,\"#9c179e\"],[0.4444444444444444,\"#bd3786\"],[0.5555555555555556,\"#d8576b\"],[0.6666666666666666,\"#ed7953\"],[0.7777777777777778,\"#fb9f3a\"],[0.8888888888888888,\"#fdca26\"],[1.0,\"#f0f921\"]]}],\"heatmap\":[{\"type\":\"heatmap\",\"colorbar\":{\"outlinewidth\":0,\"ticks\":\"\"},\"colorscale\":[[0.0,\"#0d0887\"],[0.1111111111111111,\"#46039f\"],[0.2222222222222222,\"#7201a8\"],[0.3333333333333333,\"#9c179e\"],[0.4444444444444444,\"#bd3786\"],[0.5555555555555556,\"#d8576b\"],[0.6666666666666666,\"#ed7953\"],[0.7777777777777778,\"#fb9f3a\"],[0.8888888888888888,\"#fdca26\"],[1.0,\"#f0f921\"]]}],\"heatmapgl\":[{\"type\":\"heatmapgl\",\"colorbar\":{\"outlinewidth\":0,\"ticks\":\"\"},\"colorscale\":[[0.0,\"#0d0887\"],[0.1111111111111111,\"#46039f\"],[0.2222222222222222,\"#7201a8\"],[0.3333333333333333,\"#9c179e\"],[0.4444444444444444,\"#bd3786\"],[0.5555555555555556,\"#d8576b\"],[0.6666666666666666,\"#ed7953\"],[0.7777777777777778,\"#fb9f3a\"],[0.8888888888888888,\"#fdca26\"],[1.0,\"#f0f921\"]]}],\"contourcarpet\":[{\"type\":\"contourcarpet\",\"colorbar\":{\"outlinewidth\":0,\"ticks\":\"\"}}],\"contour\":[{\"type\":\"contour\",\"colorbar\":{\"outlinewidth\":0,\"ticks\":\"\"},\"colorscale\":[[0.0,\"#0d0887\"],[0.1111111111111111,\"#46039f\"],[0.2222222222222222,\"#7201a8\"],[0.3333333333333333,\"#9c179e\"],[0.4444444444444444,\"#bd3786\"],[0.5555555555555556,\"#d8576b\"],[0.6666666666666666,\"#ed7953\"],[0.7777777777777778,\"#fb9f3a\"],[0.8888888888888888,\"#fdca26\"],[1.0,\"#f0f921\"]]}],\"surface\":[{\"type\":\"surface\",\"colorbar\":{\"outlinewidth\":0,\"ticks\":\"\"},\"colorscale\":[[0.0,\"#0d0887\"],[0.1111111111111111,\"#46039f\"],[0.2222222222222222,\"#7201a8\"],[0.3333333333333333,\"#9c179e\"],[0.4444444444444444,\"#bd3786\"],[0.5555555555555556,\"#d8576b\"],[0.6666666666666666,\"#ed7953\"],[0.7777777777777778,\"#fb9f3a\"],[0.8888888888888888,\"#fdca26\"],[1.0,\"#f0f921\"]]}],\"mesh3d\":[{\"type\":\"mesh3d\",\"colorbar\":{\"outlinewidth\":0,\"ticks\":\"\"}}],\"scatter\":[{\"fillpattern\":{\"fillmode\":\"overlay\",\"size\":10,\"solidity\":0.2},\"type\":\"scatter\"}],\"parcoords\":[{\"type\":\"parcoords\",\"line\":{\"colorbar\":{\"outlinewidth\":0,\"ticks\":\"\"}}}],\"scatterpolargl\":[{\"type\":\"scatterpolargl\",\"marker\":{\"colorbar\":{\"outlinewidth\":0,\"ticks\":\"\"}}}],\"bar\":[{\"error_x\":{\"color\":\"#2a3f5f\"},\"error_y\":{\"color\":\"#2a3f5f\"},\"marker\":{\"line\":{\"color\":\"#E5ECF6\",\"width\":0.5},\"pattern\":{\"fillmode\":\"overlay\",\"size\":10,\"solidity\":0.2}},\"type\":\"bar\"}],\"scattergeo\":[{\"type\":\"scattergeo\",\"marker\":{\"colorbar\":{\"outlinewidth\":0,\"ticks\":\"\"}}}],\"scatterpolar\":[{\"type\":\"scatterpolar\",\"marker\":{\"colorbar\":{\"outlinewidth\":0,\"ticks\":\"\"}}}],\"histogram\":[{\"marker\":{\"pattern\":{\"fillmode\":\"overlay\",\"size\":10,\"solidity\":0.2}},\"type\":\"histogram\"}],\"scattergl\":[{\"type\":\"scattergl\",\"marker\":{\"colorbar\":{\"outlinewidth\":0,\"ticks\":\"\"}}}],\"scatter3d\":[{\"type\":\"scatter3d\",\"line\":{\"colorbar\":{\"outlinewidth\":0,\"ticks\":\"\"}},\"marker\":{\"colorbar\":{\"outlinewidth\":0,\"ticks\":\"\"}}}],\"scattermapbox\":[{\"type\":\"scattermapbox\",\"marker\":{\"colorbar\":{\"outlinewidth\":0,\"ticks\":\"\"}}}],\"scatterternary\":[{\"type\":\"scatterternary\",\"marker\":{\"colorbar\":{\"outlinewidth\":0,\"ticks\":\"\"}}}],\"scattercarpet\":[{\"type\":\"scattercarpet\",\"marker\":{\"colorbar\":{\"outlinewidth\":0,\"ticks\":\"\"}}}],\"carpet\":[{\"aaxis\":{\"endlinecolor\":\"#2a3f5f\",\"gridcolor\":\"white\",\"linecolor\":\"white\",\"minorgridcolor\":\"white\",\"startlinecolor\":\"#2a3f5f\"},\"baxis\":{\"endlinecolor\":\"#2a3f5f\",\"gridcolor\":\"white\",\"linecolor\":\"white\",\"minorgridcolor\":\"white\",\"startlinecolor\":\"#2a3f5f\"},\"type\":\"carpet\"}],\"table\":[{\"cells\":{\"fill\":{\"color\":\"#EBF0F8\"},\"line\":{\"color\":\"white\"}},\"header\":{\"fill\":{\"color\":\"#C8D4E3\"},\"line\":{\"color\":\"white\"}},\"type\":\"table\"}],\"barpolar\":[{\"marker\":{\"line\":{\"color\":\"#E5ECF6\",\"width\":0.5},\"pattern\":{\"fillmode\":\"overlay\",\"size\":10,\"solidity\":0.2}},\"type\":\"barpolar\"}],\"pie\":[{\"automargin\":true,\"type\":\"pie\"}]},\"layout\":{\"autotypenumbers\":\"strict\",\"colorway\":[\"#636efa\",\"#EF553B\",\"#00cc96\",\"#ab63fa\",\"#FFA15A\",\"#19d3f3\",\"#FF6692\",\"#B6E880\",\"#FF97FF\",\"#FECB52\"],\"font\":{\"color\":\"#2a3f5f\"},\"hovermode\":\"closest\",\"hoverlabel\":{\"align\":\"left\"},\"paper_bgcolor\":\"white\",\"plot_bgcolor\":\"#E5ECF6\",\"polar\":{\"bgcolor\":\"#E5ECF6\",\"angularaxis\":{\"gridcolor\":\"white\",\"linecolor\":\"white\",\"ticks\":\"\"},\"radialaxis\":{\"gridcolor\":\"white\",\"linecolor\":\"white\",\"ticks\":\"\"}},\"ternary\":{\"bgcolor\":\"#E5ECF6\",\"aaxis\":{\"gridcolor\":\"white\",\"linecolor\":\"white\",\"ticks\":\"\"},\"baxis\":{\"gridcolor\":\"white\",\"linecolor\":\"white\",\"ticks\":\"\"},\"caxis\":{\"gridcolor\":\"white\",\"linecolor\":\"white\",\"ticks\":\"\"}},\"coloraxis\":{\"colorbar\":{\"outlinewidth\":0,\"ticks\":\"\"}},\"colorscale\":{\"sequential\":[[0.0,\"#0d0887\"],[0.1111111111111111,\"#46039f\"],[0.2222222222222222,\"#7201a8\"],[0.3333333333333333,\"#9c179e\"],[0.4444444444444444,\"#bd3786\"],[0.5555555555555556,\"#d8576b\"],[0.6666666666666666,\"#ed7953\"],[0.7777777777777778,\"#fb9f3a\"],[0.8888888888888888,\"#fdca26\"],[1.0,\"#f0f921\"]],\"sequentialminus\":[[0.0,\"#0d0887\"],[0.1111111111111111,\"#46039f\"],[0.2222222222222222,\"#7201a8\"],[0.3333333333333333,\"#9c179e\"],[0.4444444444444444,\"#bd3786\"],[0.5555555555555556,\"#d8576b\"],[0.6666666666666666,\"#ed7953\"],[0.7777777777777778,\"#fb9f3a\"],[0.8888888888888888,\"#fdca26\"],[1.0,\"#f0f921\"]],\"diverging\":[[0,\"#8e0152\"],[0.1,\"#c51b7d\"],[0.2,\"#de77ae\"],[0.3,\"#f1b6da\"],[0.4,\"#fde0ef\"],[0.5,\"#f7f7f7\"],[0.6,\"#e6f5d0\"],[0.7,\"#b8e186\"],[0.8,\"#7fbc41\"],[0.9,\"#4d9221\"],[1,\"#276419\"]]},\"xaxis\":{\"gridcolor\":\"white\",\"linecolor\":\"white\",\"ticks\":\"\",\"title\":{\"standoff\":15},\"zerolinecolor\":\"white\",\"automargin\":true,\"zerolinewidth\":2},\"yaxis\":{\"gridcolor\":\"white\",\"linecolor\":\"white\",\"ticks\":\"\",\"title\":{\"standoff\":15},\"zerolinecolor\":\"white\",\"automargin\":true,\"zerolinewidth\":2},\"scene\":{\"xaxis\":{\"backgroundcolor\":\"#E5ECF6\",\"gridcolor\":\"white\",\"linecolor\":\"white\",\"showbackground\":true,\"ticks\":\"\",\"zerolinecolor\":\"white\",\"gridwidth\":2},\"yaxis\":{\"backgroundcolor\":\"#E5ECF6\",\"gridcolor\":\"white\",\"linecolor\":\"white\",\"showbackground\":true,\"ticks\":\"\",\"zerolinecolor\":\"white\",\"gridwidth\":2},\"zaxis\":{\"backgroundcolor\":\"#E5ECF6\",\"gridcolor\":\"white\",\"linecolor\":\"white\",\"showbackground\":true,\"ticks\":\"\",\"zerolinecolor\":\"white\",\"gridwidth\":2}},\"shapedefaults\":{\"line\":{\"color\":\"#2a3f5f\"}},\"annotationdefaults\":{\"arrowcolor\":\"#2a3f5f\",\"arrowhead\":0,\"arrowwidth\":1},\"geo\":{\"bgcolor\":\"white\",\"landcolor\":\"#E5ECF6\",\"subunitcolor\":\"white\",\"showland\":true,\"showlakes\":true,\"lakecolor\":\"white\"},\"title\":{\"x\":0.05},\"mapbox\":{\"style\":\"light\"}}}},                        {\"responsive\": true}                    ).then(function(){\n",
       "                            \n",
       "var gd = document.getElementById('263c4885-83b3-45a7-a3ef-519c8557a04a');\n",
       "var x = new MutationObserver(function (mutations, observer) {{\n",
       "        var display = window.getComputedStyle(gd).display;\n",
       "        if (!display || display === 'none') {{\n",
       "            console.log([gd, 'removed!']);\n",
       "            Plotly.purge(gd);\n",
       "            observer.disconnect();\n",
       "        }}\n",
       "}});\n",
       "\n",
       "// Listen for the removal of the full notebook cells\n",
       "var notebookContainer = gd.closest('#notebook-container');\n",
       "if (notebookContainer) {{\n",
       "    x.observe(notebookContainer, {childList: true});\n",
       "}}\n",
       "\n",
       "// Listen for the clearing of the current output cell\n",
       "var outputEl = gd.closest('.output');\n",
       "if (outputEl) {{\n",
       "    x.observe(outputEl, {childList: true});\n",
       "}}\n",
       "\n",
       "                        })                };                });            </script>        </div>"
      ]
     },
     "metadata": {},
     "output_type": "display_data"
    }
   ],
   "source": [
    "\n",
    "df_all_days_c2 = df_all_day[(df_all_day['status']=='pre-T2D')].reset_index(drop=True)\n",
    "# [(df_all_day['status']=='pre-T2D')].reset_index(drop=True)\n",
    "\n",
    "sum_name = df_all_days_c2['all_freq_big_meal']\n",
    "\n",
    "# str_name = np.array([str(df_all_days_c2.loc[x, 'meal_1'])+str(df_all_days_c2.loc[x, 'meal_2'])+str(df_all_days_c2.loc[x, 'meal_3']) for x in range(len(df_all_days_c2))]) \n",
    "TIR =  df_all_days_c2['tir'].values  \n",
    "descript = np.array([df_all_days_c2.loc[x, 'date'].strftime(\"%B %d, %Y\")+\" \"+str(df_all_days_c2.loc[x, 'uid']) for x in range(len(df_all_days_c2))])\n",
    "\n",
    "fig = go.Figure(layout = go.Layout(\n",
    "            plot_bgcolor=\"#FFF\",  # Sets background color to white\n",
    "            xaxis=dict(\n",
    "                linecolor=\"black\",  # Sets color of X-axis line\n",
    "                showgrid=False  # Removes X-axis grid lines\n",
    "            ),\n",
    "            yaxis=dict(\n",
    "                title=\"TIR 54-140\",  \n",
    "                linecolor=\"black\",  # Sets color of Y-axis line\n",
    "                showgrid=False,  # Removes Y-axis grid lines    \n",
    "            ),\n",
    "            font=dict(\n",
    "                family=\"Helvetica\",\n",
    "                size=24,\n",
    "                color=\"black\"\n",
    "            )\n",
    "        ))\n",
    "fig.update_yaxes(range=[50, 101])\n",
    "# fig.add_trace(go.Box(y=[50,50], boxpoints='all', text= descript[np.where(str_name == ty)[0]], boxmean=False, name=0))\n",
    "for ty in [0, 1, 2, 3]:\n",
    "    print(len(np.where(sum_name == ty)[0]))\n",
    "    \n",
    "    if len(np.where(sum_name == ty)[0]) !=0 :\n",
    "\n",
    "        fig.add_trace(go.Box(y=TIR[np.where(sum_name == ty)[0]],boxpoints='all',  text= descript[np.where(sum_name == ty)[0]], name=ty))\n",
    "    else:\n",
    "        \n",
    "        fig.add_trace(go.Box(y=[50,50], boxpoints='all', text= descript[np.where(sum_name == ty)[0]], name=ty))\n",
    "        \n",
    "\n",
    "        \n",
    "fig.show()\n",
    "# fig.write_image(\"/Users/amrutapai/Documents/SDRIpaper1/tir_atrisk_revis.svg\")"
   ]
  },
  {
   "cell_type": "code",
   "execution_count": 20,
   "id": "e85852e7",
   "metadata": {},
   "outputs": [
    {
     "name": "stdout",
     "output_type": "stream",
     "text": [
      "6\n",
      "28\n",
      "68\n",
      "27\n"
     ]
    },
    {
     "data": {
      "application/vnd.plotly.v1+json": {
       "config": {
        "plotlyServerURL": "https://plot.ly"
       },
       "data": [
        {
         "boxpoints": "all",
         "name": "0",
         "text": [
          "June 16, 2021 15",
          "June 28, 2021 19",
          "July 23, 2021 27",
          "July 29, 2021 27",
          "July 29, 2021 30",
          "August 23, 2021 33"
         ],
         "type": "box",
         "y": [
          57.971014492753625,
          77.21518987341773,
          91.25,
          96.25,
          60.3448275862069,
          26.25
         ]
        },
        {
         "boxpoints": "all",
         "name": "1",
         "text": [
          "April 14, 2021 1",
          "April 19, 2021 1",
          "May 01, 2021 7",
          "May 03, 2021 7",
          "May 03, 2021 8",
          "May 04, 2021 8",
          "May 09, 2021 8",
          "June 03, 2021 11",
          "June 05, 2021 11",
          "June 15, 2021 15",
          "June 17, 2021 15",
          "June 26, 2021 19",
          "June 27, 2021 19",
          "June 30, 2021 19",
          "July 01, 2021 19",
          "July 14, 2021 23",
          "July 16, 2021 23",
          "July 25, 2021 23",
          "July 22, 2021 27",
          "July 30, 2021 27",
          "August 01, 2021 27",
          "August 02, 2021 27",
          "July 27, 2021 30",
          "August 04, 2021 30",
          "August 18, 2021 33",
          "August 22, 2021 33",
          "August 21, 2021 34",
          "August 22, 2021 34"
         ],
         "type": "box",
         "y": [
          53.75,
          85.18518518518519,
          21.25,
          1.25,
          0,
          0,
          0,
          81.25,
          71.25,
          34.375,
          74.02597402597402,
          34.375,
          46.774193548387096,
          47.36842105263158,
          48.717948717948715,
          56.470588235294116,
          74.39024390243902,
          56.25,
          93.18181818181819,
          91.25,
          90,
          85,
          82.53968253968254,
          63.333333333333336,
          43.75,
          15,
          61.904761904761905,
          64.86486486486487
         ]
        },
        {
         "boxpoints": "all",
         "name": "2",
         "text": [
          "April 11, 2021 1",
          "April 12, 2021 1",
          "April 13, 2021 1",
          "April 15, 2021 1",
          "April 16, 2021 1",
          "April 17, 2021 1",
          "April 18, 2021 1",
          "April 20, 2021 1",
          "April 25, 2021 7",
          "April 26, 2021 7",
          "April 27, 2021 7",
          "April 28, 2021 7",
          "April 29, 2021 7",
          "April 30, 2021 7",
          "May 02, 2021 7",
          "May 04, 2021 7",
          "May 05, 2021 7",
          "May 06, 2021 7",
          "April 28, 2021 8",
          "May 01, 2021 8",
          "May 05, 2021 8",
          "May 07, 2021 8",
          "May 10, 2021 8",
          "May 25, 2021 11",
          "May 26, 2021 11",
          "May 27, 2021 11",
          "May 28, 2021 11",
          "June 02, 2021 11",
          "June 04, 2021 11",
          "June 06, 2021 11",
          "June 07, 2021 15",
          "June 08, 2021 15",
          "June 09, 2021 15",
          "June 14, 2021 15",
          "June 17, 2021 16",
          "June 18, 2021 16",
          "June 19, 2021 16",
          "June 20, 2021 16",
          "June 21, 2021 16",
          "June 22, 2021 16",
          "June 24, 2021 16",
          "June 26, 2021 16",
          "June 29, 2021 19",
          "July 13, 2021 22",
          "July 15, 2021 22",
          "July 13, 2021 23",
          "July 18, 2021 23",
          "July 21, 2021 23",
          "July 21, 2021 27",
          "July 24, 2021 27",
          "July 26, 2021 27",
          "July 27, 2021 27",
          "July 28, 2021 27",
          "July 31, 2021 27",
          "July 24, 2021 30",
          "July 30, 2021 30",
          "August 12, 2021 33",
          "August 15, 2021 33",
          "August 16, 2021 33",
          "August 17, 2021 33",
          "August 21, 2021 33",
          "August 24, 2021 33",
          "August 15, 2021 34",
          "August 16, 2021 34",
          "August 17, 2021 34",
          "August 18, 2021 34",
          "August 19, 2021 34",
          "August 25, 2021 34"
         ],
         "type": "box",
         "y": [
          15.189873417721518,
          48.75,
          18.75,
          50,
          57.5,
          73.80952380952381,
          45.65217391304348,
          66.25,
          6.818181818181818,
          7.228915662650603,
          7.228915662650603,
          27.38095238095238,
          45.88235294117647,
          35.632183908045974,
          31.11111111111111,
          17.857142857142858,
          53.75,
          45.78313253012048,
          0,
          0,
          0,
          1.2345679012345678,
          0,
          35,
          46.06741573033708,
          37.5,
          57.83132530120482,
          73.75,
          71.25,
          80.48780487804878,
          54.6875,
          59.09090909090909,
          57.89473684210526,
          57.8125,
          68.96551724137932,
          40.74074074074074,
          61.76470588235294,
          55.55555555555556,
          87.6923076923077,
          76.27118644067797,
          70.37037037037037,
          50,
          42.028985507246375,
          0,
          0,
          37.5,
          42.68292682926829,
          56.25,
          70.65217391304348,
          77.5,
          85,
          80,
          90,
          87.65432098765432,
          60.65573770491803,
          65.07936507936508,
          28.75,
          48.86363636363637,
          65,
          68.75,
          50,
          28.75,
          38.775510204081634,
          40.625,
          42.10526315789474,
          70.83333333333333,
          35.59322033898305,
          56.52173913043478
         ]
        },
        {
         "boxpoints": "all",
         "name": "3",
         "text": [
          "April 10, 2021 1",
          "April 21, 2021 1",
          "April 24, 2021 7",
          "April 29, 2021 8",
          "April 30, 2021 8",
          "May 02, 2021 8",
          "May 08, 2021 8",
          "May 29, 2021 11",
          "May 30, 2021 11",
          "May 31, 2021 11",
          "June 01, 2021 11",
          "June 11, 2021 15",
          "July 02, 2021 19",
          "July 12, 2021 22",
          "July 15, 2021 23",
          "July 17, 2021 23",
          "July 19, 2021 23",
          "July 20, 2021 23",
          "July 13, 2021 24",
          "July 25, 2021 27",
          "August 13, 2021 33",
          "August 14, 2021 33",
          "August 19, 2021 33",
          "August 14, 2021 34",
          "August 23, 2021 34",
          "August 24, 2021 34",
          "August 26, 2021 34"
         ],
         "type": "box",
         "y": [
          14.814814814814815,
          43.75,
          4.878048780487805,
          0,
          0,
          0,
          0,
          58.62068965517241,
          72.22222222222223,
          63.75,
          60,
          62.5,
          18.840579710144926,
          0,
          68.18181818181819,
          52.054794520547944,
          32.5,
          38.27160493827161,
          67.12328767123287,
          92.5,
          17.5,
          43.75,
          52.5,
          33.898305084745765,
          54.054054054054056,
          33.9622641509434,
          34.48275862068966
         ]
        }
       ],
       "layout": {
        "font": {
         "color": "black",
         "family": "Helvetica",
         "size": 24
        },
        "plot_bgcolor": "#FFF",
        "template": {
         "data": {
          "bar": [
           {
            "error_x": {
             "color": "#2a3f5f"
            },
            "error_y": {
             "color": "#2a3f5f"
            },
            "marker": {
             "line": {
              "color": "#E5ECF6",
              "width": 0.5
             },
             "pattern": {
              "fillmode": "overlay",
              "size": 10,
              "solidity": 0.2
             }
            },
            "type": "bar"
           }
          ],
          "barpolar": [
           {
            "marker": {
             "line": {
              "color": "#E5ECF6",
              "width": 0.5
             },
             "pattern": {
              "fillmode": "overlay",
              "size": 10,
              "solidity": 0.2
             }
            },
            "type": "barpolar"
           }
          ],
          "carpet": [
           {
            "aaxis": {
             "endlinecolor": "#2a3f5f",
             "gridcolor": "white",
             "linecolor": "white",
             "minorgridcolor": "white",
             "startlinecolor": "#2a3f5f"
            },
            "baxis": {
             "endlinecolor": "#2a3f5f",
             "gridcolor": "white",
             "linecolor": "white",
             "minorgridcolor": "white",
             "startlinecolor": "#2a3f5f"
            },
            "type": "carpet"
           }
          ],
          "choropleth": [
           {
            "colorbar": {
             "outlinewidth": 0,
             "ticks": ""
            },
            "type": "choropleth"
           }
          ],
          "contour": [
           {
            "colorbar": {
             "outlinewidth": 0,
             "ticks": ""
            },
            "colorscale": [
             [
              0,
              "#0d0887"
             ],
             [
              0.1111111111111111,
              "#46039f"
             ],
             [
              0.2222222222222222,
              "#7201a8"
             ],
             [
              0.3333333333333333,
              "#9c179e"
             ],
             [
              0.4444444444444444,
              "#bd3786"
             ],
             [
              0.5555555555555556,
              "#d8576b"
             ],
             [
              0.6666666666666666,
              "#ed7953"
             ],
             [
              0.7777777777777778,
              "#fb9f3a"
             ],
             [
              0.8888888888888888,
              "#fdca26"
             ],
             [
              1,
              "#f0f921"
             ]
            ],
            "type": "contour"
           }
          ],
          "contourcarpet": [
           {
            "colorbar": {
             "outlinewidth": 0,
             "ticks": ""
            },
            "type": "contourcarpet"
           }
          ],
          "heatmap": [
           {
            "colorbar": {
             "outlinewidth": 0,
             "ticks": ""
            },
            "colorscale": [
             [
              0,
              "#0d0887"
             ],
             [
              0.1111111111111111,
              "#46039f"
             ],
             [
              0.2222222222222222,
              "#7201a8"
             ],
             [
              0.3333333333333333,
              "#9c179e"
             ],
             [
              0.4444444444444444,
              "#bd3786"
             ],
             [
              0.5555555555555556,
              "#d8576b"
             ],
             [
              0.6666666666666666,
              "#ed7953"
             ],
             [
              0.7777777777777778,
              "#fb9f3a"
             ],
             [
              0.8888888888888888,
              "#fdca26"
             ],
             [
              1,
              "#f0f921"
             ]
            ],
            "type": "heatmap"
           }
          ],
          "heatmapgl": [
           {
            "colorbar": {
             "outlinewidth": 0,
             "ticks": ""
            },
            "colorscale": [
             [
              0,
              "#0d0887"
             ],
             [
              0.1111111111111111,
              "#46039f"
             ],
             [
              0.2222222222222222,
              "#7201a8"
             ],
             [
              0.3333333333333333,
              "#9c179e"
             ],
             [
              0.4444444444444444,
              "#bd3786"
             ],
             [
              0.5555555555555556,
              "#d8576b"
             ],
             [
              0.6666666666666666,
              "#ed7953"
             ],
             [
              0.7777777777777778,
              "#fb9f3a"
             ],
             [
              0.8888888888888888,
              "#fdca26"
             ],
             [
              1,
              "#f0f921"
             ]
            ],
            "type": "heatmapgl"
           }
          ],
          "histogram": [
           {
            "marker": {
             "pattern": {
              "fillmode": "overlay",
              "size": 10,
              "solidity": 0.2
             }
            },
            "type": "histogram"
           }
          ],
          "histogram2d": [
           {
            "colorbar": {
             "outlinewidth": 0,
             "ticks": ""
            },
            "colorscale": [
             [
              0,
              "#0d0887"
             ],
             [
              0.1111111111111111,
              "#46039f"
             ],
             [
              0.2222222222222222,
              "#7201a8"
             ],
             [
              0.3333333333333333,
              "#9c179e"
             ],
             [
              0.4444444444444444,
              "#bd3786"
             ],
             [
              0.5555555555555556,
              "#d8576b"
             ],
             [
              0.6666666666666666,
              "#ed7953"
             ],
             [
              0.7777777777777778,
              "#fb9f3a"
             ],
             [
              0.8888888888888888,
              "#fdca26"
             ],
             [
              1,
              "#f0f921"
             ]
            ],
            "type": "histogram2d"
           }
          ],
          "histogram2dcontour": [
           {
            "colorbar": {
             "outlinewidth": 0,
             "ticks": ""
            },
            "colorscale": [
             [
              0,
              "#0d0887"
             ],
             [
              0.1111111111111111,
              "#46039f"
             ],
             [
              0.2222222222222222,
              "#7201a8"
             ],
             [
              0.3333333333333333,
              "#9c179e"
             ],
             [
              0.4444444444444444,
              "#bd3786"
             ],
             [
              0.5555555555555556,
              "#d8576b"
             ],
             [
              0.6666666666666666,
              "#ed7953"
             ],
             [
              0.7777777777777778,
              "#fb9f3a"
             ],
             [
              0.8888888888888888,
              "#fdca26"
             ],
             [
              1,
              "#f0f921"
             ]
            ],
            "type": "histogram2dcontour"
           }
          ],
          "mesh3d": [
           {
            "colorbar": {
             "outlinewidth": 0,
             "ticks": ""
            },
            "type": "mesh3d"
           }
          ],
          "parcoords": [
           {
            "line": {
             "colorbar": {
              "outlinewidth": 0,
              "ticks": ""
             }
            },
            "type": "parcoords"
           }
          ],
          "pie": [
           {
            "automargin": true,
            "type": "pie"
           }
          ],
          "scatter": [
           {
            "fillpattern": {
             "fillmode": "overlay",
             "size": 10,
             "solidity": 0.2
            },
            "type": "scatter"
           }
          ],
          "scatter3d": [
           {
            "line": {
             "colorbar": {
              "outlinewidth": 0,
              "ticks": ""
             }
            },
            "marker": {
             "colorbar": {
              "outlinewidth": 0,
              "ticks": ""
             }
            },
            "type": "scatter3d"
           }
          ],
          "scattercarpet": [
           {
            "marker": {
             "colorbar": {
              "outlinewidth": 0,
              "ticks": ""
             }
            },
            "type": "scattercarpet"
           }
          ],
          "scattergeo": [
           {
            "marker": {
             "colorbar": {
              "outlinewidth": 0,
              "ticks": ""
             }
            },
            "type": "scattergeo"
           }
          ],
          "scattergl": [
           {
            "marker": {
             "colorbar": {
              "outlinewidth": 0,
              "ticks": ""
             }
            },
            "type": "scattergl"
           }
          ],
          "scattermapbox": [
           {
            "marker": {
             "colorbar": {
              "outlinewidth": 0,
              "ticks": ""
             }
            },
            "type": "scattermapbox"
           }
          ],
          "scatterpolar": [
           {
            "marker": {
             "colorbar": {
              "outlinewidth": 0,
              "ticks": ""
             }
            },
            "type": "scatterpolar"
           }
          ],
          "scatterpolargl": [
           {
            "marker": {
             "colorbar": {
              "outlinewidth": 0,
              "ticks": ""
             }
            },
            "type": "scatterpolargl"
           }
          ],
          "scatterternary": [
           {
            "marker": {
             "colorbar": {
              "outlinewidth": 0,
              "ticks": ""
             }
            },
            "type": "scatterternary"
           }
          ],
          "surface": [
           {
            "colorbar": {
             "outlinewidth": 0,
             "ticks": ""
            },
            "colorscale": [
             [
              0,
              "#0d0887"
             ],
             [
              0.1111111111111111,
              "#46039f"
             ],
             [
              0.2222222222222222,
              "#7201a8"
             ],
             [
              0.3333333333333333,
              "#9c179e"
             ],
             [
              0.4444444444444444,
              "#bd3786"
             ],
             [
              0.5555555555555556,
              "#d8576b"
             ],
             [
              0.6666666666666666,
              "#ed7953"
             ],
             [
              0.7777777777777778,
              "#fb9f3a"
             ],
             [
              0.8888888888888888,
              "#fdca26"
             ],
             [
              1,
              "#f0f921"
             ]
            ],
            "type": "surface"
           }
          ],
          "table": [
           {
            "cells": {
             "fill": {
              "color": "#EBF0F8"
             },
             "line": {
              "color": "white"
             }
            },
            "header": {
             "fill": {
              "color": "#C8D4E3"
             },
             "line": {
              "color": "white"
             }
            },
            "type": "table"
           }
          ]
         },
         "layout": {
          "annotationdefaults": {
           "arrowcolor": "#2a3f5f",
           "arrowhead": 0,
           "arrowwidth": 1
          },
          "autotypenumbers": "strict",
          "coloraxis": {
           "colorbar": {
            "outlinewidth": 0,
            "ticks": ""
           }
          },
          "colorscale": {
           "diverging": [
            [
             0,
             "#8e0152"
            ],
            [
             0.1,
             "#c51b7d"
            ],
            [
             0.2,
             "#de77ae"
            ],
            [
             0.3,
             "#f1b6da"
            ],
            [
             0.4,
             "#fde0ef"
            ],
            [
             0.5,
             "#f7f7f7"
            ],
            [
             0.6,
             "#e6f5d0"
            ],
            [
             0.7,
             "#b8e186"
            ],
            [
             0.8,
             "#7fbc41"
            ],
            [
             0.9,
             "#4d9221"
            ],
            [
             1,
             "#276419"
            ]
           ],
           "sequential": [
            [
             0,
             "#0d0887"
            ],
            [
             0.1111111111111111,
             "#46039f"
            ],
            [
             0.2222222222222222,
             "#7201a8"
            ],
            [
             0.3333333333333333,
             "#9c179e"
            ],
            [
             0.4444444444444444,
             "#bd3786"
            ],
            [
             0.5555555555555556,
             "#d8576b"
            ],
            [
             0.6666666666666666,
             "#ed7953"
            ],
            [
             0.7777777777777778,
             "#fb9f3a"
            ],
            [
             0.8888888888888888,
             "#fdca26"
            ],
            [
             1,
             "#f0f921"
            ]
           ],
           "sequentialminus": [
            [
             0,
             "#0d0887"
            ],
            [
             0.1111111111111111,
             "#46039f"
            ],
            [
             0.2222222222222222,
             "#7201a8"
            ],
            [
             0.3333333333333333,
             "#9c179e"
            ],
            [
             0.4444444444444444,
             "#bd3786"
            ],
            [
             0.5555555555555556,
             "#d8576b"
            ],
            [
             0.6666666666666666,
             "#ed7953"
            ],
            [
             0.7777777777777778,
             "#fb9f3a"
            ],
            [
             0.8888888888888888,
             "#fdca26"
            ],
            [
             1,
             "#f0f921"
            ]
           ]
          },
          "colorway": [
           "#636efa",
           "#EF553B",
           "#00cc96",
           "#ab63fa",
           "#FFA15A",
           "#19d3f3",
           "#FF6692",
           "#B6E880",
           "#FF97FF",
           "#FECB52"
          ],
          "font": {
           "color": "#2a3f5f"
          },
          "geo": {
           "bgcolor": "white",
           "lakecolor": "white",
           "landcolor": "#E5ECF6",
           "showlakes": true,
           "showland": true,
           "subunitcolor": "white"
          },
          "hoverlabel": {
           "align": "left"
          },
          "hovermode": "closest",
          "mapbox": {
           "style": "light"
          },
          "paper_bgcolor": "white",
          "plot_bgcolor": "#E5ECF6",
          "polar": {
           "angularaxis": {
            "gridcolor": "white",
            "linecolor": "white",
            "ticks": ""
           },
           "bgcolor": "#E5ECF6",
           "radialaxis": {
            "gridcolor": "white",
            "linecolor": "white",
            "ticks": ""
           }
          },
          "scene": {
           "xaxis": {
            "backgroundcolor": "#E5ECF6",
            "gridcolor": "white",
            "gridwidth": 2,
            "linecolor": "white",
            "showbackground": true,
            "ticks": "",
            "zerolinecolor": "white"
           },
           "yaxis": {
            "backgroundcolor": "#E5ECF6",
            "gridcolor": "white",
            "gridwidth": 2,
            "linecolor": "white",
            "showbackground": true,
            "ticks": "",
            "zerolinecolor": "white"
           },
           "zaxis": {
            "backgroundcolor": "#E5ECF6",
            "gridcolor": "white",
            "gridwidth": 2,
            "linecolor": "white",
            "showbackground": true,
            "ticks": "",
            "zerolinecolor": "white"
           }
          },
          "shapedefaults": {
           "line": {
            "color": "#2a3f5f"
           }
          },
          "ternary": {
           "aaxis": {
            "gridcolor": "white",
            "linecolor": "white",
            "ticks": ""
           },
           "baxis": {
            "gridcolor": "white",
            "linecolor": "white",
            "ticks": ""
           },
           "bgcolor": "#E5ECF6",
           "caxis": {
            "gridcolor": "white",
            "linecolor": "white",
            "ticks": ""
           }
          },
          "title": {
           "x": 0.05
          },
          "xaxis": {
           "automargin": true,
           "gridcolor": "white",
           "linecolor": "white",
           "ticks": "",
           "title": {
            "standoff": 15
           },
           "zerolinecolor": "white",
           "zerolinewidth": 2
          },
          "yaxis": {
           "automargin": true,
           "gridcolor": "white",
           "linecolor": "white",
           "ticks": "",
           "title": {
            "standoff": 15
           },
           "zerolinecolor": "white",
           "zerolinewidth": 2
          }
         }
        },
        "xaxis": {
         "linecolor": "black",
         "showgrid": false
        },
        "yaxis": {
         "linecolor": "black",
         "range": [
          0,
          101
         ],
         "showgrid": false,
         "title": {
          "text": "TIR 54-140"
         }
        }
       }
      },
      "text/html": [
       "<div>                            <div id=\"b5ebb574-770f-4440-b079-b00d32dfec06\" class=\"plotly-graph-div\" style=\"height:525px; width:100%;\"></div>            <script type=\"text/javascript\">                require([\"plotly\"], function(Plotly) {                    window.PLOTLYENV=window.PLOTLYENV || {};                                    if (document.getElementById(\"b5ebb574-770f-4440-b079-b00d32dfec06\")) {                    Plotly.newPlot(                        \"b5ebb574-770f-4440-b079-b00d32dfec06\",                        [{\"boxpoints\":\"all\",\"name\":\"0\",\"text\":[\"June 16, 2021 15\",\"June 28, 2021 19\",\"July 23, 2021 27\",\"July 29, 2021 27\",\"July 29, 2021 30\",\"August 23, 2021 33\"],\"y\":[57.971014492753625,77.21518987341773,91.25,96.25,60.3448275862069,26.25],\"type\":\"box\"},{\"boxpoints\":\"all\",\"name\":\"1\",\"text\":[\"April 14, 2021 1\",\"April 19, 2021 1\",\"May 01, 2021 7\",\"May 03, 2021 7\",\"May 03, 2021 8\",\"May 04, 2021 8\",\"May 09, 2021 8\",\"June 03, 2021 11\",\"June 05, 2021 11\",\"June 15, 2021 15\",\"June 17, 2021 15\",\"June 26, 2021 19\",\"June 27, 2021 19\",\"June 30, 2021 19\",\"July 01, 2021 19\",\"July 14, 2021 23\",\"July 16, 2021 23\",\"July 25, 2021 23\",\"July 22, 2021 27\",\"July 30, 2021 27\",\"August 01, 2021 27\",\"August 02, 2021 27\",\"July 27, 2021 30\",\"August 04, 2021 30\",\"August 18, 2021 33\",\"August 22, 2021 33\",\"August 21, 2021 34\",\"August 22, 2021 34\"],\"y\":[53.75,85.18518518518519,21.25,1.25,0.0,0.0,0.0,81.25,71.25,34.375,74.02597402597402,34.375,46.774193548387096,47.36842105263158,48.717948717948715,56.470588235294116,74.39024390243902,56.25,93.18181818181819,91.25,90.0,85.0,82.53968253968254,63.333333333333336,43.75,15.0,61.904761904761905,64.86486486486487],\"type\":\"box\"},{\"boxpoints\":\"all\",\"name\":\"2\",\"text\":[\"April 11, 2021 1\",\"April 12, 2021 1\",\"April 13, 2021 1\",\"April 15, 2021 1\",\"April 16, 2021 1\",\"April 17, 2021 1\",\"April 18, 2021 1\",\"April 20, 2021 1\",\"April 25, 2021 7\",\"April 26, 2021 7\",\"April 27, 2021 7\",\"April 28, 2021 7\",\"April 29, 2021 7\",\"April 30, 2021 7\",\"May 02, 2021 7\",\"May 04, 2021 7\",\"May 05, 2021 7\",\"May 06, 2021 7\",\"April 28, 2021 8\",\"May 01, 2021 8\",\"May 05, 2021 8\",\"May 07, 2021 8\",\"May 10, 2021 8\",\"May 25, 2021 11\",\"May 26, 2021 11\",\"May 27, 2021 11\",\"May 28, 2021 11\",\"June 02, 2021 11\",\"June 04, 2021 11\",\"June 06, 2021 11\",\"June 07, 2021 15\",\"June 08, 2021 15\",\"June 09, 2021 15\",\"June 14, 2021 15\",\"June 17, 2021 16\",\"June 18, 2021 16\",\"June 19, 2021 16\",\"June 20, 2021 16\",\"June 21, 2021 16\",\"June 22, 2021 16\",\"June 24, 2021 16\",\"June 26, 2021 16\",\"June 29, 2021 19\",\"July 13, 2021 22\",\"July 15, 2021 22\",\"July 13, 2021 23\",\"July 18, 2021 23\",\"July 21, 2021 23\",\"July 21, 2021 27\",\"July 24, 2021 27\",\"July 26, 2021 27\",\"July 27, 2021 27\",\"July 28, 2021 27\",\"July 31, 2021 27\",\"July 24, 2021 30\",\"July 30, 2021 30\",\"August 12, 2021 33\",\"August 15, 2021 33\",\"August 16, 2021 33\",\"August 17, 2021 33\",\"August 21, 2021 33\",\"August 24, 2021 33\",\"August 15, 2021 34\",\"August 16, 2021 34\",\"August 17, 2021 34\",\"August 18, 2021 34\",\"August 19, 2021 34\",\"August 25, 2021 34\"],\"y\":[15.189873417721518,48.75,18.75,50.0,57.5,73.80952380952381,45.65217391304348,66.25,6.818181818181818,7.228915662650603,7.228915662650603,27.38095238095238,45.88235294117647,35.632183908045974,31.11111111111111,17.857142857142858,53.75,45.78313253012048,0.0,0.0,0.0,1.2345679012345678,0.0,35.0,46.06741573033708,37.5,57.83132530120482,73.75,71.25,80.48780487804878,54.6875,59.09090909090909,57.89473684210526,57.8125,68.96551724137932,40.74074074074074,61.76470588235294,55.55555555555556,87.6923076923077,76.27118644067797,70.37037037037037,50.0,42.028985507246375,0.0,0.0,37.5,42.68292682926829,56.25,70.65217391304348,77.5,85.0,80.0,90.0,87.65432098765432,60.65573770491803,65.07936507936508,28.75,48.86363636363637,65.0,68.75,50.0,28.75,38.775510204081634,40.625,42.10526315789474,70.83333333333333,35.59322033898305,56.52173913043478],\"type\":\"box\"},{\"boxpoints\":\"all\",\"name\":\"3\",\"text\":[\"April 10, 2021 1\",\"April 21, 2021 1\",\"April 24, 2021 7\",\"April 29, 2021 8\",\"April 30, 2021 8\",\"May 02, 2021 8\",\"May 08, 2021 8\",\"May 29, 2021 11\",\"May 30, 2021 11\",\"May 31, 2021 11\",\"June 01, 2021 11\",\"June 11, 2021 15\",\"July 02, 2021 19\",\"July 12, 2021 22\",\"July 15, 2021 23\",\"July 17, 2021 23\",\"July 19, 2021 23\",\"July 20, 2021 23\",\"July 13, 2021 24\",\"July 25, 2021 27\",\"August 13, 2021 33\",\"August 14, 2021 33\",\"August 19, 2021 33\",\"August 14, 2021 34\",\"August 23, 2021 34\",\"August 24, 2021 34\",\"August 26, 2021 34\"],\"y\":[14.814814814814815,43.75,4.878048780487805,0.0,0.0,0.0,0.0,58.62068965517241,72.22222222222223,63.75,60.0,62.5,18.840579710144926,0.0,68.18181818181819,52.054794520547944,32.5,38.27160493827161,67.12328767123287,92.5,17.5,43.75,52.5,33.898305084745765,54.054054054054056,33.9622641509434,34.48275862068966],\"type\":\"box\"}],                        {\"font\":{\"color\":\"black\",\"family\":\"Helvetica\",\"size\":24},\"plot_bgcolor\":\"#FFF\",\"xaxis\":{\"linecolor\":\"black\",\"showgrid\":false},\"yaxis\":{\"linecolor\":\"black\",\"showgrid\":false,\"title\":{\"text\":\"TIR 54-140\"},\"range\":[0,101]},\"template\":{\"data\":{\"histogram2dcontour\":[{\"type\":\"histogram2dcontour\",\"colorbar\":{\"outlinewidth\":0,\"ticks\":\"\"},\"colorscale\":[[0.0,\"#0d0887\"],[0.1111111111111111,\"#46039f\"],[0.2222222222222222,\"#7201a8\"],[0.3333333333333333,\"#9c179e\"],[0.4444444444444444,\"#bd3786\"],[0.5555555555555556,\"#d8576b\"],[0.6666666666666666,\"#ed7953\"],[0.7777777777777778,\"#fb9f3a\"],[0.8888888888888888,\"#fdca26\"],[1.0,\"#f0f921\"]]}],\"choropleth\":[{\"type\":\"choropleth\",\"colorbar\":{\"outlinewidth\":0,\"ticks\":\"\"}}],\"histogram2d\":[{\"type\":\"histogram2d\",\"colorbar\":{\"outlinewidth\":0,\"ticks\":\"\"},\"colorscale\":[[0.0,\"#0d0887\"],[0.1111111111111111,\"#46039f\"],[0.2222222222222222,\"#7201a8\"],[0.3333333333333333,\"#9c179e\"],[0.4444444444444444,\"#bd3786\"],[0.5555555555555556,\"#d8576b\"],[0.6666666666666666,\"#ed7953\"],[0.7777777777777778,\"#fb9f3a\"],[0.8888888888888888,\"#fdca26\"],[1.0,\"#f0f921\"]]}],\"heatmap\":[{\"type\":\"heatmap\",\"colorbar\":{\"outlinewidth\":0,\"ticks\":\"\"},\"colorscale\":[[0.0,\"#0d0887\"],[0.1111111111111111,\"#46039f\"],[0.2222222222222222,\"#7201a8\"],[0.3333333333333333,\"#9c179e\"],[0.4444444444444444,\"#bd3786\"],[0.5555555555555556,\"#d8576b\"],[0.6666666666666666,\"#ed7953\"],[0.7777777777777778,\"#fb9f3a\"],[0.8888888888888888,\"#fdca26\"],[1.0,\"#f0f921\"]]}],\"heatmapgl\":[{\"type\":\"heatmapgl\",\"colorbar\":{\"outlinewidth\":0,\"ticks\":\"\"},\"colorscale\":[[0.0,\"#0d0887\"],[0.1111111111111111,\"#46039f\"],[0.2222222222222222,\"#7201a8\"],[0.3333333333333333,\"#9c179e\"],[0.4444444444444444,\"#bd3786\"],[0.5555555555555556,\"#d8576b\"],[0.6666666666666666,\"#ed7953\"],[0.7777777777777778,\"#fb9f3a\"],[0.8888888888888888,\"#fdca26\"],[1.0,\"#f0f921\"]]}],\"contourcarpet\":[{\"type\":\"contourcarpet\",\"colorbar\":{\"outlinewidth\":0,\"ticks\":\"\"}}],\"contour\":[{\"type\":\"contour\",\"colorbar\":{\"outlinewidth\":0,\"ticks\":\"\"},\"colorscale\":[[0.0,\"#0d0887\"],[0.1111111111111111,\"#46039f\"],[0.2222222222222222,\"#7201a8\"],[0.3333333333333333,\"#9c179e\"],[0.4444444444444444,\"#bd3786\"],[0.5555555555555556,\"#d8576b\"],[0.6666666666666666,\"#ed7953\"],[0.7777777777777778,\"#fb9f3a\"],[0.8888888888888888,\"#fdca26\"],[1.0,\"#f0f921\"]]}],\"surface\":[{\"type\":\"surface\",\"colorbar\":{\"outlinewidth\":0,\"ticks\":\"\"},\"colorscale\":[[0.0,\"#0d0887\"],[0.1111111111111111,\"#46039f\"],[0.2222222222222222,\"#7201a8\"],[0.3333333333333333,\"#9c179e\"],[0.4444444444444444,\"#bd3786\"],[0.5555555555555556,\"#d8576b\"],[0.6666666666666666,\"#ed7953\"],[0.7777777777777778,\"#fb9f3a\"],[0.8888888888888888,\"#fdca26\"],[1.0,\"#f0f921\"]]}],\"mesh3d\":[{\"type\":\"mesh3d\",\"colorbar\":{\"outlinewidth\":0,\"ticks\":\"\"}}],\"scatter\":[{\"fillpattern\":{\"fillmode\":\"overlay\",\"size\":10,\"solidity\":0.2},\"type\":\"scatter\"}],\"parcoords\":[{\"type\":\"parcoords\",\"line\":{\"colorbar\":{\"outlinewidth\":0,\"ticks\":\"\"}}}],\"scatterpolargl\":[{\"type\":\"scatterpolargl\",\"marker\":{\"colorbar\":{\"outlinewidth\":0,\"ticks\":\"\"}}}],\"bar\":[{\"error_x\":{\"color\":\"#2a3f5f\"},\"error_y\":{\"color\":\"#2a3f5f\"},\"marker\":{\"line\":{\"color\":\"#E5ECF6\",\"width\":0.5},\"pattern\":{\"fillmode\":\"overlay\",\"size\":10,\"solidity\":0.2}},\"type\":\"bar\"}],\"scattergeo\":[{\"type\":\"scattergeo\",\"marker\":{\"colorbar\":{\"outlinewidth\":0,\"ticks\":\"\"}}}],\"scatterpolar\":[{\"type\":\"scatterpolar\",\"marker\":{\"colorbar\":{\"outlinewidth\":0,\"ticks\":\"\"}}}],\"histogram\":[{\"marker\":{\"pattern\":{\"fillmode\":\"overlay\",\"size\":10,\"solidity\":0.2}},\"type\":\"histogram\"}],\"scattergl\":[{\"type\":\"scattergl\",\"marker\":{\"colorbar\":{\"outlinewidth\":0,\"ticks\":\"\"}}}],\"scatter3d\":[{\"type\":\"scatter3d\",\"line\":{\"colorbar\":{\"outlinewidth\":0,\"ticks\":\"\"}},\"marker\":{\"colorbar\":{\"outlinewidth\":0,\"ticks\":\"\"}}}],\"scattermapbox\":[{\"type\":\"scattermapbox\",\"marker\":{\"colorbar\":{\"outlinewidth\":0,\"ticks\":\"\"}}}],\"scatterternary\":[{\"type\":\"scatterternary\",\"marker\":{\"colorbar\":{\"outlinewidth\":0,\"ticks\":\"\"}}}],\"scattercarpet\":[{\"type\":\"scattercarpet\",\"marker\":{\"colorbar\":{\"outlinewidth\":0,\"ticks\":\"\"}}}],\"carpet\":[{\"aaxis\":{\"endlinecolor\":\"#2a3f5f\",\"gridcolor\":\"white\",\"linecolor\":\"white\",\"minorgridcolor\":\"white\",\"startlinecolor\":\"#2a3f5f\"},\"baxis\":{\"endlinecolor\":\"#2a3f5f\",\"gridcolor\":\"white\",\"linecolor\":\"white\",\"minorgridcolor\":\"white\",\"startlinecolor\":\"#2a3f5f\"},\"type\":\"carpet\"}],\"table\":[{\"cells\":{\"fill\":{\"color\":\"#EBF0F8\"},\"line\":{\"color\":\"white\"}},\"header\":{\"fill\":{\"color\":\"#C8D4E3\"},\"line\":{\"color\":\"white\"}},\"type\":\"table\"}],\"barpolar\":[{\"marker\":{\"line\":{\"color\":\"#E5ECF6\",\"width\":0.5},\"pattern\":{\"fillmode\":\"overlay\",\"size\":10,\"solidity\":0.2}},\"type\":\"barpolar\"}],\"pie\":[{\"automargin\":true,\"type\":\"pie\"}]},\"layout\":{\"autotypenumbers\":\"strict\",\"colorway\":[\"#636efa\",\"#EF553B\",\"#00cc96\",\"#ab63fa\",\"#FFA15A\",\"#19d3f3\",\"#FF6692\",\"#B6E880\",\"#FF97FF\",\"#FECB52\"],\"font\":{\"color\":\"#2a3f5f\"},\"hovermode\":\"closest\",\"hoverlabel\":{\"align\":\"left\"},\"paper_bgcolor\":\"white\",\"plot_bgcolor\":\"#E5ECF6\",\"polar\":{\"bgcolor\":\"#E5ECF6\",\"angularaxis\":{\"gridcolor\":\"white\",\"linecolor\":\"white\",\"ticks\":\"\"},\"radialaxis\":{\"gridcolor\":\"white\",\"linecolor\":\"white\",\"ticks\":\"\"}},\"ternary\":{\"bgcolor\":\"#E5ECF6\",\"aaxis\":{\"gridcolor\":\"white\",\"linecolor\":\"white\",\"ticks\":\"\"},\"baxis\":{\"gridcolor\":\"white\",\"linecolor\":\"white\",\"ticks\":\"\"},\"caxis\":{\"gridcolor\":\"white\",\"linecolor\":\"white\",\"ticks\":\"\"}},\"coloraxis\":{\"colorbar\":{\"outlinewidth\":0,\"ticks\":\"\"}},\"colorscale\":{\"sequential\":[[0.0,\"#0d0887\"],[0.1111111111111111,\"#46039f\"],[0.2222222222222222,\"#7201a8\"],[0.3333333333333333,\"#9c179e\"],[0.4444444444444444,\"#bd3786\"],[0.5555555555555556,\"#d8576b\"],[0.6666666666666666,\"#ed7953\"],[0.7777777777777778,\"#fb9f3a\"],[0.8888888888888888,\"#fdca26\"],[1.0,\"#f0f921\"]],\"sequentialminus\":[[0.0,\"#0d0887\"],[0.1111111111111111,\"#46039f\"],[0.2222222222222222,\"#7201a8\"],[0.3333333333333333,\"#9c179e\"],[0.4444444444444444,\"#bd3786\"],[0.5555555555555556,\"#d8576b\"],[0.6666666666666666,\"#ed7953\"],[0.7777777777777778,\"#fb9f3a\"],[0.8888888888888888,\"#fdca26\"],[1.0,\"#f0f921\"]],\"diverging\":[[0,\"#8e0152\"],[0.1,\"#c51b7d\"],[0.2,\"#de77ae\"],[0.3,\"#f1b6da\"],[0.4,\"#fde0ef\"],[0.5,\"#f7f7f7\"],[0.6,\"#e6f5d0\"],[0.7,\"#b8e186\"],[0.8,\"#7fbc41\"],[0.9,\"#4d9221\"],[1,\"#276419\"]]},\"xaxis\":{\"gridcolor\":\"white\",\"linecolor\":\"white\",\"ticks\":\"\",\"title\":{\"standoff\":15},\"zerolinecolor\":\"white\",\"automargin\":true,\"zerolinewidth\":2},\"yaxis\":{\"gridcolor\":\"white\",\"linecolor\":\"white\",\"ticks\":\"\",\"title\":{\"standoff\":15},\"zerolinecolor\":\"white\",\"automargin\":true,\"zerolinewidth\":2},\"scene\":{\"xaxis\":{\"backgroundcolor\":\"#E5ECF6\",\"gridcolor\":\"white\",\"linecolor\":\"white\",\"showbackground\":true,\"ticks\":\"\",\"zerolinecolor\":\"white\",\"gridwidth\":2},\"yaxis\":{\"backgroundcolor\":\"#E5ECF6\",\"gridcolor\":\"white\",\"linecolor\":\"white\",\"showbackground\":true,\"ticks\":\"\",\"zerolinecolor\":\"white\",\"gridwidth\":2},\"zaxis\":{\"backgroundcolor\":\"#E5ECF6\",\"gridcolor\":\"white\",\"linecolor\":\"white\",\"showbackground\":true,\"ticks\":\"\",\"zerolinecolor\":\"white\",\"gridwidth\":2}},\"shapedefaults\":{\"line\":{\"color\":\"#2a3f5f\"}},\"annotationdefaults\":{\"arrowcolor\":\"#2a3f5f\",\"arrowhead\":0,\"arrowwidth\":1},\"geo\":{\"bgcolor\":\"white\",\"landcolor\":\"#E5ECF6\",\"subunitcolor\":\"white\",\"showland\":true,\"showlakes\":true,\"lakecolor\":\"white\"},\"title\":{\"x\":0.05},\"mapbox\":{\"style\":\"light\"}}}},                        {\"responsive\": true}                    ).then(function(){\n",
       "                            \n",
       "var gd = document.getElementById('b5ebb574-770f-4440-b079-b00d32dfec06');\n",
       "var x = new MutationObserver(function (mutations, observer) {{\n",
       "        var display = window.getComputedStyle(gd).display;\n",
       "        if (!display || display === 'none') {{\n",
       "            console.log([gd, 'removed!']);\n",
       "            Plotly.purge(gd);\n",
       "            observer.disconnect();\n",
       "        }}\n",
       "}});\n",
       "\n",
       "// Listen for the removal of the full notebook cells\n",
       "var notebookContainer = gd.closest('#notebook-container');\n",
       "if (notebookContainer) {{\n",
       "    x.observe(notebookContainer, {childList: true});\n",
       "}}\n",
       "\n",
       "// Listen for the clearing of the current output cell\n",
       "var outputEl = gd.closest('.output');\n",
       "if (outputEl) {{\n",
       "    x.observe(outputEl, {childList: true});\n",
       "}}\n",
       "\n",
       "                        })                };                });            </script>        </div>"
      ]
     },
     "metadata": {},
     "output_type": "display_data"
    }
   ],
   "source": [
    "\n",
    "df_all_days_c2 = df_all_day[(df_all_day['status']=='T2D')].reset_index(drop=True)\n",
    "# [(df_all_day['status']=='pre-T2D')].reset_index(drop=True)\n",
    "\n",
    "sum_name = df_all_days_c2['all_freq_big_meal']\n",
    "\n",
    "# str_name = np.array([str(df_all_days_c2.loc[x, 'meal_1'])+str(df_all_days_c2.loc[x, 'meal_2'])+str(df_all_days_c2.loc[x, 'meal_3']) for x in range(len(df_all_days_c2))]) \n",
    "TIR =  df_all_days_c2['tir'].values  \n",
    "descript = np.array([df_all_days_c2.loc[x, 'date'].strftime(\"%B %d, %Y\")+\" \"+str(df_all_days_c2.loc[x, 'uid']) for x in range(len(df_all_days_c2))])\n",
    "\n",
    "fig = go.Figure(layout = go.Layout(\n",
    "            plot_bgcolor=\"#FFF\",  # Sets background color to white\n",
    "            xaxis=dict(\n",
    "                linecolor=\"black\",  # Sets color of X-axis line\n",
    "                showgrid=False  # Removes X-axis grid lines\n",
    "            ),\n",
    "            yaxis=dict(\n",
    "                title=\"TIR 54-140\",  \n",
    "                linecolor=\"black\",  # Sets color of Y-axis line\n",
    "                showgrid=False,  # Removes Y-axis grid lines    \n",
    "            ),\n",
    "            font=dict(\n",
    "                family=\"Helvetica\",\n",
    "                size=24,\n",
    "                color=\"black\"\n",
    "            )\n",
    "        ))\n",
    "fig.update_yaxes(range=[0, 101])\n",
    "# fig.add_trace(go.Box(y=[50,50], boxpoints='all', text= descript[np.where(str_name == ty)[0]], boxmean=False, name=0))\n",
    "for ty in [0, 1, 2, 3]:\n",
    "    print(len(np.where(sum_name == ty)[0]))\n",
    "    \n",
    "    if len(np.where(sum_name == ty)[0]) !=0 :\n",
    "\n",
    "        fig.add_trace(go.Box(y=TIR[np.where(sum_name == ty)[0]],boxpoints='all',  text= descript[np.where(sum_name == ty)[0]], name=ty))\n",
    "    else:\n",
    "        \n",
    "        fig.add_trace(go.Box(y=[50,50], boxpoints='all', text= descript[np.where(sum_name == ty)[0]], name=ty))\n",
    "        \n",
    "\n",
    "        \n",
    "fig.show()\n",
    "# fig.write_image(\"/Users/amrutapai/Documents/SDRIpaper1/tir_atrisk_revis.svg\")"
   ]
  },
  {
   "cell_type": "code",
   "execution_count": 21,
   "id": "5dee95b2",
   "metadata": {},
   "outputs": [],
   "source": [
    "df_all_day_grps = df_all_day.copy()\n",
    "# df_all_day_grps = df_all_day[(df_all_day['status']=='T2D')].reset_index(drop=True)\n",
    "df =  df_all_day_grps[['tir','avgG','base','all_freq_big_meal','activity_con','duration', 'uid','a1c']]\n",
    "data = df.copy()\n",
    "data.loc[df['all_freq_big_meal']>=4, 'all_freq_big_meal'] = 3\n",
    "data['tir_log'] = np.log(data['tir'].values + 1)\n",
    "data['avgG_log'] = np.log(data['avgG'].values)\n",
    "T = data['activity_con'].values"
   ]
  },
  {
   "cell_type": "code",
   "execution_count": 22,
   "id": "2815f93a",
   "metadata": {},
   "outputs": [],
   "source": [
    "\n",
    "%load_ext rpy2.ipython"
   ]
  },
  {
   "cell_type": "code",
   "execution_count": 23,
   "id": "16f5a5d2",
   "metadata": {
    "scrolled": false
   },
   "outputs": [
    {
     "name": "stderr",
     "output_type": "stream",
     "text": [
      "R[write to console]: Loading required package: lme4\n",
      "\n",
      "R[write to console]: Loading required package: Matrix\n",
      "\n",
      "R[write to console]: \n",
      "Attaching package: ‘lmerTest’\n",
      "\n",
      "\n",
      "R[write to console]: The following object is masked from ‘package:lme4’:\n",
      "\n",
      "    lmer\n",
      "\n",
      "\n",
      "R[write to console]: The following object is masked from ‘package:stats’:\n",
      "\n",
      "    step\n",
      "\n",
      "\n"
     ]
    },
    {
     "name": "stdout",
     "output_type": "stream",
     "text": [
      "Linear mixed model fit by REML. t-tests use Satterthwaite's method [\n",
      "lmerModLmerTest]\n",
      "Formula: \"activity_con ~ (1|uid)\"\n",
      "   Data: data\n",
      "\n",
      "REML criterion at convergence: 1933.4\n",
      "\n",
      "Scaled residuals: \n",
      "    Min      1Q  Median      3Q     Max \n",
      "-3.9915 -0.5661 -0.0760  0.4677  5.6281 \n",
      "\n",
      "Random effects:\n",
      " Groups   Name        Variance Std.Dev.\n",
      " uid      (Intercept) 16.087   4.011   \n",
      " Residual              8.319   2.884   \n",
      "Number of obs: 369, groups:  uid, 36\n",
      "\n",
      "Fixed effects:\n",
      "            Estimate Std. Error      df t value Pr(>|t|)    \n",
      "(Intercept)   7.9331     0.6895 35.7437   11.51 1.43e-13 ***\n",
      "---\n",
      "Signif. codes:  0 ‘***’ 0.001 ‘**’ 0.01 ‘*’ 0.05 ‘.’ 0.1 ‘ ’ 1\n",
      "Linear mixed model fit by REML. t-tests use Satterthwaite's method [\n",
      "lmerModLmerTest]\n",
      "Formula: \"activity_con ~ (1|uid) + (all_freq_big_meal)+ base  +  duration\"\n",
      "   Data: data\n",
      "\n",
      "REML criterion at convergence: 1913.9\n",
      "\n",
      "Scaled residuals: \n",
      "    Min      1Q  Median      3Q     Max \n",
      "-3.8117 -0.5096 -0.0278  0.4468  5.7753 \n",
      "\n",
      "Random effects:\n",
      " Groups   Name        Variance Std.Dev.\n",
      " uid      (Intercept) 15.422   3.927   \n",
      " Residual              7.751   2.784   \n",
      "Number of obs: 369, groups:  uid, 36\n",
      "\n",
      "Fixed effects:\n",
      "                     Estimate Std. Error         df t value Pr(>|t|)    \n",
      "(Intercept)          2.122006   1.921378 297.989395   1.104   0.2703    \n",
      "all_freq_big_meal1  -1.047820   0.503519 334.158601  -2.081   0.0382 *  \n",
      "all_freq_big_meal2  -0.383344   0.515002 340.480838  -0.744   0.4572    \n",
      "all_freq_big_meal3  -1.175980   0.620343 343.423623  -1.896   0.0588 .  \n",
      "base                -0.009274   0.007433 348.759498  -1.248   0.2130    \n",
      "duration             0.420368   0.087803 362.661681   4.788 2.46e-06 ***\n",
      "---\n",
      "Signif. codes:  0 ‘***’ 0.001 ‘**’ 0.01 ‘*’ 0.05 ‘.’ 0.1 ‘ ’ 1\n",
      "\n",
      "Correlation of Fixed Effects:\n",
      "            (Intr) al___1 al___2 al___3 base  \n",
      "all_frq_b_1 -0.075                            \n",
      "all_frq_b_2 -0.116  0.701                     \n",
      "all_frq_b_3 -0.108  0.598  0.701              \n",
      "base        -0.470 -0.020 -0.010  0.013       \n",
      "duration    -0.817 -0.122 -0.096 -0.091  0.080\n",
      "Linear mixed model fit by REML. t-tests use Satterthwaite's method [\n",
      "lmerModLmerTest]\n",
      "Formula: \"tir~ (all_freq_big_meal) + activity_con + base  + duration+ (1|uid)\"\n",
      "   Data: data\n",
      "Weights: Tps_MLM_op1\n",
      "\n",
      "REML criterion at convergence: 2809.8\n",
      "\n",
      "Scaled residuals: \n",
      "    Min      1Q  Median      3Q     Max \n",
      "-3.2534 -0.3999  0.0650  0.4414  3.3651 \n",
      "\n",
      "Random effects:\n",
      " Groups   Name        Variance Std.Dev.\n",
      " uid      (Intercept) 444.62   21.086  \n",
      " Residual              79.71    8.928  \n",
      "Number of obs: 369, groups:  uid, 36\n",
      "\n",
      "Fixed effects:\n",
      "                    Estimate Std. Error        df t value Pr(>|t|)    \n",
      "(Intercept)         92.30200    7.05514 247.60336  13.083  < 2e-16 ***\n",
      "all_freq_big_meal1  -1.49986    1.65612 327.27033  -0.906  0.36579    \n",
      "all_freq_big_meal2  -4.16573    1.70258 329.97746  -2.447  0.01494 *  \n",
      "all_freq_big_meal3  -8.02107    2.04934 331.40141  -3.914  0.00011 ***\n",
      "activity_con         0.07203    0.16451 346.40729   0.438  0.66178    \n",
      "base                -0.22389    0.02564 358.98205  -8.731  < 2e-16 ***\n",
      "duration             0.47285    0.29231 344.80485   1.618  0.10665    \n",
      "---\n",
      "Signif. codes:  0 ‘***’ 0.001 ‘**’ 0.01 ‘*’ 0.05 ‘.’ 0.1 ‘ ’ 1\n",
      "\n",
      "Correlation of Fixed Effects:\n",
      "            (Intr) al___1 al___2 al___3 actvt_ base  \n",
      "all_frq_b_1 -0.068                                   \n",
      "all_frq_b_2 -0.100  0.714                            \n",
      "all_frq_b_3 -0.096  0.614  0.708                     \n",
      "activity_cn -0.129  0.046  0.008  0.014              \n",
      "base        -0.449 -0.002  0.005  0.015  0.008       \n",
      "duration    -0.724 -0.146 -0.116 -0.102 -0.087  0.085\n",
      "Linear mixed model fit by REML. t-tests use Satterthwaite's method [\n",
      "lmerModLmerTest]\n",
      "Formula: \"avgG~ (all_freq_big_meal) + activity_con + base  + duration+ (1|uid)\"\n",
      "   Data: data\n",
      "Weights: Tps_MLM_op1\n",
      "\n",
      "REML criterion at convergence: 2728.1\n",
      "\n",
      "Scaled residuals: \n",
      "    Min      1Q  Median      3Q     Max \n",
      "-4.5808 -0.4539 -0.0615  0.4452  4.1676 \n",
      "\n",
      "Random effects:\n",
      " Groups   Name        Variance Std.Dev.\n",
      " uid      (Intercept) 1212.41  34.820  \n",
      " Residual               55.88   7.476  \n",
      "Number of obs: 369, groups:  uid, 36\n",
      "\n",
      "Fixed effects:\n",
      "                    Estimate Std. Error        df t value Pr(>|t|)    \n",
      "(Intercept)         91.78384    7.80358 100.13056  11.762  < 2e-16 ***\n",
      "all_freq_big_meal1   2.45116    1.38836 326.00673   1.766   0.0784 .  \n",
      "all_freq_big_meal2   5.66560    1.42950 326.75334   3.963 9.08e-05 ***\n",
      "all_freq_big_meal3   7.64380    1.72212 327.18678   4.439 1.24e-05 ***\n",
      "activity_con        -0.33046    0.13959 331.73255  -2.367   0.0185 *  \n",
      "base                 0.33288    0.02206 337.96199  15.092  < 2e-16 ***\n",
      "duration            -0.42725    0.24775 331.19820  -1.725   0.0855 .  \n",
      "---\n",
      "Signif. codes:  0 ‘***’ 0.001 ‘**’ 0.01 ‘*’ 0.05 ‘.’ 0.1 ‘ ’ 1\n",
      "\n",
      "Correlation of Fixed Effects:\n",
      "            (Intr) al___1 al___2 al___3 actvt_ base  \n",
      "all_frq_b_1 -0.050                                   \n",
      "all_frq_b_2 -0.077  0.713                            \n",
      "all_frq_b_3 -0.075  0.614  0.709                     \n",
      "activity_cn -0.096  0.046  0.007  0.013              \n",
      "base        -0.353 -0.001  0.012  0.021 -0.001       \n",
      "duration    -0.558 -0.147 -0.115 -0.101 -0.087  0.094\n"
     ]
    }
   ],
   "source": [
    "%%R -i data,T -o betas,fitted_val,resid_val,Tps_MLM_op1\n",
    "library(lmerTest)\n",
    "data$all_freq_big_meal <- factor(data$all_freq_big_meal, levels=0:3)\n",
    "num.mod <- lmer('activity_con ~ (1|uid)', data=data,) # numerator model for option 1\n",
    "print(summary(num.mod))\n",
    "den.mod <- lmer('activity_con ~ (1|uid) + (all_freq_big_meal)+ base  +  duration', data=data)\n",
    "print(summary(den.mod))\n",
    "num.p_op1 <- dnorm(T, mean = fitted(num.mod), sd = attr(VarCorr(num.mod), \"sc\"))\n",
    "den.p <- dnorm(T, mean = fitted(den.mod), sd = attr(VarCorr(den.mod), \"sc\"))\n",
    "Tps_MLM_op1 <- num.p_op1/den.p\n",
    "m1<-lmer('tir~ (all_freq_big_meal) + activity_con + base  + duration+ (1|uid)', data=data, weight=Tps_MLM_op1)\n",
    "print(summary(m1))\n",
    "m<-lmer('avgG~ (all_freq_big_meal) + activity_con + base  + duration+ (1|uid)', data=data, weight=Tps_MLM_op1)\n",
    "print(summary(m))\n",
    "betas <- fixef(m)\n",
    "fitted_val <- fitted(m)\n",
    "resid_val <- resid(m)\n"
   ]
  },
  {
   "cell_type": "code",
   "execution_count": 24,
   "id": "641fda18",
   "metadata": {},
   "outputs": [
    {
     "name": "stderr",
     "output_type": "stream",
     "text": [
      "R[write to console]:  cobalt (Version 4.4.1, Build Date: 2022-11-03)\n",
      "\n"
     ]
    },
    {
     "name": "stdout",
     "output_type": "stream",
     "text": [
      "Balance Measures\n",
      "                       Type Corr.Un\n",
      "base                Contin. -0.1853\n",
      "all_freq_big_meal_0  Binary  0.0839\n",
      "all_freq_big_meal_1  Binary -0.0763\n",
      "all_freq_big_meal_2  Binary  0.0245\n",
      "all_freq_big_meal_3  Binary -0.0205\n",
      "duration            Contin.  0.1477\n",
      "\n",
      "Sample sizes\n",
      "    Total\n",
      "All   369\n"
     ]
    }
   ],
   "source": [
    "%%R -i data,Tps_MLM_op1\n",
    "library(\"cobalt\")\n",
    "data$all_freq_big_meal <- factor(data$all_freq_big_meal, levels=0:3)\n",
    "covs <- subset(data, select = -c(activity_con, a1c, tir, tir_log, avgG_log, avgG, uid))\n",
    "bal.tab(covs, stats = c(\"correlations\", \"ks.statistics\"), treat = data$activity_con)\n"
   ]
  },
  {
   "cell_type": "code",
   "execution_count": 25,
   "id": "7502bea7",
   "metadata": {},
   "outputs": [
    {
     "name": "stdout",
     "output_type": "stream",
     "text": [
      "Balance Measures\n",
      "                       Type Corr.Adj KS.Adj\n",
      "base                Contin.  -0.1785 0.0121\n",
      "all_freq_big_meal_0  Binary   0.0254 0.0087\n",
      "all_freq_big_meal_1  Binary  -0.0463 0.0062\n",
      "all_freq_big_meal_2  Binary   0.0270 0.0023\n",
      "all_freq_big_meal_3  Binary  -0.0040 0.0002\n",
      "duration            Contin.   0.0949 0.0077\n",
      "\n",
      "Effective sample sizes\n",
      "            Total\n",
      "Unadjusted 369.  \n",
      "Adjusted   345.06\n"
     ]
    }
   ],
   "source": [
    "%%R -i data,Tps_MLM_op1\n",
    "library(\"cobalt\")\n",
    "data$all_freq_big_meal <- factor(data$all_freq_big_meal, levels=0:3)\n",
    "covs <- subset(data, select = -c(activity_con, tir, a1c, tir_log, avgG_log, avgG, uid))\n",
    "bal.tab(covs, stats = c(\"correlations\", \"ks.statistics.target\"), treat = data$activity_con, weights= Tps_MLM_op1)\n"
   ]
  },
  {
   "cell_type": "code",
   "execution_count": 26,
   "id": "f098cc4f",
   "metadata": {},
   "outputs": [],
   "source": [
    "df_all_day_grps = df_all_day.copy()\n",
    "# df_all_day_grps = df_all_day[(df_all_day['status']=='T2D')].reset_index(drop=True)\n",
    "df =  df_all_day_grps[['tir','avgG','base','all_freq_big_meal','activity_con','duration', 'uid','a1c']]\n",
    "data = df.copy()\n",
    "data.loc[data['all_freq_big_meal']>=4, 'all_freq_big_meal'] = 3\n",
    "\n",
    "# data.loc[data['all_freq_big_meal']==0, 'all_freq_big_meal'] = 5\n",
    "# data.loc[data['all_freq_big_meal']==1, 'all_freq_big_meal'] = 0\n",
    "# data.loc[data['all_freq_big_meal']==5, 'all_freq_big_meal'] = 1\n",
    "\n",
    "data['tir_log'] = np.log(data['tir'].values + 1)\n",
    "data['avgG_log'] = np.log(data['avgG'].values)\n",
    "T = data['all_freq_big_meal'].values"
   ]
  },
  {
   "cell_type": "code",
   "execution_count": 27,
   "id": "63d62f69",
   "metadata": {},
   "outputs": [
    {
     "name": "stderr",
     "output_type": "stream",
     "text": [
      "R[write to console]: Warning:\n",
      "R[write to console]:  Inner iterations did not coverge - nlminb message: false convergence (8)\n",
      "\n"
     ]
    },
    {
     "name": "stdout",
     "output_type": "stream",
     "text": [
      "\n",
      "Iteration 1 - deviance = 907.7094 - criterion = 0.9354517"
     ]
    },
    {
     "name": "stderr",
     "output_type": "stream",
     "text": [
      "R[write to console]: Warning:\n",
      "R[write to console]:  Inner iterations did not coverge - nlminb message: false convergence (8)\n",
      "\n"
     ]
    },
    {
     "name": "stdout",
     "output_type": "stream",
     "text": [
      "\n",
      "Iteration 2 - deviance = 898.5497 - criterion = 0.05436598"
     ]
    },
    {
     "name": "stderr",
     "output_type": "stream",
     "text": [
      "R[write to console]: Warning:\n",
      "R[write to console]:  Inner iterations did not coverge - nlminb message: false convergence (8)\n",
      "\n"
     ]
    },
    {
     "name": "stdout",
     "output_type": "stream",
     "text": [
      "\n",
      "Iteration 3 - deviance = 897.9106 - criterion = 0.003246102"
     ]
    },
    {
     "name": "stderr",
     "output_type": "stream",
     "text": [
      "R[write to console]: Warning:\n",
      "R[write to console]:  Inner iterations did not coverge - nlminb message: false convergence (8)\n",
      "\n"
     ]
    },
    {
     "name": "stdout",
     "output_type": "stream",
     "text": [
      "\n",
      "Iteration 4 - deviance = 897.6701 - criterion = 1.611673e-05"
     ]
    },
    {
     "name": "stderr",
     "output_type": "stream",
     "text": [
      "R[write to console]: Warning:\n",
      "R[write to console]:  Inner iterations did not coverge - nlminb message: false convergence (8)\n",
      "\n"
     ]
    },
    {
     "name": "stdout",
     "output_type": "stream",
     "text": [
      "\n",
      "Iteration 5 - deviance = 897.6606 - criterion = 3.139427e-10\n",
      "converged\n",
      "\n",
      "Call:\n",
      "mblogit(formula = all_freq_big_meal ~ activity_con + duration + \n",
      "    base, data = data, random = ~1 | uid)\n",
      "\n",
      "Equation for 1 vs 0:\n",
      "              Estimate Std. Error z value Pr(>|z|)  \n",
      "(Intercept)  -2.408722   1.430730  -1.684   0.0923 .\n",
      "activity_con -0.074430   0.040377  -1.843   0.0653 .\n",
      "duration      0.149122   0.072044   2.070   0.0385 *\n",
      "base          0.011075   0.008444   1.312   0.1897  \n",
      "\n",
      "Equation for 2 vs 0:\n",
      "              Estimate Std. Error z value Pr(>|z|)  \n",
      "(Intercept)  -2.294517   1.526745  -1.503   0.1329  \n",
      "activity_con -0.020985   0.040472  -0.519   0.6041  \n",
      "duration      0.118269   0.076864   1.539   0.1239  \n",
      "base          0.015320   0.008639   1.773   0.0762 .\n",
      "\n",
      "Equation for 3 vs 0:\n",
      "              Estimate Std. Error z value Pr(>|z|)  \n",
      "(Intercept)  -3.474231   1.841788  -1.886   0.0592 .\n",
      "activity_con -0.067153   0.052258  -1.285   0.1988  \n",
      "duration      0.158176   0.093623   1.690   0.0911 .\n",
      "base          0.013604   0.009375   1.451   0.1468  \n",
      "---\n",
      "Signif. codes:  0 ‘***’ 0.001 ‘**’ 0.01 ‘*’ 0.05 ‘.’ 0.1 ‘ ’ 1\n",
      "\n",
      "(Co-)Variances:\n",
      "Grouping level: uid \n",
      "    Estimate               Std.Err.               \n",
      "1~1 0.5306                     NaN                \n",
      "2~1 0.2660 1.1095          0.07421 0.51028        \n",
      "3~1 0.1007 1.0294 1.6355   0.11263 0.63534 0.77558\n",
      "\n",
      "Approximate residual deviance: 897.7 \n",
      "Number of Fisher scoring iterations:  5\n",
      "Number of observations\n",
      "  Groups by uid: 36\n",
      "  Individual observations:  369\n"
     ]
    }
   ],
   "source": [
    "%%R -i data -o pp\n",
    "\n",
    "library(mclogit)\n",
    "data$all_freq_big_meal <- factor(data$all_freq_big_meal, levels=0:3)\n",
    "# print(cbind(data$all_freq_big_meal, 1))\n",
    "# model_treat <- mblogit(all_freq_big_meal ~    random=~1|uid , data = data)\n",
    "model_treat <- mblogit(all_freq_big_meal ~  activity_con + duration + base, random=~1|uid, data = data)\n",
    "print(summary(model_treat))\n",
    "pp <- predict(model_treat, type=\"response\")\n",
    "\n"
   ]
  },
  {
   "cell_type": "code",
   "execution_count": 28,
   "id": "5994537c",
   "metadata": {},
   "outputs": [],
   "source": [
    "prob = 1/np.array([pp[i,data['all_freq_big_meal'].values[i]] for i in range(len(data))])\n"
   ]
  },
  {
   "cell_type": "code",
   "execution_count": 29,
   "id": "7ba13676",
   "metadata": {},
   "outputs": [
    {
     "data": {
      "text/plain": [
       "(array([10., 38., 35., 58., 53., 66., 61., 28.,  9., 11.]),\n",
       " array([0.05834136, 0.12613416, 0.19392696, 0.26171976, 0.32951257,\n",
       "        0.39730537, 0.46509817, 0.53289098, 0.60068378, 0.66847658,\n",
       "        0.73626938]),\n",
       " <BarContainer object of 10 artists>)"
      ]
     },
     "execution_count": 29,
     "metadata": {},
     "output_type": "execute_result"
    },
    {
     "data": {
      "image/png": "[encoded data removed]",
      "text/plain": [
       "<Figure size 432x288 with 1 Axes>"
      ]
     },
     "metadata": {
      "needs_background": "light"
     },
     "output_type": "display_data"
    }
   ],
   "source": [
    "plt.hist(np.array([pp[i,data['all_freq_big_meal'].values[i]] for i in range(len(data))]))"
   ]
  },
  {
   "cell_type": "code",
   "execution_count": 30,
   "id": "d00d3272",
   "metadata": {},
   "outputs": [
    {
     "name": "stdout",
     "output_type": "stream",
     "text": [
      "Linear mixed model fit by REML. t-tests use Satterthwaite's method [\n",
      "lmerModLmerTest]\n",
      "Formula: \"tir~ all_freq_big_meal + activity_con + base + duration + (1|uid)\"\n",
      "   Data: data\n",
      "Weights: prob\n",
      "\n",
      "REML criterion at convergence: 2840.6\n",
      "\n",
      "Scaled residuals: \n",
      "    Min      1Q  Median      3Q     Max \n",
      "-3.7169 -0.4173  0.0555  0.4480  4.2805 \n",
      "\n",
      "Random effects:\n",
      " Groups   Name        Variance Std.Dev.\n",
      " uid      (Intercept) 460.6    21.46   \n",
      " Residual             260.2    16.13   \n",
      "Number of obs: 369, groups:  uid, 36\n",
      "\n",
      "Fixed effects:\n",
      "                    Estimate Std. Error        df t value Pr(>|t|)    \n",
      "(Intercept)         89.85864    7.22047 242.80395  12.445  < 2e-16 ***\n",
      "all_freq_big_meal1  -1.35387    1.44158 326.54832  -0.939  0.34835    \n",
      "all_freq_big_meal2  -4.37653    1.46695 328.12805  -2.983  0.00306 ** \n",
      "all_freq_big_meal3  -8.41784    1.64493 329.80928  -5.117 5.27e-07 ***\n",
      "activity_con        -0.19633    0.17586 347.83181  -1.116  0.26501    \n",
      "base                -0.23372    0.02714 359.82559  -8.613 2.27e-16 ***\n",
      "duration             0.78620    0.30268 347.00170   2.597  0.00979 ** \n",
      "---\n",
      "Signif. codes:  0 ‘***’ 0.001 ‘**’ 0.01 ‘*’ 0.05 ‘.’ 0.1 ‘ ’ 1\n",
      "\n",
      "Correlation of Fixed Effects:\n",
      "            (Intr) al___1 al___2 al___3 actvt_ base  \n",
      "all_frq_b_1 -0.092                                   \n",
      "all_frq_b_2 -0.121  0.615                            \n",
      "all_frq_b_3 -0.125  0.577  0.602                     \n",
      "activity_cn -0.046  0.115  0.079  0.124              \n",
      "base        -0.469  0.006  0.063  0.055  0.004       \n",
      "duration    -0.721 -0.075 -0.061 -0.057 -0.229  0.088\n",
      "Linear mixed model fit by REML. t-tests use Satterthwaite's method [\n",
      "lmerModLmerTest]\n",
      "Formula: \"avgG~ all_freq_big_meal + activity_con + base + duration + (1|uid)\"\n",
      "   Data: data\n",
      "Weights: prob\n",
      "Control: lmerControl(optimizer = \"bobyqa\", optCtrl = list(maxfun = 2e+05))\n",
      "\n",
      "REML criterion at convergence: 2763.4\n",
      "\n",
      "Scaled residuals: \n",
      "    Min      1Q  Median      3Q     Max \n",
      "-3.4259 -0.4171 -0.0600  0.4386  4.8330 \n",
      "\n",
      "Random effects:\n",
      " Groups   Name        Variance Std.Dev.\n",
      " uid      (Intercept) 1013.1   31.83   \n",
      " Residual              189.3   13.76   \n",
      "Number of obs: 369, groups:  uid, 36\n",
      "\n",
      "Fixed effects:\n",
      "                    Estimate Std. Error        df t value Pr(>|t|)    \n",
      "(Intercept)         92.41060    7.61041 121.34467  12.143  < 2e-16 ***\n",
      "all_freq_big_meal1   1.74744    1.23065 325.79701   1.420   0.1566    \n",
      "all_freq_big_meal2   5.83066    1.25331 326.36151   4.652 4.78e-06 ***\n",
      "all_freq_big_meal3   7.64965    1.40658 326.97510   5.438 1.05e-07 ***\n",
      "activity_con        -0.27102    0.15197 333.95535  -1.783   0.0754 .  \n",
      "base                 0.32765    0.02374 341.67245  13.801  < 2e-16 ***\n",
      "duration            -0.50794    0.26143 333.72389  -1.943   0.0529 .  \n",
      "---\n",
      "Signif. codes:  0 ‘***’ 0.001 ‘**’ 0.01 ‘*’ 0.05 ‘.’ 0.1 ‘ ’ 1\n",
      "\n",
      "Correlation of Fixed Effects:\n",
      "            (Intr) al___1 al___2 al___3 actvt_ base  \n",
      "all_frq_b_1 -0.074                                   \n",
      "all_frq_b_2 -0.100  0.615                            \n",
      "all_frq_b_3 -0.104  0.577  0.603                     \n",
      "activity_cn -0.033  0.116  0.079  0.124              \n",
      "base        -0.396  0.007  0.067  0.060 -0.005       \n",
      "duration    -0.596 -0.076 -0.060 -0.056 -0.232  0.103\n"
     ]
    }
   ],
   "source": [
    "%%R -i data,prob -o resid_val\n",
    "library(lmerTest)\n",
    "library(emmeans)\n",
    "data$all_freq_big_meal <- factor(data$all_freq_big_meal, levels=0:3)\n",
    "\n",
    "data$duration= data$duration\n",
    "m<-lmer('tir~ all_freq_big_meal + activity_con + base + duration + (1|uid)', data=data, weights=prob)\n",
    "\n",
    "# print(lsmeans(m, pairwise~all_freq_big_meal))\n",
    "print(summary(m))\n",
    "m1<-lmer('avgG~ all_freq_big_meal + activity_con + base + duration + (1|uid)', data=data, weights=prob, control=lmerControl(optimizer=\"bobyqa\",\n",
    "                            optCtrl=list(maxfun=2e5)))\n",
    "print(summary(m1))\n",
    "resid_val <- residuals(m1, type='pearson')\n",
    "\n",
    "# betas <- fixef(m)\n",
    "# fitted_val <- fitted(m)\n",
    "\n"
   ]
  },
  {
   "cell_type": "code",
   "execution_count": 31,
   "id": "7611795b",
   "metadata": {},
   "outputs": [
    {
     "name": "stdout",
     "output_type": "stream",
     "text": [
      "Balance summary across all treatment pairs\n",
      "                Type Max.Diff.Un\n",
      "base         Contin.      0.5736\n",
      "activity_con Contin.      0.3272\n",
      "duration     Contin.      0.3851\n",
      "\n",
      "Sample sizes\n",
      "     0   1   2  3\n",
      "All 55 103 149 62\n"
     ]
    }
   ],
   "source": [
    "%%R -i data,prob\n",
    "\n",
    "library(\"cobalt\")\n",
    "data$all_freq_big_meal <- factor(data$all_freq_big_meal, levels=0:4)\n",
    "covs <- subset(data, select = -c(all_freq_big_meal, tir, tir_log, avgG_log, a1c, avgG, uid))\n",
    "bal.tab(covs, treat = data$all_freq_big_meal, stats=\"m\", s.d.denom='pooled')\n",
    "\n",
    "\n"
   ]
  },
  {
   "cell_type": "code",
   "execution_count": 32,
   "id": "4bea276d",
   "metadata": {},
   "outputs": [
    {
     "name": "stdout",
     "output_type": "stream",
     "text": [
      "Balance summary across all treatment pairs\n",
      "                Type Max.Diff.Adj\n",
      "base         Contin.       0.4100\n",
      "activity_con Contin.       0.2465\n",
      "duration     Contin.       0.1098\n",
      "\n",
      "Effective sample sizes\n",
      "               0      1      2     3\n",
      "Unadjusted 55.   103.   149.   62.  \n",
      "Adjusted   40.44  82.07 136.59 52.78\n"
     ]
    }
   ],
   "source": [
    "%%R -i data,prob\n",
    "library(\"cobalt\")\n",
    "data$all_freq_big_meal <- factor(data$all_freq_big_meal, levels=0:4)\n",
    "covs <- subset(data, select = -c(all_freq_big_meal, tir, tir_log, avgG_log, a1c, avgG, uid))\n",
    "bal.tab(covs, treat = data$all_freq_big_meal, weights = prob, stats=\"m\", s.d.denom='pooled')\n",
    "\n"
   ]
  },
  {
   "cell_type": "code",
   "execution_count": null,
   "id": "48a10115",
   "metadata": {},
   "outputs": [],
   "source": [
    "s=[1,2,3]\n",
    "print(s[0:2])"
   ]
  },
  {
   "cell_type": "code",
   "execution_count": null,
   "id": "be68a7d8",
   "metadata": {},
   "outputs": [],
   "source": [
    "%%R \n",
    "\n",
    "library(\"cobalt\")\n",
    "packageVersion(\"cobalt\")"
   ]
  },
  {
   "cell_type": "code",
   "execution_count": null,
   "id": "09cd281b",
   "metadata": {},
   "outputs": [],
   "source": []
  }
 ],
 "metadata": {
  "kernelspec": {
   "display_name": ".venv_diet",
   "language": "python",
   "name": ".venv_diet"
  },
  "language_info": {
   "codemirror_mode": {
    "name": "ipython",
    "version": 3
   },
   "file_extension": ".py",
   "mimetype": "text/x-python",
   "name": "python",
   "nbconvert_exporter": "python",
   "pygments_lexer": "ipython3",
   "version": "3.9.13"
  }
 },
 "nbformat": 4,
 "nbformat_minor": 5
}
